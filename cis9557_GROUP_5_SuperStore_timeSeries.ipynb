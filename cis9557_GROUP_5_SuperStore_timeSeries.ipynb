{
  "nbformat": 4,
  "nbformat_minor": 0,
  "metadata": {
    "colab": {
      "provenance": [],
      "authorship_tag": "ABX9TyMDu6nm+/7nC+5JvCu/PlDb",
      "include_colab_link": true
    },
    "kernelspec": {
      "name": "python3",
      "display_name": "Python 3"
    },
    "language_info": {
      "name": "python"
    }
  },
  "cells": [
    {
      "cell_type": "markdown",
      "metadata": {
        "id": "view-in-github",
        "colab_type": "text"
      },
      "source": [
        "<a href=\"https://colab.research.google.com/github/ProfessorPatrickSlatraigh/CIS9557_bctw/blob/main/cis9557_GROUP_5_SuperStore_timeSeries.ipynb\" target=\"_parent\"><img src=\"https://colab.research.google.com/assets/colab-badge.svg\" alt=\"Open In Colab\"/></a>"
      ]
    },
    {
      "cell_type": "markdown",
      "source": [
        "#CIS9557 SuperStore Time Series  \n",
        "<b>Scaffolding and Data Wrangling for Group 5</b>  \n",
        "<b>Using `Ship Date`, and a.) `Category`, or b.) `Region` Features</b>  \n",
        "  \n",
        "*example of data wrangling for time-series, forecasting*  \n",
        "\n"
      ],
      "metadata": {
        "id": "_GDBPCDkk_TR"
      }
    },
    {
      "cell_type": "markdown",
      "source": [
        "##0. Housekeeping  "
      ],
      "metadata": {
        "id": "dpyPdaVgnen6"
      }
    },
    {
      "cell_type": "markdown",
      "source": [
        "Import the usual suspects"
      ],
      "metadata": {
        "id": "IUF1wtcQng7f"
      }
    },
    {
      "cell_type": "code",
      "execution_count": 5,
      "metadata": {
        "id": "u-4bYmOskszB"
      },
      "outputs": [],
      "source": [
        "import pandas as pd"
      ]
    },
    {
      "cell_type": "code",
      "source": [
        "import numpy as np"
      ],
      "metadata": {
        "id": "RozwIo7_nlgy"
      },
      "execution_count": 6,
      "outputs": []
    },
    {
      "cell_type": "code",
      "source": [
        "from datetime import datetime"
      ],
      "metadata": {
        "id": "UR5oyJWjuBhs"
      },
      "execution_count": 4,
      "outputs": []
    },
    {
      "cell_type": "code",
      "source": [
        "from matplotlib import pyplot as plt"
      ],
      "metadata": {
        "id": "qvO654munoZW"
      },
      "execution_count": 7,
      "outputs": []
    },
    {
      "cell_type": "markdown",
      "source": [
        "Load (US) sample Superstore.XLS Orders spreadsheet from CSV file on Professor Patrick's Github  \n"
      ],
      "metadata": {
        "id": "YmExrkdrqECB"
      }
    },
    {
      "cell_type": "code",
      "source": [
        "!curl 'https://raw.githubusercontent.com/ProfessorPatrickSlatraigh/data/main/USsampleSuperstoreOrders_May-2024.csv' -o usOrders.csv"
      ],
      "metadata": {
        "id": "7865Sk52qRXa",
        "colab": {
          "base_uri": "https://localhost:8080/"
        },
        "outputId": "703d964c-9d36-4a0d-a03c-8b1036cc28c0"
      },
      "execution_count": 1,
      "outputs": [
        {
          "output_type": "stream",
          "name": "stdout",
          "text": [
            "  % Total    % Received % Xferd  Average Speed   Time    Time     Time  Current\n",
            "                                 Dload  Upload   Total   Spent    Left  Speed\n",
            "100 2234k  100 2234k    0     0  4475k      0 --:--:-- --:--:-- --:--:-- 4478k\n"
          ]
        }
      ]
    },
    {
      "cell_type": "markdown",
      "source": [
        "\n",
        "\n",
        "---\n",
        "\n"
      ],
      "metadata": {
        "id": "tmKoDXCRqw0y"
      }
    },
    {
      "cell_type": "markdown",
      "source": [
        "##1. Create a Date Range Scaffold  \n",
        "  \n",
        "Spin up a series of `timedate` values to use as scaffolding for time series analysis  \n"
      ],
      "metadata": {
        "id": "wX2_dASMqxn7"
      }
    },
    {
      "cell_type": "code",
      "source": [
        "def timescaffold(startIncludes='01-Jan-2020', endIncludes='31-Mar-2020', periodFrequency='daily'):\n",
        "    \"\"\"\n",
        "\n",
        "    Args:\n",
        "      startIncludes:   the scaffold series starting date in %d-%b-$Y (dd-Mmm-YYYY) format\n",
        "      endIncludes:     the scaffold series ending date in %d-%b-$Y (dd-Mmm-YYYY) format\n",
        "      periodFrequency: the frequency of the scaffold series periods (daily, weekdays, businessdays, weekly, monthly, annually)\n",
        "    \"\"\"\n",
        "\n",
        "    print(f'From {startIncludes} to {endIncludes} at a {periodFrequency} rate.\\n')\n",
        "\n",
        "    # set a pattern for the expected date format in strings (user entry)\n",
        "    date_format = '%d-%b-%Y'  # %d for day, %b for abbreviated month, %Y for four-digit year\n",
        "    # test for a missing start date parameter and prompt for a valid value\n",
        "    # if startIncludes == '01-Jan-2020':\n",
        "    goodStart = input(f'\\nThe time series will start with {startIncludes}. Is that correct? ')\n",
        "    while goodStart.lower()[0] != 'y':\n",
        "        startIncludes = input('What value would you like to start with? ')\n",
        "        try:\n",
        "            startScaffold = datetime.strptime(startIncludes, date_format)\n",
        "            goodStart='yes'\n",
        "        except:\n",
        "            print('Your input was not a valid date in the format \"dd-Mmm-YYYY\". Enter a new value.')\n",
        "    startScaffold = datetime.strptime(startIncludes, date_format)\n",
        "    print(f'Thank you.  The scaffold time series will begin with {startScaffold}.')\n",
        "    # test for a missing end date parameter and prompt for a valid value\n",
        "    # if endIncludes == '31-Mar-2020':\n",
        "    goodEnd = input(f'\\nThe time series will end with {endIncludes}. Is that correct? ')\n",
        "    while goodEnd.lower()[0] != 'y':\n",
        "        endIncludes = input('What value would you like to start with?')\n",
        "        try:\n",
        "            endScaffold = datetime.strptime(endIncludes, date_format)\n",
        "            goodEnd = 'yes'\n",
        "        except:\n",
        "            print('Your input was not a valid date in the format \"dd-Mmm-YYYY\". Enter a new value. ')\n",
        "    endScaffold = datetime.strptime(endIncludes, date_format)\n",
        "    print(f'Thank you.  The scaffold time series will end with {datetime.strptime(endIncludes, date_format)}.')\n",
        "\n",
        "    return(pd.date_range(start=startScaffold, end=endScaffold, freq='D'))\n",
        "\n"
      ],
      "metadata": {
        "id": "hICPNjc4rJ0b"
      },
      "execution_count": 8,
      "outputs": []
    },
    {
      "cell_type": "code",
      "source": [
        "scaffold = timescaffold()"
      ],
      "metadata": {
        "id": "seNIyjIuy5oA",
        "colab": {
          "base_uri": "https://localhost:8080/"
        },
        "outputId": "d7043eb5-860c-48c7-b565-a975e00d2b13"
      },
      "execution_count": 9,
      "outputs": [
        {
          "output_type": "stream",
          "name": "stdout",
          "text": [
            "From 01-Jan-2020 to 31-Mar-2020 at a daily rate.\n",
            "\n",
            "\n",
            "The time series will start with 01-Jan-2020. Is that correct? y\n",
            "Thank you.  The scaffold time series will begin with 2020-01-01 00:00:00.\n",
            "\n",
            "The time series will end with 31-Mar-2020. Is that correct? y\n",
            "Thank you.  The scaffold time series will end with 2020-03-31 00:00:00.\n"
          ]
        }
      ]
    },
    {
      "cell_type": "code",
      "source": [
        "print(len(scaffold))"
      ],
      "metadata": {
        "id": "b6rnlB-o63Hy"
      },
      "execution_count": null,
      "outputs": []
    },
    {
      "cell_type": "code",
      "source": [
        "print(scaffold)"
      ],
      "metadata": {
        "id": "UZgv5_1h6j_4"
      },
      "execution_count": null,
      "outputs": []
    },
    {
      "cell_type": "markdown",
      "source": [
        "\n",
        "\n",
        "---\n",
        "\n"
      ],
      "metadata": {
        "id": "Q4NCwUXO-gkM"
      }
    },
    {
      "cell_type": "markdown",
      "source": [
        "##2. Load Profit Dataframe  \n",
        "  \n",
        "Create a `Dataframe` of the `ShippedDate` and `Profit` variables (columns) from the `Orders` dataset (sheet) retaining the following features:  \n",
        "- `Row ID`  \n",
        "- `Ship Date`  \n",
        "- `Segment`  \n",
        "- `State`  \n",
        "- `Region`  \n",
        "- `Product ID`  \n",
        "- `Category`  \n",
        "- `Profit` (target)  \n",
        "  "
      ],
      "metadata": {
        "id": "A7w9SbP_7BsJ"
      }
    },
    {
      "cell_type": "markdown",
      "source": [
        "Create a list of the columns to keep and the names to use for them"
      ],
      "metadata": {
        "id": "aaarhp3W8MFR"
      }
    },
    {
      "cell_type": "code",
      "source": [
        "keep_columns_ls = ['Row ID', 'Ship Date', 'Category', 'Segment', 'State', 'Region', 'Product ID', 'Category', 'Profit']"
      ],
      "metadata": {
        "id": "JOlhF7378iQg"
      },
      "execution_count": 10,
      "outputs": []
    },
    {
      "cell_type": "code",
      "source": [
        "orders_df = pd.read_csv('usOrders.csv', usecols=keep_columns_ls)"
      ],
      "metadata": {
        "id": "xN2nfIHS7cn-"
      },
      "execution_count": 11,
      "outputs": []
    },
    {
      "cell_type": "code",
      "source": [
        "orders_df.columns"
      ],
      "metadata": {
        "id": "ASrUkqft7xPW"
      },
      "execution_count": null,
      "outputs": []
    },
    {
      "cell_type": "code",
      "source": [
        "orders_df.describe()"
      ],
      "metadata": {
        "id": "b6kLXCOa7qk0"
      },
      "execution_count": null,
      "outputs": []
    },
    {
      "cell_type": "markdown",
      "source": [
        "Create a `datetime` value on each row from its  'Ship Date'"
      ],
      "metadata": {
        "id": "ed08PsdT9tTr"
      }
    },
    {
      "cell_type": "code",
      "source": [
        "orders_df['DateShipped'] = pd.to_datetime(orders_df['Ship Date'])"
      ],
      "metadata": {
        "id": "rVgxl-T092Pu"
      },
      "execution_count": 12,
      "outputs": []
    },
    {
      "cell_type": "code",
      "source": [
        "orders_df.head(15)"
      ],
      "metadata": {
        "id": "uLTSth6X-QXr"
      },
      "execution_count": null,
      "outputs": []
    },
    {
      "cell_type": "markdown",
      "source": [
        "##3. Merge Timedate Scaffold and Superstore Dataframe  \n",
        "\n",
        "Merge the time series scaffold with the dataset in the `dataframe`  "
      ],
      "metadata": {
        "id": "H3fJf5nC-7TT"
      }
    },
    {
      "cell_type": "code",
      "source": [
        "scaffold_df = pd.DataFrame(scaffold, columns=['Date'])"
      ],
      "metadata": {
        "id": "d29f5r9h_EfM"
      },
      "execution_count": 13,
      "outputs": []
    },
    {
      "cell_type": "code",
      "source": [
        "scaffold_df.head(15)"
      ],
      "metadata": {
        "id": "nfgRDSIQ_Jpi"
      },
      "execution_count": null,
      "outputs": []
    },
    {
      "cell_type": "code",
      "source": [
        "len(scaffold_df)"
      ],
      "metadata": {
        "id": "WNrHWK1bCt7Q"
      },
      "execution_count": null,
      "outputs": []
    },
    {
      "cell_type": "markdown",
      "source": [
        "###3.a) Enrich Scaffolding for `Ship Date` and `Region`  \n",
        "  \n",
        "<font color=blue><i>Note: the steps in the section are to scaffold the Superstore dataset for `Ship Date` and `Region` and produce a dataset that has at least one row (record) for every combination of `Ship Date` and `Region`.  If the original dataset has more than one row for any combination of `Ship Date` and `Region` those will be aggregated so that we have only one row for every combination of desired features -- that one row will have the aggregate profit for that combination of features.</i></font>  \n",
        "  \n",
        "<font color=red><i>If you intend to analyze the dataset by `Ship Date` and `Category`, then use <b>Step 3.b)</b> instead of this step.</i></font>\n",
        "\n"
      ],
      "metadata": {
        "id": "m4qU98oVSHXf"
      }
    },
    {
      "cell_type": "markdown",
      "source": [
        "Create a `regions_df` `dataframe` with a value for every `Region`"
      ],
      "metadata": {
        "id": "s42uVpctF7ub"
      }
    },
    {
      "cell_type": "code",
      "source": [
        "# DataFrame with the 'Region' values\n",
        "regions = ['West', 'East', 'Central', 'South']\n",
        "regions_df = pd.DataFrame({'Region': regions})"
      ],
      "metadata": {
        "id": "ejtyxxO3DML4"
      },
      "execution_count": null,
      "outputs": []
    },
    {
      "cell_type": "code",
      "source": [
        "# Performing a cross join to combine every 'Date' with every 'Region'\n",
        "expandedScaffold_df = scaffold_df.assign(key=1).merge(regions_df.assign(key=1), on='key').drop('key', axis=1)"
      ],
      "metadata": {
        "id": "8dwCkPfZGQ39"
      },
      "execution_count": null,
      "outputs": []
    },
    {
      "cell_type": "code",
      "source": [
        "expandedScaffold_df.head(10)"
      ],
      "metadata": {
        "id": "zOgpR4ykIW-C"
      },
      "execution_count": null,
      "outputs": []
    },
    {
      "cell_type": "code",
      "source": [
        "len(expandedScaffold_df)"
      ],
      "metadata": {
        "id": "2al-QoaUCxFX"
      },
      "execution_count": null,
      "outputs": []
    },
    {
      "cell_type": "code",
      "source": [
        "training_df = pd.merge(expandedScaffold_df, orders_df, left_on=['Date', 'Region'], right_on=['DateShipped', 'Region'], how='outer').drop('DateShipped', axis=1)"
      ],
      "metadata": {
        "id": "xLbU6E4iCRY9"
      },
      "execution_count": null,
      "outputs": []
    },
    {
      "cell_type": "markdown",
      "source": [
        "Now we have an enriched dataset with all the `Date Shipped` and `Region` combinations included at least once, but some of these record may have missing values (NaN) for `Profit`.  "
      ],
      "metadata": {
        "id": "TcG3FdpSXwwb"
      }
    },
    {
      "cell_type": "code",
      "source": [
        "training_df.head(20)"
      ],
      "metadata": {
        "id": "CQ1M6qlh_-dx"
      },
      "execution_count": null,
      "outputs": []
    },
    {
      "cell_type": "code",
      "source": [
        "len(training_df)"
      ],
      "metadata": {
        "id": "jfQ_zQ9xATFb"
      },
      "execution_count": null,
      "outputs": []
    },
    {
      "cell_type": "markdown",
      "source": [
        "Sub-total the `Profit` data in the `training_df` dataset by `Region` and `Date`"
      ],
      "metadata": {
        "id": "EC4m2fwwA8zx"
      }
    },
    {
      "cell_type": "code",
      "source": [
        "# Use a specific column for more meaningful count, here using 'Value' column\n",
        "summaryProfit_df = training_df.groupby(['Region', 'Date'])['Profit'].count().reset_index(name='Count')"
      ],
      "metadata": {
        "id": "NU_fHt4jA0Sw"
      },
      "execution_count": null,
      "outputs": []
    },
    {
      "cell_type": "code",
      "source": [
        "len(summaryProfit_df)"
      ],
      "metadata": {
        "id": "xaVhQi-fB-4I"
      },
      "execution_count": null,
      "outputs": []
    },
    {
      "cell_type": "code",
      "source": [
        "# Display the result\n",
        "print(summaryProfit_df)"
      ],
      "metadata": {
        "id": "O9YMuMxKA7-m"
      },
      "execution_count": null,
      "outputs": []
    },
    {
      "cell_type": "markdown",
      "source": [
        "Sub-total the `Date` instances in the `training_df` dataset by `Region` and `Date`"
      ],
      "metadata": {
        "id": "iSrDx5snBg4m"
      }
    },
    {
      "cell_type": "code",
      "source": [
        "# Use a specific column for more meaningful count, here using 'Value' column\n",
        "summaryDate_df = training_df.groupby(['Region', 'Date'])['Date'].count().reset_index(name='Count')"
      ],
      "metadata": {
        "id": "V_f9mdi5BgfT"
      },
      "execution_count": null,
      "outputs": []
    },
    {
      "cell_type": "code",
      "source": [
        "len(summaryDate_df)"
      ],
      "metadata": {
        "id": "-VU1tYkJCBiE"
      },
      "execution_count": null,
      "outputs": []
    },
    {
      "cell_type": "code",
      "source": [
        "# Display the result\n",
        "print(summaryDate_df)"
      ],
      "metadata": {
        "id": "IMhUVibIB8h1"
      },
      "execution_count": null,
      "outputs": []
    },
    {
      "cell_type": "markdown",
      "source": [
        "<center><b><font color=blue>NOW PROCEED TO STEP #4</b></font></center>  \n"
      ],
      "metadata": {
        "id": "TzVzAdc0exn6"
      }
    },
    {
      "cell_type": "markdown",
      "source": [
        "\n",
        "\n",
        "---\n",
        "\n"
      ],
      "metadata": {
        "id": "Ye7H6Fj3ew99"
      }
    },
    {
      "cell_type": "markdown",
      "source": [
        "###3.b) Enrich Scaffolding for `Ship Date` and `Category`  \n",
        "  \n",
        "<font color=blue><i>Note: the steps in the section are to scaffold the Superstore dataset for `Ship Date` and `Category` and produce a dataset that has at least one row (record) for every combination of `Ship Date` and `Category`.  If the original dataset has more than one row for any combination of `Ship Date` and `Category` those will be aggregated so that we have only one row for every combination of desired features -- that one row will have the aggregate profit for that combination of features.</i></font>  \n",
        "  \n",
        "<font color=red><i>If you intend to analyze the dataset by `Ship Date` and `Region`, then use <b>Step 3.a)</b> instead of this step.</i></font>\n",
        "\n"
      ],
      "metadata": {
        "id": "nX585xSZV9dM"
      }
    },
    {
      "cell_type": "markdown",
      "source": [
        "Create a `categories_df` `dataframe` with a value for every `Category`"
      ],
      "metadata": {
        "id": "lVzoBt_CV9dU"
      }
    },
    {
      "cell_type": "code",
      "source": [
        "# DataFrame with the 'Category' values\n",
        "categories = ['Furniture', 'Office Supplies', 'Technology']\n",
        "categories_df = pd.DataFrame({'Category': categories})"
      ],
      "metadata": {
        "id": "yI29ylhlV9dU"
      },
      "execution_count": 14,
      "outputs": []
    },
    {
      "cell_type": "code",
      "source": [
        "# Performing a cross join to combine every 'Date' with every 'Catgeory'\n",
        "expandedScaffold_df = scaffold_df.assign(key=1).merge(categories_df.assign(key=1), on='key').drop('key', axis=1)"
      ],
      "metadata": {
        "id": "yQhiylfzV9dU"
      },
      "execution_count": 15,
      "outputs": []
    },
    {
      "cell_type": "code",
      "source": [
        "expandedScaffold_df.head(10)"
      ],
      "metadata": {
        "id": "_9xDvvAbV9dU"
      },
      "execution_count": null,
      "outputs": []
    },
    {
      "cell_type": "code",
      "source": [
        "len(expandedScaffold_df)"
      ],
      "metadata": {
        "id": "tPtBwbSIV9dU"
      },
      "execution_count": null,
      "outputs": []
    },
    {
      "cell_type": "code",
      "source": [
        "training_df = pd.merge(expandedScaffold_df, orders_df, left_on=['Date', 'Category'], right_on=['DateShipped', 'Category'], how='left').drop('DateShipped', axis=1)"
      ],
      "metadata": {
        "id": "tIYZCIz6V9dU"
      },
      "execution_count": 23,
      "outputs": []
    },
    {
      "cell_type": "markdown",
      "source": [
        "Now we have an enriched dataset with all the `Date Shipped` and `Category` combinations included at least once, but some of these record may have missing values (NaN) for `Profit`.  "
      ],
      "metadata": {
        "id": "b0HxncqJXeKp"
      }
    },
    {
      "cell_type": "code",
      "source": [
        "training_df.head(20)"
      ],
      "metadata": {
        "id": "oOxXFjjkV9dU"
      },
      "execution_count": null,
      "outputs": []
    },
    {
      "cell_type": "code",
      "source": [
        "training_df.tail(20)"
      ],
      "metadata": {
        "colab": {
          "base_uri": "https://localhost:8080/",
          "height": 1000
        },
        "id": "c_kpHEdmskeq",
        "outputId": "923de2a6-5c18-4b66-f386-78385d9b5061"
      },
      "execution_count": 26,
      "outputs": [
        {
          "output_type": "execute_result",
          "data": {
            "text/plain": [
              "          Date         Category  Row ID  Ship Date      Segment         State  \\\n",
              "421 2020-03-27       Technology     NaN        NaN          NaN           NaN   \n",
              "422 2020-03-28        Furniture     NaN        NaN          NaN           NaN   \n",
              "423 2020-03-28  Office Supplies  9867.0  3/28/2020    Corporate      New York   \n",
              "424 2020-03-28  Office Supplies  9868.0  3/28/2020    Corporate      New York   \n",
              "425 2020-03-28       Technology     NaN        NaN          NaN           NaN   \n",
              "426 2020-03-29        Furniture  1061.0  3/29/2020     Consumer         Texas   \n",
              "427 2020-03-29  Office Supplies     NaN        NaN          NaN           NaN   \n",
              "428 2020-03-29       Technology     NaN        NaN          NaN           NaN   \n",
              "429 2020-03-30        Furniture  9858.0  3/30/2020    Corporate    Washington   \n",
              "430 2020-03-30  Office Supplies  2558.0  3/30/2020    Corporate       Florida   \n",
              "431 2020-03-30  Office Supplies  5104.0  3/30/2020     Consumer  Pennsylvania   \n",
              "432 2020-03-30  Office Supplies  6259.0  3/30/2020     Consumer      New York   \n",
              "433 2020-03-30  Office Supplies  7967.0  3/30/2020    Corporate    California   \n",
              "434 2020-03-30       Technology  5105.0  3/30/2020     Consumer  Pennsylvania   \n",
              "435 2020-03-31        Furniture   991.0  3/31/2020  Home Office       Florida   \n",
              "436 2020-03-31        Furniture  4734.0  3/31/2020     Consumer    California   \n",
              "437 2020-03-31  Office Supplies  1531.0  3/31/2020    Corporate       Florida   \n",
              "438 2020-03-31  Office Supplies  4731.0  3/31/2020     Consumer    California   \n",
              "439 2020-03-31  Office Supplies  4732.0  3/31/2020     Consumer    California   \n",
              "440 2020-03-31       Technology  4733.0  3/31/2020     Consumer    California   \n",
              "\n",
              "      Region       Product ID    Profit  \n",
              "421      NaN              NaN       NaN  \n",
              "422      NaN              NaN       NaN  \n",
              "423     East  OFF-ST-10002615  282.2092  \n",
              "424     East  OFF-AP-10000595    3.4086  \n",
              "425      NaN              NaN       NaN  \n",
              "426  Central  FUR-CH-10003396  -29.2524  \n",
              "427      NaN              NaN       NaN  \n",
              "428      NaN              NaN       NaN  \n",
              "429     West  FUR-TA-10001889  610.8624  \n",
              "430    South  OFF-AP-10002287    0.5244  \n",
              "431     East  OFF-PA-10001950   12.5100  \n",
              "432     East  OFF-EN-10004459   11.2308  \n",
              "433     West  OFF-PA-10000380   16.6800  \n",
              "434     East  TEC-AC-10004633    5.0328  \n",
              "435    South  FUR-CH-10004086  131.2785  \n",
              "436     West  FUR-FU-10004586    9.5616  \n",
              "437    South  OFF-PA-10001125   23.2350  \n",
              "438     West  OFF-PA-10001736   99.9408  \n",
              "439     West  OFF-PA-10001609    4.5402  \n",
              "440     West  TEC-AC-10003116   20.7675  "
            ],
            "text/html": [
              "\n",
              "  <div id=\"df-26a9d93c-ae51-484d-9526-d99e89ece5f0\" class=\"colab-df-container\">\n",
              "    <div>\n",
              "<style scoped>\n",
              "    .dataframe tbody tr th:only-of-type {\n",
              "        vertical-align: middle;\n",
              "    }\n",
              "\n",
              "    .dataframe tbody tr th {\n",
              "        vertical-align: top;\n",
              "    }\n",
              "\n",
              "    .dataframe thead th {\n",
              "        text-align: right;\n",
              "    }\n",
              "</style>\n",
              "<table border=\"1\" class=\"dataframe\">\n",
              "  <thead>\n",
              "    <tr style=\"text-align: right;\">\n",
              "      <th></th>\n",
              "      <th>Date</th>\n",
              "      <th>Category</th>\n",
              "      <th>Row ID</th>\n",
              "      <th>Ship Date</th>\n",
              "      <th>Segment</th>\n",
              "      <th>State</th>\n",
              "      <th>Region</th>\n",
              "      <th>Product ID</th>\n",
              "      <th>Profit</th>\n",
              "    </tr>\n",
              "  </thead>\n",
              "  <tbody>\n",
              "    <tr>\n",
              "      <th>421</th>\n",
              "      <td>2020-03-27</td>\n",
              "      <td>Technology</td>\n",
              "      <td>NaN</td>\n",
              "      <td>NaN</td>\n",
              "      <td>NaN</td>\n",
              "      <td>NaN</td>\n",
              "      <td>NaN</td>\n",
              "      <td>NaN</td>\n",
              "      <td>NaN</td>\n",
              "    </tr>\n",
              "    <tr>\n",
              "      <th>422</th>\n",
              "      <td>2020-03-28</td>\n",
              "      <td>Furniture</td>\n",
              "      <td>NaN</td>\n",
              "      <td>NaN</td>\n",
              "      <td>NaN</td>\n",
              "      <td>NaN</td>\n",
              "      <td>NaN</td>\n",
              "      <td>NaN</td>\n",
              "      <td>NaN</td>\n",
              "    </tr>\n",
              "    <tr>\n",
              "      <th>423</th>\n",
              "      <td>2020-03-28</td>\n",
              "      <td>Office Supplies</td>\n",
              "      <td>9867.0</td>\n",
              "      <td>3/28/2020</td>\n",
              "      <td>Corporate</td>\n",
              "      <td>New York</td>\n",
              "      <td>East</td>\n",
              "      <td>OFF-ST-10002615</td>\n",
              "      <td>282.2092</td>\n",
              "    </tr>\n",
              "    <tr>\n",
              "      <th>424</th>\n",
              "      <td>2020-03-28</td>\n",
              "      <td>Office Supplies</td>\n",
              "      <td>9868.0</td>\n",
              "      <td>3/28/2020</td>\n",
              "      <td>Corporate</td>\n",
              "      <td>New York</td>\n",
              "      <td>East</td>\n",
              "      <td>OFF-AP-10000595</td>\n",
              "      <td>3.4086</td>\n",
              "    </tr>\n",
              "    <tr>\n",
              "      <th>425</th>\n",
              "      <td>2020-03-28</td>\n",
              "      <td>Technology</td>\n",
              "      <td>NaN</td>\n",
              "      <td>NaN</td>\n",
              "      <td>NaN</td>\n",
              "      <td>NaN</td>\n",
              "      <td>NaN</td>\n",
              "      <td>NaN</td>\n",
              "      <td>NaN</td>\n",
              "    </tr>\n",
              "    <tr>\n",
              "      <th>426</th>\n",
              "      <td>2020-03-29</td>\n",
              "      <td>Furniture</td>\n",
              "      <td>1061.0</td>\n",
              "      <td>3/29/2020</td>\n",
              "      <td>Consumer</td>\n",
              "      <td>Texas</td>\n",
              "      <td>Central</td>\n",
              "      <td>FUR-CH-10003396</td>\n",
              "      <td>-29.2524</td>\n",
              "    </tr>\n",
              "    <tr>\n",
              "      <th>427</th>\n",
              "      <td>2020-03-29</td>\n",
              "      <td>Office Supplies</td>\n",
              "      <td>NaN</td>\n",
              "      <td>NaN</td>\n",
              "      <td>NaN</td>\n",
              "      <td>NaN</td>\n",
              "      <td>NaN</td>\n",
              "      <td>NaN</td>\n",
              "      <td>NaN</td>\n",
              "    </tr>\n",
              "    <tr>\n",
              "      <th>428</th>\n",
              "      <td>2020-03-29</td>\n",
              "      <td>Technology</td>\n",
              "      <td>NaN</td>\n",
              "      <td>NaN</td>\n",
              "      <td>NaN</td>\n",
              "      <td>NaN</td>\n",
              "      <td>NaN</td>\n",
              "      <td>NaN</td>\n",
              "      <td>NaN</td>\n",
              "    </tr>\n",
              "    <tr>\n",
              "      <th>429</th>\n",
              "      <td>2020-03-30</td>\n",
              "      <td>Furniture</td>\n",
              "      <td>9858.0</td>\n",
              "      <td>3/30/2020</td>\n",
              "      <td>Corporate</td>\n",
              "      <td>Washington</td>\n",
              "      <td>West</td>\n",
              "      <td>FUR-TA-10001889</td>\n",
              "      <td>610.8624</td>\n",
              "    </tr>\n",
              "    <tr>\n",
              "      <th>430</th>\n",
              "      <td>2020-03-30</td>\n",
              "      <td>Office Supplies</td>\n",
              "      <td>2558.0</td>\n",
              "      <td>3/30/2020</td>\n",
              "      <td>Corporate</td>\n",
              "      <td>Florida</td>\n",
              "      <td>South</td>\n",
              "      <td>OFF-AP-10002287</td>\n",
              "      <td>0.5244</td>\n",
              "    </tr>\n",
              "    <tr>\n",
              "      <th>431</th>\n",
              "      <td>2020-03-30</td>\n",
              "      <td>Office Supplies</td>\n",
              "      <td>5104.0</td>\n",
              "      <td>3/30/2020</td>\n",
              "      <td>Consumer</td>\n",
              "      <td>Pennsylvania</td>\n",
              "      <td>East</td>\n",
              "      <td>OFF-PA-10001950</td>\n",
              "      <td>12.5100</td>\n",
              "    </tr>\n",
              "    <tr>\n",
              "      <th>432</th>\n",
              "      <td>2020-03-30</td>\n",
              "      <td>Office Supplies</td>\n",
              "      <td>6259.0</td>\n",
              "      <td>3/30/2020</td>\n",
              "      <td>Consumer</td>\n",
              "      <td>New York</td>\n",
              "      <td>East</td>\n",
              "      <td>OFF-EN-10004459</td>\n",
              "      <td>11.2308</td>\n",
              "    </tr>\n",
              "    <tr>\n",
              "      <th>433</th>\n",
              "      <td>2020-03-30</td>\n",
              "      <td>Office Supplies</td>\n",
              "      <td>7967.0</td>\n",
              "      <td>3/30/2020</td>\n",
              "      <td>Corporate</td>\n",
              "      <td>California</td>\n",
              "      <td>West</td>\n",
              "      <td>OFF-PA-10000380</td>\n",
              "      <td>16.6800</td>\n",
              "    </tr>\n",
              "    <tr>\n",
              "      <th>434</th>\n",
              "      <td>2020-03-30</td>\n",
              "      <td>Technology</td>\n",
              "      <td>5105.0</td>\n",
              "      <td>3/30/2020</td>\n",
              "      <td>Consumer</td>\n",
              "      <td>Pennsylvania</td>\n",
              "      <td>East</td>\n",
              "      <td>TEC-AC-10004633</td>\n",
              "      <td>5.0328</td>\n",
              "    </tr>\n",
              "    <tr>\n",
              "      <th>435</th>\n",
              "      <td>2020-03-31</td>\n",
              "      <td>Furniture</td>\n",
              "      <td>991.0</td>\n",
              "      <td>3/31/2020</td>\n",
              "      <td>Home Office</td>\n",
              "      <td>Florida</td>\n",
              "      <td>South</td>\n",
              "      <td>FUR-CH-10004086</td>\n",
              "      <td>131.2785</td>\n",
              "    </tr>\n",
              "    <tr>\n",
              "      <th>436</th>\n",
              "      <td>2020-03-31</td>\n",
              "      <td>Furniture</td>\n",
              "      <td>4734.0</td>\n",
              "      <td>3/31/2020</td>\n",
              "      <td>Consumer</td>\n",
              "      <td>California</td>\n",
              "      <td>West</td>\n",
              "      <td>FUR-FU-10004586</td>\n",
              "      <td>9.5616</td>\n",
              "    </tr>\n",
              "    <tr>\n",
              "      <th>437</th>\n",
              "      <td>2020-03-31</td>\n",
              "      <td>Office Supplies</td>\n",
              "      <td>1531.0</td>\n",
              "      <td>3/31/2020</td>\n",
              "      <td>Corporate</td>\n",
              "      <td>Florida</td>\n",
              "      <td>South</td>\n",
              "      <td>OFF-PA-10001125</td>\n",
              "      <td>23.2350</td>\n",
              "    </tr>\n",
              "    <tr>\n",
              "      <th>438</th>\n",
              "      <td>2020-03-31</td>\n",
              "      <td>Office Supplies</td>\n",
              "      <td>4731.0</td>\n",
              "      <td>3/31/2020</td>\n",
              "      <td>Consumer</td>\n",
              "      <td>California</td>\n",
              "      <td>West</td>\n",
              "      <td>OFF-PA-10001736</td>\n",
              "      <td>99.9408</td>\n",
              "    </tr>\n",
              "    <tr>\n",
              "      <th>439</th>\n",
              "      <td>2020-03-31</td>\n",
              "      <td>Office Supplies</td>\n",
              "      <td>4732.0</td>\n",
              "      <td>3/31/2020</td>\n",
              "      <td>Consumer</td>\n",
              "      <td>California</td>\n",
              "      <td>West</td>\n",
              "      <td>OFF-PA-10001609</td>\n",
              "      <td>4.5402</td>\n",
              "    </tr>\n",
              "    <tr>\n",
              "      <th>440</th>\n",
              "      <td>2020-03-31</td>\n",
              "      <td>Technology</td>\n",
              "      <td>4733.0</td>\n",
              "      <td>3/31/2020</td>\n",
              "      <td>Consumer</td>\n",
              "      <td>California</td>\n",
              "      <td>West</td>\n",
              "      <td>TEC-AC-10003116</td>\n",
              "      <td>20.7675</td>\n",
              "    </tr>\n",
              "  </tbody>\n",
              "</table>\n",
              "</div>\n",
              "    <div class=\"colab-df-buttons\">\n",
              "\n",
              "  <div class=\"colab-df-container\">\n",
              "    <button class=\"colab-df-convert\" onclick=\"convertToInteractive('df-26a9d93c-ae51-484d-9526-d99e89ece5f0')\"\n",
              "            title=\"Convert this dataframe to an interactive table.\"\n",
              "            style=\"display:none;\">\n",
              "\n",
              "  <svg xmlns=\"http://www.w3.org/2000/svg\" height=\"24px\" viewBox=\"0 -960 960 960\">\n",
              "    <path d=\"M120-120v-720h720v720H120Zm60-500h600v-160H180v160Zm220 220h160v-160H400v160Zm0 220h160v-160H400v160ZM180-400h160v-160H180v160Zm440 0h160v-160H620v160ZM180-180h160v-160H180v160Zm440 0h160v-160H620v160Z\"/>\n",
              "  </svg>\n",
              "    </button>\n",
              "\n",
              "  <style>\n",
              "    .colab-df-container {\n",
              "      display:flex;\n",
              "      gap: 12px;\n",
              "    }\n",
              "\n",
              "    .colab-df-convert {\n",
              "      background-color: #E8F0FE;\n",
              "      border: none;\n",
              "      border-radius: 50%;\n",
              "      cursor: pointer;\n",
              "      display: none;\n",
              "      fill: #1967D2;\n",
              "      height: 32px;\n",
              "      padding: 0 0 0 0;\n",
              "      width: 32px;\n",
              "    }\n",
              "\n",
              "    .colab-df-convert:hover {\n",
              "      background-color: #E2EBFA;\n",
              "      box-shadow: 0px 1px 2px rgba(60, 64, 67, 0.3), 0px 1px 3px 1px rgba(60, 64, 67, 0.15);\n",
              "      fill: #174EA6;\n",
              "    }\n",
              "\n",
              "    .colab-df-buttons div {\n",
              "      margin-bottom: 4px;\n",
              "    }\n",
              "\n",
              "    [theme=dark] .colab-df-convert {\n",
              "      background-color: #3B4455;\n",
              "      fill: #D2E3FC;\n",
              "    }\n",
              "\n",
              "    [theme=dark] .colab-df-convert:hover {\n",
              "      background-color: #434B5C;\n",
              "      box-shadow: 0px 1px 3px 1px rgba(0, 0, 0, 0.15);\n",
              "      filter: drop-shadow(0px 1px 2px rgba(0, 0, 0, 0.3));\n",
              "      fill: #FFFFFF;\n",
              "    }\n",
              "  </style>\n",
              "\n",
              "    <script>\n",
              "      const buttonEl =\n",
              "        document.querySelector('#df-26a9d93c-ae51-484d-9526-d99e89ece5f0 button.colab-df-convert');\n",
              "      buttonEl.style.display =\n",
              "        google.colab.kernel.accessAllowed ? 'block' : 'none';\n",
              "\n",
              "      async function convertToInteractive(key) {\n",
              "        const element = document.querySelector('#df-26a9d93c-ae51-484d-9526-d99e89ece5f0');\n",
              "        const dataTable =\n",
              "          await google.colab.kernel.invokeFunction('convertToInteractive',\n",
              "                                                    [key], {});\n",
              "        if (!dataTable) return;\n",
              "\n",
              "        const docLinkHtml = 'Like what you see? Visit the ' +\n",
              "          '<a target=\"_blank\" href=https://colab.research.google.com/notebooks/data_table.ipynb>data table notebook</a>'\n",
              "          + ' to learn more about interactive tables.';\n",
              "        element.innerHTML = '';\n",
              "        dataTable['output_type'] = 'display_data';\n",
              "        await google.colab.output.renderOutput(dataTable, element);\n",
              "        const docLink = document.createElement('div');\n",
              "        docLink.innerHTML = docLinkHtml;\n",
              "        element.appendChild(docLink);\n",
              "      }\n",
              "    </script>\n",
              "  </div>\n",
              "\n",
              "\n",
              "<div id=\"df-b90bfdad-94b9-4ab0-b179-e2225f1e8d63\">\n",
              "  <button class=\"colab-df-quickchart\" onclick=\"quickchart('df-b90bfdad-94b9-4ab0-b179-e2225f1e8d63')\"\n",
              "            title=\"Suggest charts\"\n",
              "            style=\"display:none;\">\n",
              "\n",
              "<svg xmlns=\"http://www.w3.org/2000/svg\" height=\"24px\"viewBox=\"0 0 24 24\"\n",
              "     width=\"24px\">\n",
              "    <g>\n",
              "        <path d=\"M19 3H5c-1.1 0-2 .9-2 2v14c0 1.1.9 2 2 2h14c1.1 0 2-.9 2-2V5c0-1.1-.9-2-2-2zM9 17H7v-7h2v7zm4 0h-2V7h2v10zm4 0h-2v-4h2v4z\"/>\n",
              "    </g>\n",
              "</svg>\n",
              "  </button>\n",
              "\n",
              "<style>\n",
              "  .colab-df-quickchart {\n",
              "      --bg-color: #E8F0FE;\n",
              "      --fill-color: #1967D2;\n",
              "      --hover-bg-color: #E2EBFA;\n",
              "      --hover-fill-color: #174EA6;\n",
              "      --disabled-fill-color: #AAA;\n",
              "      --disabled-bg-color: #DDD;\n",
              "  }\n",
              "\n",
              "  [theme=dark] .colab-df-quickchart {\n",
              "      --bg-color: #3B4455;\n",
              "      --fill-color: #D2E3FC;\n",
              "      --hover-bg-color: #434B5C;\n",
              "      --hover-fill-color: #FFFFFF;\n",
              "      --disabled-bg-color: #3B4455;\n",
              "      --disabled-fill-color: #666;\n",
              "  }\n",
              "\n",
              "  .colab-df-quickchart {\n",
              "    background-color: var(--bg-color);\n",
              "    border: none;\n",
              "    border-radius: 50%;\n",
              "    cursor: pointer;\n",
              "    display: none;\n",
              "    fill: var(--fill-color);\n",
              "    height: 32px;\n",
              "    padding: 0;\n",
              "    width: 32px;\n",
              "  }\n",
              "\n",
              "  .colab-df-quickchart:hover {\n",
              "    background-color: var(--hover-bg-color);\n",
              "    box-shadow: 0 1px 2px rgba(60, 64, 67, 0.3), 0 1px 3px 1px rgba(60, 64, 67, 0.15);\n",
              "    fill: var(--button-hover-fill-color);\n",
              "  }\n",
              "\n",
              "  .colab-df-quickchart-complete:disabled,\n",
              "  .colab-df-quickchart-complete:disabled:hover {\n",
              "    background-color: var(--disabled-bg-color);\n",
              "    fill: var(--disabled-fill-color);\n",
              "    box-shadow: none;\n",
              "  }\n",
              "\n",
              "  .colab-df-spinner {\n",
              "    border: 2px solid var(--fill-color);\n",
              "    border-color: transparent;\n",
              "    border-bottom-color: var(--fill-color);\n",
              "    animation:\n",
              "      spin 1s steps(1) infinite;\n",
              "  }\n",
              "\n",
              "  @keyframes spin {\n",
              "    0% {\n",
              "      border-color: transparent;\n",
              "      border-bottom-color: var(--fill-color);\n",
              "      border-left-color: var(--fill-color);\n",
              "    }\n",
              "    20% {\n",
              "      border-color: transparent;\n",
              "      border-left-color: var(--fill-color);\n",
              "      border-top-color: var(--fill-color);\n",
              "    }\n",
              "    30% {\n",
              "      border-color: transparent;\n",
              "      border-left-color: var(--fill-color);\n",
              "      border-top-color: var(--fill-color);\n",
              "      border-right-color: var(--fill-color);\n",
              "    }\n",
              "    40% {\n",
              "      border-color: transparent;\n",
              "      border-right-color: var(--fill-color);\n",
              "      border-top-color: var(--fill-color);\n",
              "    }\n",
              "    60% {\n",
              "      border-color: transparent;\n",
              "      border-right-color: var(--fill-color);\n",
              "    }\n",
              "    80% {\n",
              "      border-color: transparent;\n",
              "      border-right-color: var(--fill-color);\n",
              "      border-bottom-color: var(--fill-color);\n",
              "    }\n",
              "    90% {\n",
              "      border-color: transparent;\n",
              "      border-bottom-color: var(--fill-color);\n",
              "    }\n",
              "  }\n",
              "</style>\n",
              "\n",
              "  <script>\n",
              "    async function quickchart(key) {\n",
              "      const quickchartButtonEl =\n",
              "        document.querySelector('#' + key + ' button');\n",
              "      quickchartButtonEl.disabled = true;  // To prevent multiple clicks.\n",
              "      quickchartButtonEl.classList.add('colab-df-spinner');\n",
              "      try {\n",
              "        const charts = await google.colab.kernel.invokeFunction(\n",
              "            'suggestCharts', [key], {});\n",
              "      } catch (error) {\n",
              "        console.error('Error during call to suggestCharts:', error);\n",
              "      }\n",
              "      quickchartButtonEl.classList.remove('colab-df-spinner');\n",
              "      quickchartButtonEl.classList.add('colab-df-quickchart-complete');\n",
              "    }\n",
              "    (() => {\n",
              "      let quickchartButtonEl =\n",
              "        document.querySelector('#df-b90bfdad-94b9-4ab0-b179-e2225f1e8d63 button');\n",
              "      quickchartButtonEl.style.display =\n",
              "        google.colab.kernel.accessAllowed ? 'block' : 'none';\n",
              "    })();\n",
              "  </script>\n",
              "</div>\n",
              "\n",
              "    </div>\n",
              "  </div>\n"
            ],
            "application/vnd.google.colaboratory.intrinsic+json": {
              "type": "dataframe",
              "repr_error": "0"
            }
          },
          "metadata": {},
          "execution_count": 26
        }
      ]
    },
    {
      "cell_type": "code",
      "source": [
        "len(training_df)"
      ],
      "metadata": {
        "id": "cXR_emLbV9dV"
      },
      "execution_count": null,
      "outputs": []
    },
    {
      "cell_type": "markdown",
      "source": [
        "Sub-total the `Profit` data in the `training_df` dataset by `Category` and `Date`"
      ],
      "metadata": {
        "id": "E9gVaxr0V9dV"
      }
    },
    {
      "cell_type": "code",
      "source": [
        "# Use a specific column for more meaningful count, here using 'Value' column\n",
        "summaryProfit_df = training_df.groupby(['Category', 'Date'])['Profit'].count().reset_index(name='Count')"
      ],
      "metadata": {
        "id": "tK9mpKMTV9dV"
      },
      "execution_count": 22,
      "outputs": []
    },
    {
      "cell_type": "code",
      "source": [
        "len(summaryProfit_df)"
      ],
      "metadata": {
        "id": "Z6hjdVOhV9dV",
        "colab": {
          "base_uri": "https://localhost:8080/"
        },
        "outputId": "4d303168-15fe-4ecd-a533-7d140f33f205"
      },
      "execution_count": 23,
      "outputs": [
        {
          "output_type": "execute_result",
          "data": {
            "text/plain": [
              "273"
            ]
          },
          "metadata": {},
          "execution_count": 23
        }
      ]
    },
    {
      "cell_type": "code",
      "source": [
        "# Display the result\n",
        "print(summaryProfit_df)"
      ],
      "metadata": {
        "id": "05kKuH16V9dV"
      },
      "execution_count": null,
      "outputs": []
    },
    {
      "cell_type": "markdown",
      "source": [
        "Sub-total the `Date` instances in the `training_df` dataset by `Category` and `Date`"
      ],
      "metadata": {
        "id": "tnDhF5bKV9dV"
      }
    },
    {
      "cell_type": "code",
      "source": [
        "# Use a specific column for more meaningful count, here using 'Value' column\n",
        "summaryDate_df = training_df.groupby(['Category', 'Date'])['Date'].count().reset_index(name='Count')"
      ],
      "metadata": {
        "id": "tQAwfMapV9dV"
      },
      "execution_count": 25,
      "outputs": []
    },
    {
      "cell_type": "code",
      "source": [
        "len(summaryDate_df)"
      ],
      "metadata": {
        "id": "lHLt19AYV9dV"
      },
      "execution_count": null,
      "outputs": []
    },
    {
      "cell_type": "code",
      "source": [
        "# Display the result\n",
        "print(summaryDate_df)"
      ],
      "metadata": {
        "id": "QYjktx-kV9dV"
      },
      "execution_count": null,
      "outputs": []
    },
    {
      "cell_type": "markdown",
      "source": [
        "\n",
        "\n",
        "---\n",
        "\n"
      ],
      "metadata": {
        "id": "5HUF6EUKY59S"
      }
    },
    {
      "cell_type": "markdown",
      "source": [
        "<center><b><font color=blue>Regardless of whether sub-step 3.a or 3.b above was used, all of the following steps apply.</b></font></center>"
      ],
      "metadata": {
        "id": "iM0dgNfKY7O8"
      }
    },
    {
      "cell_type": "markdown",
      "source": [
        "\n",
        "\n",
        "---\n",
        "\n"
      ],
      "metadata": {
        "id": "3f8XL5W5JLat"
      }
    },
    {
      "cell_type": "markdown",
      "source": [
        "##4. Fill Missing Values"
      ],
      "metadata": {
        "id": "U2XpggjRKEmO"
      }
    },
    {
      "cell_type": "markdown",
      "source": [
        "We can replace missing (NaN) values for `Profit` with zeroes.  Those will typically occur on the new, scaffolder rows we created for feature combinations with `Ship Date` that did not occur in the original dataset."
      ],
      "metadata": {
        "id": "reD6WX5KZ9nY"
      }
    },
    {
      "cell_type": "code",
      "source": [
        "len(training_df)"
      ],
      "metadata": {
        "colab": {
          "base_uri": "https://localhost:8080/"
        },
        "id": "aQl0mA1Zr95k",
        "outputId": "53025caf-2837-4b84-c107-845943cefa46"
      },
      "execution_count": 27,
      "outputs": [
        {
          "output_type": "execute_result",
          "data": {
            "text/plain": [
              "441"
            ]
          },
          "metadata": {},
          "execution_count": 27
        }
      ]
    },
    {
      "cell_type": "code",
      "source": [
        "training_df.columns"
      ],
      "metadata": {
        "id": "pgEvFH82KM1n"
      },
      "execution_count": null,
      "outputs": []
    },
    {
      "cell_type": "code",
      "source": [
        "training_df.describe()"
      ],
      "metadata": {
        "id": "XopSR1L3KTY7"
      },
      "execution_count": null,
      "outputs": []
    },
    {
      "cell_type": "code",
      "source": [
        "training_df['Profit'].fillna(0, inplace=True)"
      ],
      "metadata": {
        "id": "fJzvni7qKHOn"
      },
      "execution_count": 28,
      "outputs": []
    },
    {
      "cell_type": "markdown",
      "source": [
        "\n",
        "\n",
        "---\n",
        "\n"
      ],
      "metadata": {
        "id": "KxiCb43kZ8Fl"
      }
    },
    {
      "cell_type": "markdown",
      "source": [
        "##5. Write CSV File"
      ],
      "metadata": {
        "id": "l5Ham9-lJFBC"
      }
    },
    {
      "cell_type": "markdown",
      "source": [
        "We write the resulting file as `training.csv` to the current working directory.  "
      ],
      "metadata": {
        "id": "HVl3TQoQa45g"
      }
    },
    {
      "cell_type": "code",
      "source": [
        "training_df.to_csv('training.csv', sep=',', header=True, mode='w', encoding='utf-8')"
      ],
      "metadata": {
        "id": "WkxwDPgrJKfn"
      },
      "execution_count": 29,
      "outputs": []
    },
    {
      "cell_type": "markdown",
      "source": [
        "\n",
        "\n",
        "---\n",
        "\n"
      ],
      "metadata": {
        "id": "XL8beQLL-eYT"
      }
    }
  ]
}