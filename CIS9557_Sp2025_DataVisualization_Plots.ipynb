{
  "cells": [
    {
      "cell_type": "markdown",
      "metadata": {
        "id": "view-in-github",
        "colab_type": "text"
      },
      "source": [
        "<a href=\"https://colab.research.google.com/github/ProfessorPatrickSlatraigh/CIS9557_bctw/blob/main/CIS9557_Sp2025_DataVisualization_Plots.ipynb\" target=\"_parent\"><img src=\"https://colab.research.google.com/assets/colab-badge.svg\" alt=\"Open In Colab\"/></a>"
      ]
    },
    {
      "cell_type": "markdown",
      "source": [
        "# CIS9557 - Data Visualization with Plots (Charts)  \n",
        "\n",
        "**This Colab Jupyter notebook is avaialable at: [bit.ly/cis9557visualization-\n",
        "plots](https://bit.ly/cis9557visualization-plots)**  \n",
        "   \n",
        "This is a Google Colab (colab.research.google.com) notebook of Python code and explanatory text.  You do not need to know Python to use this notebook -- each cell of Python code can be run by clicking on the play icon on the left of the cell.   \n",
        "  \n",
        "This notebook is a Jupyter notebook that contains both executable code cells and explanatory text cells.  If you accidentally double click on a text cell, you will see the markdown text that was used to create that cell -- do not let that concern you -- you can click away from the opened text cell and it will display as it originally did.     \n",
        "  \n",
        "You may take a read-only copy of this notebook for your own use online or you may download the Jupyer notebook for use in your own editor if you like.  \n",
        "  \n",
        "**The instructor will demonstrate the various plots in class.**     \n"
      ],
      "metadata": {
        "id": "s9NrNDaSWQDM"
      }
    },
    {
      "cell_type": "markdown",
      "source": [
        "# **CIS9557 Data Visualization with Plots**\n",
        "\n",
        "This workbook can be used as one of two breakout group lab exercises for class.  The other workbook for a different breakout group is:    \n",
        "\n",
        "* [bit.ly/cis9557perception-techniques](https://bit.ly/cis9557perception-techniques)    \n",
        "\n",
        "Both workbooks are part of a presentation by Steve Elston at PyData Seattle (USA) in November of 2019.  The original source files for the workbooks and the data files used is available from Steve Elston repository at:    \n",
        "\n",
        "* https://github.com/StephenElston/ExploringDataWithPython  **(bit.ly/cst3512cl10pv)**    \n",
        "\n",
        "\n",
        "## **INSTRUCTIONS**\n",
        "\n",
        "Your breakout group will be allotted time to familiarize yourself with this workbook and the data files used.  You should attempt to make at least one full pass through the notebook.  Your objective is to execute the steps and review the analysis in this notebook then add your team's recommendations for improvements to the notebook which you present to the full class.\n",
        "\n",
        "Ideally recommendations will include both text cells of commentary and code cells which can be executed.  If there is not enough time to complete the code testing and execution, then at least provide text cells explaining your recommendations.\n",
        "\n",
        "Recommendations should include concepts and techniques learned earlier in this class and your other data and information management studies.  Feel free to add innovations which have not been taught in a prior class.     \n",
        "\n",
        "\n",
        "### *Regarding data file access*    \n",
        "\n",
        "*If your team is using this notebook in Google Colab then you may want to consider uploading source data files to the \\Content folder of your Colab session and using that as your current working directory; alternatively, you may want to access source data files using an HTML reference to the RAW files on Steve Elston's Github repository.*\n",
        "\n",
        "\n",
        "## **EXERCISE DELIVERABLES**\n",
        "\n",
        "Your team has two deliverables:    \n",
        "\n",
        "1. **An updated notebook with recommendations in text cells and tested code cellls**\n",
        "2. **A presentation to the class of your findings and recommendations**\n",
        "\n"
      ],
      "metadata": {
        "id": "EH-BMoh6MmMW"
      }
    },
    {
      "cell_type": "markdown",
      "source": [
        "\n",
        "\n",
        "---\n",
        "\n"
      ],
      "metadata": {
        "id": "jC-vWuM6MnCX"
      }
    },
    {
      "cell_type": "markdown",
      "metadata": {
        "id": "NpAq5if0MgPb"
      },
      "source": [
        "\n",
        "# Python Visualization for Exploration of Data\n",
        "## Stephen Elston\n",
        "## Presented at PyData Seattle, July 2017  \n",
        "\n",
        "In this lesson we will investigate methods for the exploration of data using visualization techniques. We will use several Python packages to create the  visualizations, ```matplotlib```, ```Pandas``` plotting, and ```seaborn```.  \n",
        "\n",
        "For these lessons we will be working with a data set containing the prices and characteristics of a number of automobiles. The ultimate goal is to build a model for predicting the price of a car from its characteristics.\n",
        "\n",
        "## About this Jupyter Notebook\n",
        "This notebook contains material to help you learn how to explore data visually. This notebook and the data set can be downloaded from GitHub:\n",
        "\n",
        "**https://github.com/StephenElston/ExploringDataWithPython**  \n",
        "\n",
        "This notebook was constructed using the Anconda 3.5 Python distribution. If you are not running version Anaconda 3.5 or higher, we suggest you update your Anaconda distribution now.  You can download the Python 3 Anaconda distribution for your operating system from the [Continum Analytics web site](https://www.continuum.io/downloads\n",
        "\n",
        "To run this notebook you need the Seaborn graphics packages. If you have not done so, you will need to install Seaborn as it is not in the Anaconda distribution as of now. From a command prompt on your computer type the following command. If no errors occur, you will have installed Seaborn.\n",
        "\n",
        "``pip install seaborn``\n",
        "\n",
        "or\n",
        "\n",
        "``conda install seaborn``\n",
        "\n",
        "You can find more about installing ```seaborn``` can be seen on the [Installing and getting started](http://seaborn.pydata.org/installing.html) page.\n",
        "\n",
        "\n",
        "## About Steve Elston\n",
        "\n",
        "These lessons have been prepared by:\n",
        "\n",
        "**Steve Elston**\n",
        "\n",
        "- Co-founder and principle consultant Quantia Analytics, LLC\n",
        "- Instructor, University of Washington and Harvard University data science programs\n",
        "- O'Reilly author and creator of four edX data science courses\n",
        "- Decades of experience in predictive analytics and machine learning\n",
        "- Microsoft Data Most Valued Professional, MVP\n",
        "- Experience in several industries: payment, telecom, capital markets, logistics, energy\n",
        "- PhD, MS in Geophysics from Princeton University\n",
        "\n",
        "\n",
        "## About the data set\n",
        "\n",
        "This data set is from the [University of California Irving Machine Learning Repository](https://archive.ics.uci.edu/ml/datasets/Automobile)  The data was compiled by Jeffrey C. Schlimmer from the following sources:\n",
        "\n",
        "- 1985 Model Import Car and Truck Specifications, 1985 Ward's Automotive Yearbook.\n",
        "- Personal Auto Manuals, Insurance Services Office, 160 Water Street, New York, NY 10038\n",
        "- Insurance Collision Report, Insurance Institute for Highway Safety, Watergate 600, Washington, DC 20037\n",
        "\n",
        "\n",
        "## Why visualization and Exploratory Data Analysis?\n",
        "\n",
        "Visualization is an essential method in any data scientist’s toolbox. Visualization is a key first step in the exploration of most data sets. These process exploring data visually and with simple summary statistics is know as Exploratory Data Analysis (EDA).    \n",
        "\n",
        "As a general rule, you should never start creating analytical or machine learning models until you have examined the data and understand the relationships. Otherwise, you risk wasting your time creating models blindly.\n",
        "\n",
        "Visualization is also a powerful tool for presentation of results and for determining sources of problems with analytics.\n",
        "\n",
        "The concepts of exploring and analyzing a data set visually was pioneered by John Tukey in the 1960s and 1970s. Tukey consolidated his many ideas on data exploration into a book in the late 1970s, *John Tukey, Exploratory Data Analysis, 1977, Addison-Westley*.\n",
        "\n",
        "![](img/Tukey.jpg)\n",
        "\n",
        "Bill Cleveland documented his seminal work in visualization of complex data sets in his book, *William S. Cleveland, Visualizing Data, 1993, Hobart Press*.\n",
        "\n",
        "![](img/Cleveland.jpg)\n",
        "\n",
        "Edward Tufte is well know for his different take on data exploration and visualizaion. His first book outlined many of his key ideas: *Edward Tufte, Envisioning Information, Graphics Press, 1990*. His more famous book first appeared in 1993, and is still widely available: *Edward Tufte, Envisioning Information, 2nd Edition, Graphics Press, 2001*.\n",
        "\n",
        "![](img/Tufte.jpg)\n",
        "\n",
        "The key concept of exploratory data analysis (EDA) or visual exploration of data is to understand the relationships in the data set. Specifically using visualization when you approach a new data set you can:\n",
        "\n",
        "- Explore complex data sets, using visualization to develop understanding of the inherent relationships.\n",
        "- Use different chart types to create multiple views of data to highlight different aspects of the inherent relationships.\n",
        "- Use plot aesthetics to project multiple dimensions.\n",
        "- Apply conditioning or faceting methods to project multiple dimensions\n",
        "\n",
        "\n",
        "\n",
        "These lessons are divided into three parts. In each part you will learn how to use the visualization tools availble in Python.\n",
        "\n",
        "- **Overview of plot types** is a reivew of creating basic plot types used to construct visualizations.\n",
        "- **Using Aesthetics** is an overview of how to project additional plot dimensions using plot aesthetics.\n",
        "- **Facetted plotting** also know as conditioned plotting or lattice plotting introduces a powerful method for visualizing higher dimensional data.\n",
        "\n",
        "In these exercises, you will use ```matplotlib```, ```Pandas``` plotting, and the ```Seaborn``` package. We assume you have at least a bit of experience using Pandas and Jupyter notebooks.  \n",
        "\n",
        "\n",
        "## Resources\n",
        "\n",
        "In this tutorial we will work with two powerful Python packages, Pandas and Seaborn. Both packages have extensive online documentation. There is an extensive tutorial on [**Visualizaton with Pandas**](http://pandas.pydata.org/pandas-docs/version/0.18.0/visualization.html).  The [**Seaborn tutorial**](https://stanford.edu/~mwaskom/software/seaborn/tutorial.html) contains many examples of data visualization. The matplotlib web site has addition [**resources for learning plotting with Python tools**](http://matplotlib.org/resources/index.html).\n",
        "\n",
        "\n",
        "## Load and examine the data set\n",
        "\n",
        "Let's get started. The function shown in the cell below loads the data from the .csv file. Some minimal clean up is performed on the data. Rows with missing values are dropped and some columns are converted from strings containing numbers to numeric data.\n",
        "\n",
        "Execute the code in this cell to load the data into your notebook. **Make sure you have the .csv file in your working directory!**"
      ]
    },
    {
      "cell_type": "markdown",
      "source": [
        "**Shared Copies of Data Files from Google Drive**   \n",
        "\n",
        "  - [automobile_price_data.csv](https://bit.ly/cst3512_dvpv_auto)\n",
        "  - [sunspots.csv](https://bit.ly/cst3512_dvpv_sunspots)\n"
      ],
      "metadata": {
        "id": "oiTqAJsF4Hod"
      }
    },
    {
      "cell_type": "markdown",
      "source": [
        "Play each of the two following `!curl` statements to load the data files to this notebook's current working directory."
      ],
      "metadata": {
        "id": "jaDVq_PWR_FV"
      }
    },
    {
      "cell_type": "code",
      "source": [
        "!curl \"https://raw.githubusercontent.com/ProfessorPatrickSlatraigh/data/refs/heads/main/automobile_price_data.csv\" -o automobile_price_data.csv"
      ],
      "metadata": {
        "id": "O9Y_2L_7RuQB"
      },
      "execution_count": null,
      "outputs": []
    },
    {
      "cell_type": "code",
      "source": [
        "!curl \"https://raw.githubusercontent.com/ProfessorPatrickSlatraigh/data/refs/heads/main/sunspots.csv\" -o sunspots.csv"
      ],
      "metadata": {
        "id": "3-rwY_iFSISz"
      },
      "execution_count": null,
      "outputs": []
    },
    {
      "cell_type": "markdown",
      "source": [
        "The following `import` statements will prepare Python libraries for use by this notebook."
      ],
      "metadata": {
        "id": "LrYiYm01RkDF"
      }
    },
    {
      "cell_type": "code",
      "source": [
        "import pandas as pd\n",
        "import numpy as np\n",
        "import seaborn as sn"
      ],
      "metadata": {
        "id": "QjNzS9z5Trh9"
      },
      "execution_count": null,
      "outputs": []
    },
    {
      "cell_type": "code",
      "execution_count": null,
      "metadata": {
        "id": "h9L0n1vkMgPi"
      },
      "outputs": [],
      "source": [
        "def read_auto_data(fileName = \"automobile_price_data.csv\"):\n",
        "    'Function to load the auto price data set from a .csv file'\n",
        "    import pandas as pd\n",
        "    import numpy as np\n",
        "\n",
        "    ## Read the .csv file with the pandas read_csv method\n",
        "    auto_prices = pd.read_csv(fileName)\n",
        "\n",
        "    ## Remove rows with missing values, accounting for mising values coded as '?'\n",
        "    cols = ['price', 'bore', 'stroke',\n",
        "          'horsepower', 'peak-rpm']\n",
        "    for column in cols:\n",
        "        auto_prices.loc[auto_prices[column] == '?', column] = np.nan\n",
        "    auto_prices.dropna(axis = 0, inplace = True)\n",
        "\n",
        "    ## Convert some columns to numeric values\n",
        "    for column in cols:\n",
        "        auto_prices[column] = pd.to_numeric(auto_prices[column])\n",
        "#    auto_prices[cols] = auto_prices[cols].as_type(int64)\n",
        "\n",
        "    return auto_prices\n",
        "auto_prices = read_auto_data()"
      ]
    },
    {
      "cell_type": "markdown",
      "metadata": {
        "id": "kMSVBLA-MgPj"
      },
      "source": [
        "Using the Pandas ``head`` method let's have a first look at the columns in this data set."
      ]
    },
    {
      "cell_type": "code",
      "execution_count": null,
      "metadata": {
        "id": "pjEffloNMgPj"
      },
      "outputs": [],
      "source": [
        "auto_prices.head()"
      ]
    },
    {
      "cell_type": "markdown",
      "metadata": {
        "id": "FKos3bsPMgPk"
      },
      "source": [
        "You can see there are both numerical and string (categorical) variable types. As a next step examine some summary statistics of the numeric columns using the Pandas ``describe`` method. Note that units of measurement are American not Metric.  "
      ]
    },
    {
      "cell_type": "code",
      "execution_count": null,
      "metadata": {
        "id": "hSpQjNdjMgPk"
      },
      "outputs": [],
      "source": [
        "auto_prices.describe()"
      ]
    },
    {
      "cell_type": "markdown",
      "metadata": {
        "id": "h3LdVdcyMgPk"
      },
      "source": [
        "## Basic chart types\n",
        "\n",
        "Now that we have loaded and had a first look at the data, let's get to work making some charts.\n",
        "\n",
        "There are enumerable chart types that are used for data exploration. In this tutorial we focus on the most used chart types:\n",
        "\n",
        "- **Scatter plot**\n",
        "- **Line plots**\n",
        "- **Bar plots**\n",
        "- **Histograms**\n",
        "- **Box plots**\n",
        "- **Kernel Density Estimation Plots**\n",
        "- **Violin plots**\n",
        "\n",
        "### Scatter plots\n",
        "\n",
        "Scatter plots show the relationship between two variables in the form of dots on the plot. In simple terms, the values along a horizontal axis are plotted against a vertical axis.\n",
        "\n",
        "#### Scatter plots with Matplotlib\n",
        "\n",
        "Matplotlib is at the base of most Python plotting packages. Some basic understanding of Matplotlib will help you achieve better control of your graphics.\n",
        "\n",
        "Let's start by making a simple scatter plot. Our recipe is simple:\n",
        "\n",
        "- Import Matplotlib.pyplot\n",
        "- Use the plot method.\n",
        "- Specify the values to plot on the x and y axes.\n",
        "- Specify that we want red dots using a type of 'ro'. If you do not specify a type, you will get a line plot which is the default.\n",
        "\n",
        "Exectute the code in the cell below to create a scatter plot of city mpg vs. auto price.\n",
        "\n",
        "***\n",
        "**Note:** The IPython magic command `%matplotlib inline` enables the display of graphics inline with the Python code. If you do not include this command your graphs will not be displayed.\n",
        "***"
      ]
    },
    {
      "cell_type": "code",
      "execution_count": null,
      "metadata": {
        "scrolled": true,
        "id": "m6T5I1UMMgPl"
      },
      "outputs": [],
      "source": [
        "import matplotlib.pyplot as plt\n",
        "%matplotlib inline\n",
        "plt.plot(auto_prices['city-mpg'], auto_prices['price'], 'ro')"
      ]
    },
    {
      "cell_type": "markdown",
      "metadata": {
        "id": "6GWLkyhvMgPl"
      },
      "source": [
        "So far so good. However, this plot is rather limited in several respects. Can you see some obvious deficiencies in this plot?\n",
        "\n",
        "#### Scatter plots with Pandas\n",
        "\n",
        "While you can create most any visualization using Matplotlib, with enough code, you may want a simpler approach if your data are in a Pandas data frame. The Pandas package contains a number of useful plot methods which operate on data frames. The simple recipe for plotting from Pandas data frames is:\n",
        "\n",
        "- Use the plot method, specifing the ``kind`` argument, or use a chart-specific plot method.\n",
        "- Specify the columns with the values for the ``x`` and ``y`` axes."
      ]
    },
    {
      "cell_type": "code",
      "execution_count": null,
      "metadata": {
        "id": "6hAiCx-TMgPl"
      },
      "outputs": [],
      "source": [
        "auto_prices.plot(kind = 'scatter', x = 'city-mpg', y = 'price')"
      ]
    },
    {
      "cell_type": "markdown",
      "metadata": {
        "id": "BU-HMVd7MgPl"
      },
      "source": [
        "The Pandas plotting method provides some nice improvements compared to the basic Matplotlib plot. Namely, the axes are scaled a bit better, so that points are not cut off, and some sensible axis labels are generated.\n",
        "\n",
        "***\n",
        "**Your turn:** In the cell below create and exectue code to plot auto price vs curb weight.\n",
        "***"
      ]
    },
    {
      "cell_type": "code",
      "execution_count": null,
      "metadata": {
        "id": "VSJwOMFbMgPl"
      },
      "outputs": [],
      "source": []
    },
    {
      "cell_type": "markdown",
      "metadata": {
        "id": "sybtwAiLMgPm"
      },
      "source": [
        "Our basic recipe worked, but it does not give us much control over the result. We can take advantage of the fact that Pandas plot methods are built on matplotlib. Thus, we can specify a figure and one or more axes within that figure. Then, we can control many plot attributes once we have specified the axes. Our improved recipe looks like this:\n",
        "\n",
        "- Specify a figure, including a size.\n",
        "- Define one or more axes within the figure.\n",
        "- Use the pandas plot method of choice. Make sure you specify the axis you are using.\n",
        "- Use methods on the axes to control and add attributes like titles and axis labels."
      ]
    },
    {
      "cell_type": "code",
      "execution_count": null,
      "metadata": {
        "id": "Do9gKmJFMgPm"
      },
      "outputs": [],
      "source": [
        "import matplotlib.pyplot as plt\n",
        "fig = plt.figure(figsize=(6, 6)) # define plot area\n",
        "ax = fig.gca() # define axis\n",
        "auto_prices.plot(kind = 'scatter', x = 'city-mpg', y = 'price', ax = ax)\n",
        "ax.set_title('Scatter plot of price vs MPG') # Give the plot a main title\n",
        "ax.set_xlabel('City MPG') # Set text for the x axis\n",
        "ax.set_ylabel('Auto Price')# Set text for y axis"
      ]
    },
    {
      "cell_type": "markdown",
      "metadata": {
        "id": "lz7zAxsjMgPm"
      },
      "source": [
        "In the plot above, we can see that the most costly cars have the lowest fuel efficiency, whereas relatively inexpensive cars are also more economical to drive.\n",
        "\n",
        "***\n",
        "**Your turn:** In the cell below, ceate and execute the code required to display an improved version of the plot you created in the pervious exercise. Specify the plot size, and make sure to include axis lables and a main title."
      ]
    },
    {
      "cell_type": "code",
      "execution_count": null,
      "metadata": {
        "id": "YvRaaAC_MgPm"
      },
      "outputs": [],
      "source": []
    },
    {
      "cell_type": "markdown",
      "metadata": {
        "id": "0jfdnDTMMgPm"
      },
      "source": [
        "### Line plots\n",
        "\n",
        "Line plots are similar to point plots. In line plots the discrete points are connected by lines.\n",
        "\n",
        "First, we will create a dataframe, with a simple relationship between x and y."
      ]
    },
    {
      "cell_type": "code",
      "execution_count": null,
      "metadata": {
        "id": "5s2lsQabMgPn"
      },
      "outputs": [],
      "source": [
        "import pandas as pd\n",
        "x = list(range(100))\n",
        "y = [z * z for z in range(100)]\n",
        "df = pd.DataFrame({'x':x, 'y':y})"
      ]
    },
    {
      "cell_type": "markdown",
      "metadata": {
        "id": "7ToFT1IRMgPn"
      },
      "source": [
        "Now, apply the previous recipe to plot x vs y as a line chart."
      ]
    },
    {
      "cell_type": "code",
      "execution_count": null,
      "metadata": {
        "id": "3fIWD7lSMgPn"
      },
      "outputs": [],
      "source": [
        "fig = plt.figure(figsize=(10, 10)) # define plot area\n",
        "ax = fig.gca() # define axis\n",
        "df.plot(x = 'x', y = 'y', ax = ax) ## line is the default plot type\n",
        "ax.set_title('Line plot of x^2 vs. x') # Give the plot a main title\n",
        "ax.set_xlabel('x') # Set text for the x axis\n",
        "ax.set_ylabel('x^2')# Set text for y axis"
      ]
    },
    {
      "cell_type": "markdown",
      "metadata": {
        "id": "dFOxic8NMgPn"
      },
      "source": [
        "### Bar plots\n",
        "\n",
        "Bar plots are used to display the counts of unique values of a categorical variable. The height of the bar represents the count for each unique category of the variable.\n",
        "\n",
        "It is unlikely that your pandas data frame includes counts by category of a variable. Thus, the first step in making a bar plot is to compute the counts. Fortunately, pandas has a ``value_counts`` method. The code below uses this method to create a new data frame containing the counts by ``make`` of the car."
      ]
    },
    {
      "cell_type": "code",
      "execution_count": null,
      "metadata": {
        "id": "Su15ucTkMgPn"
      },
      "outputs": [],
      "source": [
        "counts = auto_prices['make'].value_counts() # find the counts for each unique category\n",
        "counts"
      ]
    },
    {
      "cell_type": "markdown",
      "metadata": {
        "id": "QxLiGZPhMgPo"
      },
      "source": [
        "You can see the ordered list of counts by make above. Notice that this data frame has many fewer rows than the original, since it only needs one row for each unique value of the make.\n",
        "\n",
        "Now, create the bar plot of number of autos by make using the ``counts`` data frame, by executing the code in the cell below. Notice, that the recipe for this chart is the same as we have used for scatter plots and line plots, just using the ``.plot.bar`` method."
      ]
    },
    {
      "cell_type": "code",
      "execution_count": null,
      "metadata": {
        "id": "6YGIgGxtMgPo"
      },
      "outputs": [],
      "source": [
        "fig = plt.figure(figsize=(6,6)) # define plot area\n",
        "ax = fig.gca() # define axis\n",
        "counts.plot.bar(ax = ax) # Use the plot.bar method on the counts data frame\n",
        "ax.set_title('Number of auto types by make') # Give the plot a main title\n",
        "ax.set_xlabel('Make') # Set text for the x axis\n",
        "ax.set_ylabel('Number of autos')# Set text for y axis"
      ]
    },
    {
      "cell_type": "markdown",
      "metadata": {
        "id": "OrphBZrgMgPo"
      },
      "source": [
        "The bar plot clearly shows which auto manufacturers have the largest number of models. The more specialized makes have relatively fewer models.\n",
        "\n",
        "### Histograms\n",
        "\n",
        "Histograms are related to bar plots. Histograms are used for numeric variables. Whereas, a bar plot shows the counts of unique categories, a histogram shows the number of data with values within a bin. The bins divide the values of the variable into equal segments. The vertical axis of the histogram shows the count of data values within each bin.  \n",
        "\n",
        "The code below follows our same basic recipe to create a histogram of ``engine-size``. Notice however, that the column of the data frame we wish to plot is specified by name as ``auto_prices['engine-size']``."
      ]
    },
    {
      "cell_type": "code",
      "execution_count": null,
      "metadata": {
        "id": "IqDf9HjOMgPo"
      },
      "outputs": [],
      "source": [
        "fig = plt.figure(figsize=(6,6)) # define plot area\n",
        "ax = fig.gca() # define axis\n",
        "auto_prices['engine-size'].plot.hist(ax = ax) # Use the plot.hist method on subset of the data frame\n",
        "ax.set_title('Histogram of auto engine size') # Give the plot a main title\n",
        "ax.set_xlabel('Engine size') # Set text for the x axis\n",
        "ax.set_ylabel('Number of autos')# Set text for y axis"
      ]
    },
    {
      "cell_type": "markdown",
      "metadata": {
        "id": "Of9vxtJ7MgPo"
      },
      "source": [
        "The histogram shows that the distibution of engine size is skewed toward small engines. There are also a few autos with very large engines, which appear as outliers.\n",
        "\n",
        "### Box plots\n",
        "\n",
        "Box plots, also known as box and wisker plots, were introduced by John Tukey in 1970. Box plots are another way to visualize the distribution of data values. In this respect, box plots are comparable to histograms, but are quite different in presentation.\n",
        "\n",
        "On a box plot the median value is shown with a dark bar. The inner two quartiles of data values are contained within the 'box'. The 'wiskers' enclose the majority of the data (up to +/- 2.5 * interquartile range). Outliers are shown by symbols byond the wiskers.\n",
        "\n",
        "Several box plots can be stacked along an axis for comparison. The data are divided using a 'group by' operation, and the box plots for each group are stacked next to each other. In this way, the box plot allows you to display two dimensions of your data set.\n",
        "\n",
        "The code in the cell below generally follows the recipe we have been using. The data frame is subsetted to two columns. One column contains the numeric values to plot and the other column is the group by variable. In this case, the group by variable is specified with the ``by = 'fuel-type'`` argument."
      ]
    },
    {
      "cell_type": "code",
      "execution_count": null,
      "metadata": {
        "id": "OZeIO8LwMgPo"
      },
      "outputs": [],
      "source": [
        "fig = plt.figure(figsize=(8,6)) # define plot area\n",
        "ax = fig.gca() # define axis\n",
        "auto_prices[['engine-size','fuel-type']].boxplot(by = 'fuel-type', ax = ax) # Use the plot.bar method on the new data frame\n",
        "ax.set_title('Box plots of auto engine size by fule type') # Give the plot a main title\n",
        "ax.set_xlabel('Fuel type') # Set text for the x axis\n",
        "ax.set_ylabel('Engine size')# Set text for y axis\n"
      ]
    },
    {
      "cell_type": "markdown",
      "metadata": {
        "id": "AS6RSY4VMgPp"
      },
      "source": [
        "Examine the plot above and notice the differences in the distribution of engine size by fuel type. There is considerable overlap in the inter-quartile range (the range within the boxes), with gas cars having generally smaller engines. The median engine size (the red bar) for gas cars is noticeably lower than for diesel cars. However, the range of engine sizes for gas cars is greater, including a few outliers. It is likely, these are the outliers we saw in the histogram.\n",
        "\n",
        "### Kernel density plots and introduction to Seaborn\n",
        "\n",
        "Up until now we have been working exclusively with the plotting methods in Matplotlib and Pandas. We will now start working with the Seaborn package.  Seaborn is a newer Python package which abstracts lower level matplotlib charts. Seaborn also implements some additional cutting-edge chart types.\n",
        "\n",
        "If you have not done so, you will need to install Seaborn as it is not in the Anaconda distribution as of now. From a command prompt on your computer, type the following command. If no errors occur, you will have installed Seaborn.\n",
        "\n",
        "``pip install seaborn``\n",
        "\n",
        "or\n",
        "\n",
        "``conda install seaborn``\n",
        "\n",
        " Kernel density plots are similar in concept to a histogram. A kernel density plot displays the values of a smoothed density curve of the data values. In other words, the kernel density plot is a smoothed version of a histogram.\n",
        "\n",
        " The code in the cell below creates a violin plot using the following recipe:\n",
        "\n",
        " - Import the Seaborn package,\n",
        " - Set a style for the plot grid.\n",
        " - Define the plot type with ``kdeplot`` using the engine-size column as the argument.\n",
        "\n",
        " ****\n",
        " **Note:** Depending on your platform and versions of Numpy, you may see a deprecation warning. You can safely ignore this warning.\n",
        " ****"
      ]
    },
    {
      "cell_type": "code",
      "execution_count": null,
      "metadata": {
        "id": "Ocppdk3BMgPp"
      },
      "outputs": [],
      "source": [
        "import seaborn as sns\n",
        "sns.set_style(\"whitegrid\")\n",
        "sns.kdeplot(auto_prices['engine-size'])"
      ]
    },
    {
      "cell_type": "markdown",
      "metadata": {
        "id": "ensSr3s6MgPp"
      },
      "source": [
        "The KDE plot results are similar to what we observed with the histogram of engine size. Engine size is skewed toward the small size, and there are outliers of a few cars with large engines clearly visible.\n",
        "\n",
        "As we did with pandas plots, we control the properties of a Seaborn plot by specifing axes. The code in the cell below extends our simple recipe for Seaborn plots:\n",
        "\n",
        "- Define a figure.\n",
        "- Define one or more axes on the figure.\n",
        "- Set a style for the plot grid.\n",
        "- Define the plot type and columns to be plotted.\n",
        "- Use methods on the axes to control attributes like titles and axis labels."
      ]
    },
    {
      "cell_type": "code",
      "execution_count": null,
      "metadata": {
        "id": "4d_5qAZcMgPp"
      },
      "outputs": [],
      "source": [
        "fig = plt.figure(figsize=(6,6)) # define plot area\n",
        "ax = fig.gca() # define axis\n",
        "sns.set_style(\"whitegrid\")\n",
        "sns.kdeplot(auto_prices['engine-size'], ax = ax)\n",
        "ax.set_title('KDE plot of auto engine size') # Give the plot a main title\n",
        "ax.set_xlabel('Engine Size') # Set text for the x axis\n",
        "ax.set_ylabel('Density')# Set text for y axis"
      ]
    },
    {
      "cell_type": "markdown",
      "metadata": {
        "id": "8-pc02RiMgPp"
      },
      "source": [
        "We can also create a two dimensional KDE plot. The code in the cell below creates a two dimensional kde plot of price and engine size following the same recipe. Notice that all we needed to do was to specify another data frame column for the second dimension."
      ]
    },
    {
      "cell_type": "code",
      "source": [
        "fig = plt.figure(figsize=(6,6))  # define plot area\n",
        "ax = fig.gca()  # define axis\n",
        "sns.set_style(\"whitegrid\")\n",
        "\n",
        "sns.kdeplot(\n",
        "    x=auto_prices['engine-size'],\n",
        "    y=auto_prices['price'],\n",
        "    ax=ax,\n",
        "    fill=True,\n",
        "    cmap=\"Blues\"\n",
        ")\n",
        "\n",
        "ax.set_title('KDE plot of auto engine size and price')\n",
        "ax.set_xlabel('Engine Size')\n",
        "ax.set_ylabel('Price')"
      ],
      "metadata": {
        "id": "0DwUJQYqT2Yr"
      },
      "execution_count": null,
      "outputs": []
    },
    {
      "cell_type": "code",
      "source": [
        "print(auto_prices)"
      ],
      "metadata": {
        "id": "MIJC3REdYxNX"
      },
      "execution_count": null,
      "outputs": []
    },
    {
      "cell_type": "markdown",
      "metadata": {
        "id": "OtuQLDYXMgPq"
      },
      "source": [
        "We can clearly see that there is a single strong mode for both auto price and engine size. There is a skew of both variables toward lower cost cars with smaller engines.\n",
        "\n",
        "### Violin plots\n",
        "\n",
        "Now, we will use Seaborn to create a violin plot. A violin plot combines attributes of boxplots and a kernel density estimation plot. Like a box plot, the violin plots can be stacked, with a group by operation. Additionally, the violin plot provides a kernel density estimate for each group. As with the box plot, violin plots allow you to display two dimensions of your data set.\n",
        "\n",
        "The code in the cell below follows the recipe we have laid out for Seaborn plotting. The ``sns.violinplot`` method has more arguments than the kdeplot method.\n",
        "\n",
        "- The columns used for the plot are set with the ``x`` and ``y`` arguments.\n",
        "- The ``x`` column is the group by variable.\n",
        "- The ``data`` argument specifies a pandas data frame or a numpy array."
      ]
    },
    {
      "cell_type": "code",
      "execution_count": null,
      "metadata": {
        "id": "8lHqabDeMgPq"
      },
      "outputs": [],
      "source": [
        "fig = plt.figure(figsize=(8,8)) # define plot area\n",
        "ax = fig.gca() # define axis\n",
        "sns.set_style(\"whitegrid\")\n",
        "sns.violinplot(x = 'fuel-type', y = 'engine-size', data = auto_prices, ax = ax)\n",
        "ax.set_title('Violine plots of auto engine size by fuel type') # Give the plot a main title\n",
        "ax.set_xlabel('Fuel type') # Set text for the x axis\n",
        "ax.set_ylabel('Engine size')# Set text for y axis"
      ]
    },
    {
      "cell_type": "markdown",
      "metadata": {
        "id": "GNVDcn3qMgPq"
      },
      "source": [
        "The differences in the distribution of engine sizes between gas and diesel cars are clearly visible in the violin plots. We can confirm that the engine size of gas cars is skewed to the small size, but with a wider overall range. There are some gas cars with very small engine sizes and a number of autos that appear as outliers with large engines. The distibution of diesel engine sizes is more uniform.\n",
        "\n",
        "## Viewing multiple dimensions with aesthetics\n",
        "\n",
        "We have now explored some basic plot types. We have only looked at plots for one or two columns of data. Thus, we have been limited to visualization of only two dimensions of our data set.\n",
        "\n",
        "Now, we will use plot aesthetics to view additional dimensions of the data set. These asthetics allow you to project additonal dimensions onto a two dimensional plot surface. Additionally, carefull choice of plot aesthetics can highlight certain aspects of a data set you are exploring.   \n",
        "\n",
        "There are many possible aesthetics one can use for visualization. Specific examples we will work with here include:\n",
        "\n",
        "- Color\n",
        "- Transparency\n",
        "- Size\n",
        "- Marker shape\n",
        "- Aesthetics specific to plot type\n",
        "\n",
        "Using aesthetics with a bit of cleverness can lead to interesting insights about a data set. Don't over do it! Too many colors, shapes and sizes can be confusing, obfuscating rather than enlightening.\n",
        "\n",
        "### Color\n",
        "\n",
        "Color can be used to view an additional dimension on a scatter plot. A categorical factor can be shown using different colors for the different categories.\n",
        "\n",
        "*****\n",
        "**Caution!** Make sure you use choose a palette with distinctive colors for each cateogry. Too many categories using similar colors are invariably hard to see and imposible to interpret.\n",
        "****\n",
        "\n",
        "The code in the cell below uses the ``hue`` argument to add a third dimension, ``fuel-type`` to a scatter plot. A color palette is also specified."
      ]
    },
    {
      "cell_type": "code",
      "execution_count": null,
      "metadata": {
        "id": "RAOtWy0-MgPq"
      },
      "outputs": [],
      "source": [
        "sns.lmplot(x = 'city-mpg', y = 'price',\n",
        "           data = auto_prices,\n",
        "           hue = \"fuel-type\",\n",
        "           palette=\"Set2\", fit_reg = False)"
      ]
    },
    {
      "cell_type": "markdown",
      "metadata": {
        "id": "ghgBFprsMgPq"
      },
      "source": [
        "In the above plot we can see that a diesel car is generally more costly at a given fuel efficiency. We can also see that all of the least efficient and most expensive cars have gas engines.\n",
        "\n",
        "If we are willing to create more code, we can gain a great deal more control over plot aesthetics. The code in the function shown below divides the data into subsets and plots them with different aesthetics on the same set of axes. The recipe is:\n",
        "\n",
        "- Import the required packages\n",
        "- Loop over a list of column names for the horizontal axis. In this example we only specify one.\n",
        "- Define a figure and axes for the plot\n",
        "- Subset the data by ``gas`` and ``diesel`` cars.\n",
        "- If the subset has more than zero members create scatter plots with the aesthetics defined. In this case, the attribute is color defined as either ``DarkBlue`` or ``Red``.\n",
        "- Create a list of patches and display the patches for the ledgend."
      ]
    },
    {
      "cell_type": "code",
      "execution_count": null,
      "metadata": {
        "id": "e4NepeIMMgPq"
      },
      "outputs": [],
      "source": [
        "def auto_color(df, plot_cols):\n",
        "    import matplotlib.pyplot as plt\n",
        "    import matplotlib.patches as mpatches\n",
        "    for col in plot_cols:\n",
        "        fig = plt.figure(figsize=(6,6))\n",
        "        ax = fig.gca()\n",
        "        temp1 = df.loc[df['fuel-type'] == 'gas']\n",
        "        temp2 = df.loc[df['fuel-type'] == 'diesel']\n",
        "        if temp1.shape[0] > 0:\n",
        "            temp1.plot(kind='scatter', x=col, y='price', ax=ax, color='DarkBlue')\n",
        "        if temp2.shape[0] > 0:\n",
        "            temp2.plot(kind='scatter', x=col, y='price', ax=ax, color='Red')\n",
        "        ax.set_title('Scatter plot of price vs. ' + col)\n",
        "        red_patch = mpatches.Patch(color='Red', label='Diesel')\n",
        "        blue_patch = mpatches.Patch(color='DarkBlue', label='Gas')\n",
        "        ax.legend(handles=[red_patch, blue_patch])\n",
        "    return 'Done'\n",
        "auto_color(auto_prices, ['city-mpg'])"
      ]
    },
    {
      "cell_type": "markdown",
      "metadata": {
        "id": "CDlQOsfDMgPq"
      },
      "source": [
        "The above scatter plot is similar to the previous one. Notice that the colors are more distinctive. A similar effect can be achieved with Seaborn plots by choosing another color palette.\n",
        "\n",
        "### Transparency\n",
        "\n",
        "In the scatter plot above, notice there are areas on the plot with dense clusters of points. In particular, there are overlapping points for gas cars with city mpg between 19 and 31 (mpg is apparently reported in integer units).\n",
        "\n",
        "Because of the **over-plotting** effect is hard to see just how many cars are represented in some regions of the plot. Transparency, is a useful aesthetic to overcome over-plotting. Transparency is defined on a scale from 0 (completely transparent, or invisible) to 1 (perfectly opaque). By choosing reasonable transparency values, you can get a feel for how many points are clustered in a small area of a plot.\n",
        "\n",
        "The code in the cell below follows the aforementioned recipe. A transparency argument, ``alpha``, has been added."
      ]
    },
    {
      "cell_type": "code",
      "execution_count": null,
      "metadata": {
        "id": "CAwl54UTMgPr"
      },
      "outputs": [],
      "source": [
        "def auto_color(df, plot_cols):\n",
        "    import matplotlib.pyplot as plt\n",
        "    import matplotlib.patches as mpatches\n",
        "    for col in plot_cols:\n",
        "        fig = plt.figure(figsize=(10, 10))\n",
        "        ax = fig.gca()\n",
        "        temp1 = df.loc[df['fuel-type'] == 'gas']\n",
        "        temp2 = df.loc[df['fuel-type'] == 'diesel']\n",
        "        if temp1.shape[0] > 0:\n",
        "            temp1.plot(kind='scatter', x=col, y='price',\n",
        "                       ax=ax, color='DarkBlue', alpha=0.3)\n",
        "        if temp2.shape[0] > 0:\n",
        "            temp2.plot(kind='scatter', x=col, y='price',\n",
        "                       ax=ax, color='Red', alpha=0.3)\n",
        "        ax.set_title('Scatter plot of price vs. ' + col)\n",
        "        red_patch = mpatches.Patch(color='Red', label='Diesel')\n",
        "        blue_patch = mpatches.Patch(color='DarkBlue', label='Gas')\n",
        "        ax.legend(handles=[red_patch, blue_patch])\n",
        "    return plot_cols\n",
        "auto_color(auto_prices, ['city-mpg'])"
      ]
    },
    {
      "cell_type": "markdown",
      "metadata": {
        "id": "PqWQRz-TMgPr"
      },
      "source": [
        "With the transparency set to 0.3, you can now better see the density of autos in areas of the plot with significant overplotting. Notice, how changing this aesthetic changes your view of the distributon of data on the city mpg versus price projection. Most gas cars are clustered in a small range of price and fuel efficiency.\n",
        "\n",
        "****\n",
        "#### Exercise\n",
        "So far in our exploration of the automotive data with scatter plots we have focused on the relationship between price and city mpg. In this exercise you will create plots for some additional columns:\n",
        "\n",
        "- Create a new code cell.\n",
        "- Copy the code from the code cell above into the new cell.\n",
        "- Change at least one of the color choices.\n",
        "- Call the ``auto_color`` function with a list of different columns: ``['engine-size', 'curb-weight']``.\n",
        "- Examine the resulting plots. What can you learn from these plots?\n",
        "\n",
        "****"
      ]
    },
    {
      "cell_type": "code",
      "execution_count": null,
      "metadata": {
        "id": "egu_G1FbMgPr"
      },
      "outputs": [],
      "source": []
    },
    {
      "cell_type": "markdown",
      "metadata": {
        "id": "sEfvwqVfMgPr"
      },
      "source": [
        "### Using marker size\n",
        "\n",
        "Another aesthetic, which can project an additional dimension onto a two dimensional plot, is marker size. The code in the cell below uses the scaled size of the marker to indicate engine size."
      ]
    },
    {
      "cell_type": "code",
      "execution_count": null,
      "metadata": {
        "id": "kFxUpPLHMgPr"
      },
      "outputs": [],
      "source": [
        "def auto_size(df, plot_cols):\n",
        "    import matplotlib.pyplot as plt\n",
        "    import matplotlib.patches as mpatches\n",
        "    for col in plot_cols:\n",
        "        fig = plt.figure(figsize=(6, 6))\n",
        "        ax = fig.gca()\n",
        "        temp1 = df.loc[df['fuel-type'] == 'gas']\n",
        "        temp2 = df.loc[df['fuel-type'] == 'diesel']\n",
        "        if temp1.shape[0] > 0:\n",
        "            temp1.plot(kind='scatter', x=col, y='price',\n",
        "                       ax=ax, color='DarkBlue',\n",
        "                       s=0.5 * temp1['engine-size'], alpha=0.3)\n",
        "        if temp2.shape[0] > 0:\n",
        "            temp2.plot(kind='scatter', x=col, y='price',\n",
        "                       ax=ax, color='Red',\n",
        "                       s=0.5 * temp2['engine-size'], alpha=0.3)\n",
        "        ax.set_title('Scatter plot of price vs. ' + col + ' with engine size')\n",
        "        red_patch = mpatches.Patch(color='Red', label='Diesel')\n",
        "        blue_patch = mpatches.Patch(color='DarkBlue', label='Gas')\n",
        "        ax.legend(handles=[red_patch, blue_patch])\n",
        "    return plot_cols\n",
        "auto_size(auto_prices, ['city-mpg'])"
      ]
    },
    {
      "cell_type": "markdown",
      "metadata": {
        "id": "CEG3Z7UAMgPr"
      },
      "source": [
        "Examine the above plot noticing the different marker sizes. With larger markers, setting transparency is more necessary than ever.\n",
        "\n",
        "You may notice that the difference in engine size is not always apparent in the above plot. Using marker size can be a bit tricky. Another option is to use the square of the value being projected to determine marker size. The area of the marker is then proportional to the value of interest, rather than the less noticeable marker size.\n",
        "\n",
        "The code in the cell below use the square of engine size to determine marker size.  "
      ]
    },
    {
      "cell_type": "code",
      "execution_count": null,
      "metadata": {
        "scrolled": false,
        "id": "cGHn6kguMgPr"
      },
      "outputs": [],
      "source": [
        "def auto_size_2(df, plot_cols):\n",
        "    import matplotlib.pyplot as plt\n",
        "    import matplotlib.patches as mpatches\n",
        "    for col in plot_cols:\n",
        "        fig = plt.figure(figsize=(6, 6))\n",
        "        ax = fig.gca()\n",
        "        temp1 = df.loc[df['fuel-type'] == 'gas']\n",
        "        temp2 = df.loc[df['fuel-type'] == 'diesel']\n",
        "        if temp1.shape[0] > 0:\n",
        "            temp1.plot(\n",
        "                kind='scatter',\n",
        "                x=col,\n",
        "                y='price',\n",
        "                ax=ax,\n",
        "                color='DarkBlue',\n",
        "                s=0.02 * temp1['engine-size'] ** 2,\n",
        "                alpha=0.3\n",
        "            )\n",
        "        if temp2.shape[0] > 0:\n",
        "            temp2.plot(\n",
        "                kind='scatter',\n",
        "                x=col,\n",
        "                y='price',\n",
        "                ax=ax,\n",
        "                color='Red',\n",
        "                s=0.02 * temp2['engine-size'] ** 2,\n",
        "                alpha=0.3\n",
        "            )\n",
        "        ax.set_title('Scatter plot of price vs. ' + col + ' with engine size')\n",
        "        red_patch = mpatches.Patch(color='Red', label='Diesel')\n",
        "        blue_patch = mpatches.Patch(color='DarkBlue', label='Gas')\n",
        "        ax.legend(handles=[red_patch, blue_patch])\n",
        "    return 'Done'\n",
        "auto_size_2(auto_prices, ['city-mpg'])"
      ]
    },
    {
      "cell_type": "markdown",
      "metadata": {
        "id": "ANvF2dxWMgPs"
      },
      "source": [
        "Examine the above plot. Notice that the differences in engine size are much more apparent when we use area to determine marker size.\n",
        "\n",
        "### Using marker shapes\n",
        "\n",
        "Marker shape can be used to project an additonal dimension onto a two dimensional plotting surface. Typically, different marker shapes are used to indicate the categories of a categorical variable. As with other aesthetics, don't over do it. Too many similar markers on a chart will only obfuscate the relationships you are trying to show.\n",
        "\n",
        "The code in the cell below uses different marker shapes to indicate standard and turbo aspiration cars."
      ]
    },
    {
      "cell_type": "code",
      "execution_count": null,
      "metadata": {
        "id": "UsmScJKWMgPs"
      },
      "outputs": [],
      "source": [
        "def auto_shape(df):\n",
        "    import matplotlib.pyplot as plt\n",
        "    import matplotlib.lines as mlines\n",
        "    aspiration = ['turbo', 'turbo', 'std', 'std']\n",
        "    fuel = ['diesel', 'gas', 'diesel', 'gas']\n",
        "    mrks = ['o', 'o', '+', '+']\n",
        "    cols = ['Red', 'DarkBlue', 'Red', 'DarkBlue']\n",
        "    ldg = []\n",
        "    fig = plt.figure(figsize=(6, 6))\n",
        "    ax = fig.gca()\n",
        "\n",
        "    for asp, fl, mk, cl in zip(aspiration, fuel, mrks, cols):\n",
        "        temp = df.loc[(df['aspiration'] == asp) & (df['fuel-type'] == fl)]\n",
        "        if temp.shape[0] > 0:\n",
        "            temp.plot(\n",
        "                kind='scatter',\n",
        "                x='city-mpg',\n",
        "                y='price',\n",
        "                ax=ax,\n",
        "                color=cl,\n",
        "                marker=mk,\n",
        "                s=0.02 * temp['engine-size'] ** 2,\n",
        "                alpha=0.5\n",
        "            )\n",
        "        ldg.append(\n",
        "            mlines.Line2D([], [], color=cl, marker=mk, markersize=10,\n",
        "                          label=(asp + ' and ' + fl))\n",
        "        )\n",
        "\n",
        "    ax.set_title('Scatter plot of price vs. city mpg with marker size = engine size')\n",
        "    plt.legend(handles=ldg)\n",
        "    return 'Done'\n",
        "auto_shape(auto_prices)"
      ]
    },
    {
      "cell_type": "markdown",
      "metadata": {
        "id": "7o8psQH6MgPs"
      },
      "source": [
        "The above plot projects five dimensions onto the two dimensional plot surface: price, city mpg, engine size, aspiration type, and fuel type. It takes some time and effort to fully understand all of the information provided.\n",
        "\n",
        "Some conclusions we can draw from the chart above include:\n",
        "\n",
        "- The most expensive cars have larger, standard aspiration, gas engines.\n",
        "- Most diesel cars use tubo aspiration and these tend to be more expensive.\n",
        "- Turbo aspiration gas engine cars are in the low range of fuel efficiency, but in the middle of the price range.\n",
        "- Some lower cost cars have large gas engines.\n",
        "\n",
        "### Plot specific aesthetics - Histogram bins\n",
        "\n",
        "We have used some fairly general aesthetics to bring forth relationships in our dataset. We will now look at some additional aesthetics which tend to be more chart type specific.\n",
        "\n",
        "As a first example, we will examine the effect of changing the number of bins in a histogram. The code below plots the histogram of engine size using different numbers of bins; the default of 10 bins and 40 bins. This is also the first time we have placed multiple sets of axes on the same figure. The first line of code defines two subplots in one row on the figure.  "
      ]
    },
    {
      "cell_type": "code",
      "execution_count": null,
      "metadata": {
        "id": "z7MKWcCTMgPs"
      },
      "outputs": [],
      "source": [
        "fig, ax = plt.subplots(1, 2, figsize = (16, 6))\n",
        "auto_prices['engine-size'].plot.hist(ax = ax[0])\n",
        "ax[0].set_title('Histogram of auto engine size with 10 bins') # Give the plot a main title\n",
        "ax[0].set_xlabel('Engine size') # Set text for the x axis\n",
        "ax[0].set_ylabel('Number of autos')# Set text for y axis\n",
        "auto_prices['engine-size'].plot.hist(ax = ax[1], bins = 40)\n",
        "ax[1].set_title('Histogram of auto engine size with 40 bins')\n",
        "ax[1].set_xlabel('Engine size')\n",
        "ax[1].set_ylabel('Number of autos')"
      ]
    },
    {
      "cell_type": "markdown",
      "metadata": {
        "id": "qIhcD3nWMgPs"
      },
      "source": [
        "Notice that the histogram with 10 bins gives a smoother result, which may be better for obtaining an overall impression of the distribution. The histogram with 40 bins shows more detail, particularly for the outliers.\n",
        "\n",
        "### Plot specific aesthetics - Split violin plot\n",
        "\n",
        "The violin plots supported in Seaborn, allow you to group the data by a binary categorical variable. In the code shown below, the ``hue`` argument is used to show the KDEs of standard and turbo aspiration cars, for grouped by the ``x`` axis variable of fuel type. The resulting plot shows three dimensions: price, fuel type and aspiration."
      ]
    },
    {
      "cell_type": "code",
      "execution_count": null,
      "metadata": {
        "id": "Qb43gGI_MgPs"
      },
      "outputs": [],
      "source": [
        "import seaborn as sns\n",
        "sns.set_style(\"whitegrid\")\n",
        "sns.violinplot(data = auto_prices, x = 'fuel-type', y = 'price', hue=\"aspiration\",  split=True)"
      ]
    },
    {
      "cell_type": "markdown",
      "metadata": {
        "id": "7m02qXUuMgPs"
      },
      "source": [
        "From the plot above, we can see that standard aspiration gas engine cars have the widest range of prices. We can also see that diesel cars tend to be more expensive. Finally both gas and diesel engine cars with standard aspiration have prices skewed to the lower side.\n",
        "\n",
        "### Plot specific aesthetics - Box plots\n",
        "\n",
        "Using Seaborn we can add group data for box plots by ``hue``, much as we just did with violin plots. The code below uses the `hue` aesthetic to group the cars by body style. As before, the `x` axis groups the autos by fuel type."
      ]
    },
    {
      "cell_type": "code",
      "source": [
        "import matplotlib.pyplot as plt\n",
        "sns.set_style(\"whitegrid\")\n",
        "\n",
        "fig, ax = plt.subplots(figsize=(8, 6))\n",
        "sns.boxplot(data=auto_prices, x='fuel-type', y='price', hue='body-style', ax=ax)\n",
        "ax.legend(loc='upper left', bbox_to_anchor=(1, 1))  # legend outside top-right\n",
        "plt.tight_layout()"
      ],
      "metadata": {
        "id": "Mcbeyo3fWh8M"
      },
      "execution_count": null,
      "outputs": []
    },
    {
      "cell_type": "markdown",
      "metadata": {
        "id": "yzPSByj0MgPt"
      },
      "source": [
        "Adding the color asthetic has highlighted some complex relationships in our data set. Examine the plot, noticing several interesting relationships including:\n",
        "\n",
        "- Gas hardtops have the widest range of price, followed by gas convertibles.\n",
        "- There are few available body styles for diesel cars.\n",
        "- Gas hatchbacks are generally the lowest cost cars, follow by gas and diesel sedans.\n",
        "- There are two diesel cars with unique body types. A different plot or a simple subsetting of the data is required to indentify these body types.\n",
        "\n",
        "****\n",
        "#### Exercise\n",
        "You have now seen a number of examples of using plot aesthetics to highlight various relationships in the data set. In the cell below create and  exectue the code to do the following:\n",
        "\n",
        "- Change the ``x`` group by variable to ``'drive-wheels'``.\n",
        "- Examine the resulting plot. What new information is now apparent? f\n",
        "\n",
        "Hint, copy the code used for the previous violin plot into the new cell.\n",
        "****"
      ]
    },
    {
      "cell_type": "code",
      "execution_count": null,
      "metadata": {
        "id": "x617vcpMMgPt"
      },
      "outputs": [],
      "source": []
    },
    {
      "cell_type": "markdown",
      "metadata": {
        "id": "oh4xbGz0MgPt"
      },
      "source": [
        "## Multi-axis and Facet Plots\n",
        "\n",
        "We have explored basic plot types and using aesthetics to project multiple dimensions onto basic plot types. Now we will investige the use of multiple axis plots. Multiple axis plots use an array of axes to display relationships in a data set. Multiple plot axes plots inlcude scatter plot matricies and a technique known as **faceting**. Faceting involves using values of categorical or numeric variables to create a systematic grid of related plots. Faceting goes by several other monikers, including **conditional plotting**, the **method of small multiples** or **lattice plotting**.\n",
        "\n",
        "We will now explore several aspects of these:\n",
        "\n",
        "- Pair plots with marginal density\n",
        "- Pairwise scatter plots\n",
        "- Plots on multiple axes\n",
        "- Faceted plots\n",
        "\n"
      ]
    },
    {
      "cell_type": "markdown",
      "metadata": {
        "id": "r2C9Qc2GMgPt"
      },
      "source": [
        "### Pair plot with marginal density\n",
        "\n",
        "A simple multi-axis plot type is a scatter plot with the marginal density of each diminsion shown along either the horizontal or vertical axis.\n",
        "\n",
        "The code in the cell below uses the Seaborn ``jointplot`` method to create just such a plot. The columns to be plotted on the x and y axis, along with the name of a pandas data frame or numpy array are specified as arguments. The transparency argument ``alpha`` is specified to deal with overplotting."
      ]
    },
    {
      "cell_type": "code",
      "source": [
        "sns.set_style(\"whitegrid\")\n",
        "sns.jointplot(x='engine-size', y='price', data=auto_prices, alpha=0.3)"
      ],
      "metadata": {
        "id": "6mm55ZLaXGid"
      },
      "execution_count": null,
      "outputs": []
    },
    {
      "cell_type": "markdown",
      "metadata": {
        "id": "5y-GcZOWMgPt"
      },
      "source": [
        "The above plot shows the relationship between price and engine size. The marginal distribution of price is shown along the y axis and the marginal distribution of engine size is shown along the x axis.\n",
        "\n",
        "### Pair wise plots\n",
        "\n",
        "Pair wise plots, also know as plot matrices, allow us to view multiple dimensions of a data set on one plot. A scatter plot is shown of each variable versus all other variables, arranged in an array. Another type of plot, such as a KDE plot, can be shown for each pair of variables. Other plot types can be placed along the diagonal of the array.\n",
        "\n",
        "Code to create a pair wise scatter plot for certain variables in the auto price data set is shown in the cell below. The recipe is:\n",
        "\n",
        "- Define a list of the columns we wish to display.\n",
        "- Use the Seaborn ``pairplot`` method to display the pairwise scatter plots of the subset of the pandas data frame or numpy array. The ``map_upper`` method is used to add KDE plots to the upper part of the plot array.\n",
        "- An argument to ``pairplot`` defines a color palette.\n",
        "- An argument to ``pairplot`` defines KDE plots be placed along the diagonal of the array."
      ]
    },
    {
      "cell_type": "code",
      "source": [
        "num_cols = [\"length\", \"curb-weight\", \"engine-size\", \"horsepower\", \"city-mpg\", \"price\", \"fuel-type\"]\n",
        "\n",
        "sns.set_style(\"whitegrid\")\n",
        "g = sns.pairplot(\n",
        "    auto_prices[num_cols],\n",
        "    hue='fuel-type',\n",
        "    palette=\"Set2\",\n",
        "    diag_kind=\"kde\",\n",
        "    height=2  # replaces deprecated size=\n",
        ")\n",
        "g.map_upper(sns.kdeplot)  # removed cmap, which is ignored with hue"
      ],
      "metadata": {
        "id": "Nx1V1v_4XupW"
      },
      "execution_count": null,
      "outputs": []
    },
    {
      "cell_type": "markdown",
      "metadata": {
        "id": "0BH7MmFIMgPu"
      },
      "source": [
        "There is a great deal of information on the above plot. Examine this plot, noticing at least the following:\n",
        "\n",
        "- There are KDE plots grouped by fuel type for each of the variables specified.\n",
        "- Autos with larger length, curb weight, engine size, and horse power are more expensive.\n",
        "- Cars with higher curb weights tend to be longer and have larger engines.\n",
        "- Longer, heavier cars, have larger engines, or more horsepower and are less fuel efficient.  \n",
        "\n",
        "### Plots on multiple axes\n",
        "\n",
        "In a previous exercise you created a first plot with multiple sets of axes. We will now extend this concept to a two dimensional array of axes. Data plotted in each set of axes in the array can be subsetted or grouped by one or more variables. Thus, the two dimensional grid is a method for projecting at least two additonal dimensions of the data set onto the two dimensional plot surface.  \n",
        "\n",
        "The function defined in the cell below creates a two dimensional array of histograms. The recipe for this function is:\n",
        "\n",
        "- Define four arguments for the funciton, the pandas data frame, the column to plot in the histograms, the variable to group by in the horizontal direction and the varible to group by in the vertical direction.\n",
        "- A figure with a 2x2 array of axes is defined using the 'subplots' method.\n",
        "- The unique values of the x and y axes group by variables are obtained.\n",
        "- A pair of loops interate over the unique values of the x and y axes group by variables.\n",
        "- The data are subset by the values of the x and y axes group by variables, and the plot method exectued. Note a single element of the axes array is used for each plot.\n",
        "- Other attributes are defined for the axes set being plotted.  "
      ]
    },
    {
      "cell_type": "code",
      "source": [
        "def plot_multi(df, col, xcol, ycol):\n",
        "    import matplotlib.pyplot as plt\n",
        "    fig, ax = plt.subplots(2, 2, figsize=(8, 8))\n",
        "    xcols = df[xcol].unique()\n",
        "    ycols = df[ycol].unique()\n",
        "    for i, xcl in enumerate(xcols):\n",
        "        for j, ycl in enumerate(ycols):\n",
        "            subset = df.loc[(df[xcol] == xcl) & (df[ycol] == ycl), col]\n",
        "            subset.plot.hist(ax=ax[i, j], bins=30)\n",
        "            ax[i, j].set_title(f'Histogram of {col} with {xcol} = {xcl}\\n and {ycol} = {ycl}')\n",
        "            ax[i, j].set_xlabel(col)\n",
        "    plt.tight_layout()\n",
        "plot_multi(auto_prices, 'price', 'aspiration', 'fuel-type')"
      ],
      "metadata": {
        "id": "XUQSV5XBYLot"
      },
      "execution_count": null,
      "outputs": []
    },
    {
      "cell_type": "markdown",
      "metadata": {
        "id": "lpKPjp9GMgPu"
      },
      "source": [
        "Examine these plots and notice the following:\n",
        " - The price of standard aspiration cars is skewed to the low end.\n",
        " - The price of turbo aspriation cars is fairly uniform over a wide range.\n",
        "\n",
        "\n",
        "### Facet plots\n",
        "\n",
        "In the previous example we created an array of plots by explicitly defining the axes or subplots. The Seaborn package allows us to create the same time of faceted plots with much less code, but with a bit less control. The code in the cell below does just this, following this recipe:\n",
        "\n",
        "- A ``FacetGrid`` is defined for the data set. In this case we have only one facet (group by variable), across columns.\n",
        "- The ``map`` method is applied to the facet grid with a plot type specified.\n",
        "- In this case, the the plot type uses the ``regplot`` method to create a scatter plot."
      ]
    },
    {
      "cell_type": "code",
      "execution_count": null,
      "metadata": {
        "scrolled": true,
        "id": "imj1HUEOMgPu"
      },
      "outputs": [],
      "source": [
        "g = sns.FacetGrid(auto_prices, col=\"drive-wheels\")\n",
        "g.map(sns.regplot, \"engine-size\", \"price\", fit_reg = False)"
      ]
    },
    {
      "cell_type": "markdown",
      "metadata": {
        "id": "1NnCyRcEMgPu"
      },
      "source": [
        "The above plot shows the relationship between pricec and engine size for cars with different drive wheel types. Rear wheel drive cars have the wides range of prices and are generally the most expensive.\n",
        "\n",
        "The code in the cell below extends our recipe to include a second dimension for our facet grid. Both a ``row`` and ``col`` agrument are specified for the ``FacetGrid`` method."
      ]
    },
    {
      "cell_type": "code",
      "source": [
        "g = sns.FacetGrid(auto_prices, col=\"drive-wheels\", row=\"body-style\")\n",
        "g.map(sns.regplot, \"engine-size\", \"price\", fit_reg=False)\n",
        "\n",
        "# Increase horizontal space between facets\n",
        "g.fig.subplots_adjust(wspace=0.6, hspace=0.4)  # You can tune these values"
      ],
      "metadata": {
        "id": "1n1pA4jHZoiK"
      },
      "execution_count": null,
      "outputs": []
    },
    {
      "cell_type": "markdown",
      "metadata": {
        "id": "If9dg2dvMgPu"
      },
      "source": [
        "There are four dimensions of the data set projected in the above plot. Some combinations of faceting variables have few or even no cars shown. You can draw a number of conclusions from this display including:\n",
        "\n",
        "- Hatch back and sedans with front wheel drive are clustered at the low end of the price range.\n",
        "- Rear wheel drive sedans and convertibles have a wide range of prices and are generally the most expensive.\n",
        "\n",
        "### Facet plots with aesthetics\n",
        "\n",
        "We can project other dimensions of our data set onto the two dimensions of our plot surface by using ashetics. The code in the cell below uses the ``hue`` argument to the ``FacetGrid`` method to add a fifth dimension to the scatter plot array."
      ]
    },
    {
      "cell_type": "code",
      "execution_count": null,
      "metadata": {
        "id": "km80J3mhMgPu"
      },
      "outputs": [],
      "source": [
        "g = sns.FacetGrid(auto_prices, col=\"drive-wheels\",\n",
        "                  row = 'body-style', hue = 'fuel-type',\n",
        "                  palette=\"Set2\")\n",
        "g.map(sns.regplot, 'engine-size', 'price', fit_reg = False)\n",
        "# Increase horizontal space between facets\n",
        "g.fig.subplots_adjust(wspace=0.6, hspace=0.4)  # You can tune these values"
      ]
    },
    {
      "cell_type": "markdown",
      "metadata": {
        "id": "0VAQSCnYMgPv"
      },
      "source": [
        "Notice that we are now projecting 6 dimension of our data onto the 2-d plotting surface.\n",
        "\n",
        "In the above plot the diesel cars are now highlighted. For the most part, there does not seem to be anything special about diesel cars in this projection.\n",
        "\n",
        "****\n",
        "#### Exercise\n",
        "\n",
        "Now its your turn to try some facetted plotting. Do the following:\n",
        "\n",
        "- Create a new code cell below.\n",
        "- Copy the code used for the previous example into the new cell.\n",
        "- Change the ``x`` axis variable to ``'city-mpg'``.\n",
        "- Examine the resulting plot. What new information is now apparent?\n",
        "****"
      ]
    },
    {
      "cell_type": "code",
      "execution_count": null,
      "metadata": {
        "id": "z5nJylaBMgPv"
      },
      "outputs": [],
      "source": []
    },
    {
      "cell_type": "markdown",
      "metadata": {
        "collapsed": true,
        "id": "tM4we1yyMgPv"
      },
      "source": [
        "## Summary\n",
        "\n",
        "We have covered a lot of ground in this tutorial. We have learned quite a bit about the relationships in the auto price data set by creating multiple views to visualize these data.\n",
        "\n",
        "Specifically, in this tutoral we have:\n",
        "\n",
        "- Examined the uses of and methods for creation of several basic plot types using the `matplotlib`, `pandas` and `seaborn` packages.\n",
        "- Used plot aesthetics to project additional dimensions onto a two dimensional plot surface, or to highlight aspects of the relationships in the data.\n",
        "- Used multi-axis and faceted plots to project additional dimensions onto the two dimensional plot surface.\n",
        "\n",
        "Finally, **have fun exploring your data!**"
      ]
    },
    {
      "cell_type": "markdown",
      "metadata": {
        "collapsed": true,
        "id": "KHtGfOr9MgPv"
      },
      "source": [
        "\n",
        "\n",
        "---\n",
        "\n"
      ]
    },
    {
      "cell_type": "markdown",
      "source": [
        "This copy of the notebook has been modified slightly to accommodate class lab requirements.      \n",
        "\n",
        "For the original notebook and related files, see Steve Elston's Github repository at:\n",
        "\n",
        "* https://github.com/StephenElston/ExploringDataWithPython    \n",
        "\n",
        "This notebook is available under a General Public Licence (GPU), details of which may be found at:    \n",
        "\n",
        "* https://github.com/StephenElston/ExploringDataWithPython/blob/master/LICENSE    \n"
      ],
      "metadata": {
        "id": "eAt8QSzUObKg"
      }
    },
    {
      "cell_type": "markdown",
      "source": [
        "\n",
        "\n",
        "---\n",
        "\n"
      ],
      "metadata": {
        "id": "tS6IdCGgOelJ"
      }
    }
  ],
  "metadata": {
    "anaconda-cloud": {},
    "kernelspec": {
      "display_name": "Python 3",
      "language": "python",
      "name": "python3"
    },
    "language_info": {
      "codemirror_mode": {
        "name": "ipython",
        "version": 3
      },
      "file_extension": ".py",
      "mimetype": "text/x-python",
      "name": "python",
      "nbconvert_exporter": "python",
      "pygments_lexer": "ipython3",
      "version": "3.7.3"
    },
    "colab": {
      "provenance": [],
      "include_colab_link": true
    }
  },
  "nbformat": 4,
  "nbformat_minor": 0
}