{
  "cells": [
    {
      "cell_type": "markdown",
      "metadata": {
        "id": "view-in-github",
        "colab_type": "text"
      },
      "source": [
        "<a href=\"https://colab.research.google.com/github/ProfessorPatrickSlatraigh/CIS9557_bctw/blob/main/Data_Visualization_1of2.ipynb\" target=\"_parent\"><img src=\"https://colab.research.google.com/assets/colab-badge.svg\" alt=\"Open In Colab\"/></a>"
      ]
    },
    {
      "cell_type": "markdown",
      "source": [
        "# **CIS9557 - Business Analytics**\n",
        "\n",
        "**Week #05**    \n",
        "**Class #05**  \n",
        "<b>Data Visualization 1 of 2</b>       "
      ],
      "metadata": {
        "id": "S5u58TNT990k"
      }
    },
    {
      "cell_type": "markdown",
      "source": [
        "## **Data Visualization**\n",
        "\n",
        "This workbook is one of two breakout group lab exercises for class.  The other workbook for a different breakout group is:    \n",
        "\n",
        "* Data Visualization 2of2.ipynb    \n",
        "\n",
        "Both workbooks are part of a presentation by Steve Elston at PyData Seattle (USA) in November of 2019.  The original source files for the workbooks and the data files used is available from Steve Elston repository at:    \n",
        "\n",
        "* https://github.com/StephenElston/ExploringDataWithPython      \n",
        "  \n",
        "     \n",
        "\n",
        "#### *Regarding data file access*    \n",
        "\n",
        "*If your team is using this notebook in Google Colab then you may want to consider uploading source data files to the \\Content folder of your Colab session and using that as your current working directory; alternatively, you may want to access source data files using and HTML reference to the RAW files on Steve Elston's Github repository.*\n",
        "\n",
        "\n",
        "\n"
      ],
      "metadata": {
        "id": "EH-BMoh6MmMW"
      }
    },
    {
      "cell_type": "markdown",
      "source": [
        "\n",
        "\n",
        "---\n",
        "\n"
      ],
      "metadata": {
        "id": "jC-vWuM6MnCX"
      }
    },
    {
      "cell_type": "markdown",
      "metadata": {
        "id": "NpAq5if0MgPb"
      },
      "source": [
        "\n",
        "## Python Visualization for Exploration of Data\n",
        "## Stephen Elston\n",
        "## Presented at PyData Seattle, July 2017  \n",
        "\n",
        "In this lesson we will investigate methods for the exploration of data using visualization techniques. We may use several Python packages to create the  visualizations, ```matplotlib```, ```Pandas``` plotting, and ```seaborn```.  \n",
        "\n",
        "For these lessons we will be working with a data set containing the prices and characteristics of a number of automobiles. The ultimate goal is to build a model for predicting the price of a car from its characteristics.\n",
        "\n",
        "## About this Jupyter Notebook\n",
        "This notebook contains material to help you learn how to explore data visually. This notebook and the data set can be downloaded from GitHub:\n",
        "\n",
        "**https://github.com/StephenElston/ExploringDataWithPython**  \n",
        "\n",
        "This notebook was constructed using the Anconda 3.5 Python distribution. If you are not running version Anaconda 3.5 or higher, we suggest you update your Anaconda distribution now.  You can download the Python 3 Anaconda distribution for your operating system from the [Continum Analytics web site](https://www.continuum.io/downloads)  \n",
        "\n",
        "To run this notebook you need the Seaborn graphics packages. If you have not done so, you will need to install Seaborn as it is not in the Anaconda distribution as of now. From a command prompt on your computer type the following command. If no errors occur, you will have installed Seaborn.\n",
        "\n",
        "``pip install seaborn``\n",
        "\n",
        "or\n",
        "\n",
        "``conda install seaborn``\n",
        "\n",
        "You can find more about installing ```seaborn``` can be seen on the [Installing and getting started](http://seaborn.pydata.org/installing.html) page.\n",
        "\n",
        "\n",
        "## About Steve Elston\n",
        "\n",
        "These lessons have been prepared by:\n",
        "\n",
        "**Steve Elston**\n",
        "\n",
        "- Co-founder and principle consultant Quantia Analytics, LLC\n",
        "- Instructor, University of Washington and Harvard University data science programs\n",
        "- O'Reilly author and creator of four edX data science courses\n",
        "- Decades of experience in predictive analytics and machine learning\n",
        "- Microsoft Data Most Valued Professional, MVP\n",
        "- Experience in several industries: payment, telecom, capital markets, logistics, energy\n",
        "- PhD, MS in Geophysics from Princeton University\n",
        "\n",
        "\n",
        "## About the data set\n",
        "\n",
        "This data set is from the [University of California Irving Machine Learning Repository](https://archive.ics.uci.edu/ml/datasets/Automobile)  The data was compiled by Jeffrey C. Schlimmer from the following sources:\n",
        "\n",
        "- 1985 Model Import Car and Truck Specifications, 1985 Ward's Automotive Yearbook.\n",
        "- Personal Auto Manuals, Insurance Services Office, 160 Water Street, New York, NY 10038\n",
        "- Insurance Collision Report, Insurance Institute for Highway Safety, Watergate 600, Washington, DC 20037\n",
        "\n",
        "\n",
        "## Why visualization and Exploratory Data Analysis?\n",
        "\n",
        "Visualization is an essential method in any data scientist’s toolbox. Visualization is a key first step in the exploration of most data sets. These process exploring data visually and with simple summary statistics is know as Exploratory Data Analysis (EDA).    \n",
        "\n",
        "As a general rule, you should never start creating analytical or machine learning models until you have examined the data and understand the relationships. Otherwise, you risk wasting your time creating models blindly.\n",
        "\n",
        "Visualization is also a powerful tool for presentation of results and for determining sources of problems with analytics.\n",
        "\n",
        "The concepts of exploring and analyzing a data set visually was pioneered by John Tukey in the 1960s and 1970s. Tukey consolidated his many ideas on data exploration into a book in the late 1970s, *John Tukey, Exploratory Data Analysis, 1977, Addison-Westley*.\n",
        "\n",
        "![](img/Tukey.jpg)\n",
        "\n",
        "Bill Cleveland documented his seminal work in visualization of complex data sets in his book, *William S. Cleveland, Visualizing Data, 1993, Hobart Press*.\n",
        "\n",
        "![](img/Cleveland.jpg)\n",
        "\n",
        "Edward Tufte is well know for his different take on data exploration and visualizaion. His first book outlined many of his key ideas: *Edward Tufte, Envisioning Information, Graphics Press, 1990*. His more famous book first appeared in 1993, and is still widely available: *Edward Tufte, Envisioning Information, 2nd Edition, Graphics Press, 2001*.\n",
        "\n",
        "![](img/Tufte.jpg)\n",
        "\n",
        "The key concept of Exploratory Data Analysis (EDA) or visual exploration of data is to understand the relationships in the data set. Specifically using visualization when you approach a new data set you can:\n",
        "\n",
        "- Explore complex data sets, using visualization to develop understanding of the inherent relationships.\n",
        "- Use different chart types to create multiple views of data to highlight different aspects of the inherent relationships.\n",
        "- Use plot aesthetics to project multiple dimensions.\n",
        "- Apply conditioning or faceting methods to project multiple dimensions\n",
        "\n",
        "\n",
        "\n",
        "These lessons are divided into three parts. In each part you will learn how to use the visualization tools availble in Python.\n",
        "\n",
        "**I - Basic Plot Types** is a reivew of creating basic plot types used to construct visualizations.  \n",
        "  \n",
        "**II - Viewing Multiple Dimensions with Aesthetics** is an overview of how to project additional plot dimensions using plot aesthetics.  \n",
        "  \n",
        "**III - Facetted (Multi-Axis) Plotting** also know as conditioned plotting or lattice plotting introduces a powerful method for visualizing higher dimensional data.  \n",
        "  \n",
        "In these exercises, you may use ```matplotlib```, ```Pandas``` plotting, and the ```Seaborn``` package. If you have at least a bit of experience using Pandas and Jupyter notebooks the code in this notebook should not be any trouble.  \n",
        "\n",
        "\n",
        "## Resources\n",
        "\n",
        "In this tutorial we will work with two powerful Python packages, Pandas and Seaborn. Both packages have extensive online documentation. There is an extensive tutorial on [**Visualizaton with Pandas**](http://pandas.pydata.org/pandas-docs/version/0.18.0/visualization.html).  The [**Seaborn tutorial**](https://stanford.edu/~mwaskom/software/seaborn/tutorial.html) contains many examples of data visualization. The matplotlib web site has addition [**resources for learning plotting with Python tools**](http://matplotlib.org/resources/index.html).\n",
        "\n"
      ]
    },
    {
      "cell_type": "markdown",
      "source": [
        "**Shared Copies of Data Files Used in this Notebook**   \n",
        "\n",
        "Links to data files on Google Drive:  \n",
        "  - [automobile_price_data.csv](https://bit.ly/cst3512_dvpv_auto)  \n",
        "  - [sunspots.csv](https://bit.ly/cst3512_dvpv_sunspots)  \n",
        "  \n",
        "\n",
        "Links to data files on Professor Patrick's Github repo:\n",
        "  - [automobile_price_data.csv](https://raw.githubusercontent.com/ProfessorPatrickSlatraigh/data/main/automobile_price_data.csv)  \n",
        "  - [sunspots.csv](https://bit.ly/cst3512_dvpv_sunspots)\n",
        "\n",
        "\n"
      ],
      "metadata": {
        "id": "oiTqAJsF4Hod"
      }
    },
    {
      "cell_type": "markdown",
      "source": [
        "## 0 - Load and examine the datasets\n",
        "\n",
        "Let's get started. The function shown in the cell below loads the data from the .csv file. Some minimal clean up is performed on the data. Rows with missing values are dropped and some columns are converted from strings containing numbers to numeric data.\n",
        "\n",
        "Execute the code in this cell to load the data into your notebook's folder (directory). **This code will make sure you have the .csv files in your current working directory.  If that is not the case, you may want to download/move the files there.**"
      ],
      "metadata": {
        "id": "EP8b2odgkWdo"
      }
    },
    {
      "cell_type": "markdown",
      "source": [
        "<b><font color='blue'>>>> RUN THE FOLLOWING BLOCK OF CODE BEFORE YOU RUN ANY PLOTS</font></b>  "
      ],
      "metadata": {
        "id": "mlAq_JNgizL_"
      }
    },
    {
      "cell_type": "code",
      "execution_count": null,
      "metadata": {
        "id": "h9L0n1vkMgPi"
      },
      "outputs": [],
      "source": [
        "\n",
        "# import required Python packages\n",
        "import pandas as pd     # import pandas for DataFrame and Series\n",
        "import numpy as np      # import numpy for arithmetic methods\n",
        "import seaborn as sns   # import Seaborn for selected plotting\n",
        "import matplotlib.pyplot as plt       # import pyplot for selected plotting\n",
        "import matplotlib.patches as mpatches # import mpatches for plot refinements\n",
        "import matplotlib.lines as mlines     # import mlines for plot refinements\n",
        "\n",
        "# set `inline` option for cleaner plots\n",
        "# The IPython magic command `%matplotlib inline` enables the display of graphics inline with the Python code\n",
        "%matplotlib inline\n",
        "\n",
        "# define a function to load a DataFrame with automobile price data\n",
        "def read_auto_data(fileName = \"automobile_price_data.csv\"):\n",
        "    \"\"\"Function to load the auto price data set from a .csv file\"\"\"\n",
        "\n",
        "    # pull a copy of the CSV file from Professor Patrick's Github repo to the current working directory\n",
        "    !curl \"https://raw.githubusercontent.com/ProfessorPatrickSlatraigh/data/main/automobile_price_data.csv\" -o automobile_price_data.csv\n",
        "\n",
        "    # create `auto_prices` DataFrame using the CSV file\n",
        "    auto_prices = pd.read_csv(fileName)\n",
        "\n",
        "    ## remove rows with missing values, accounting for mising values coded as '?'\n",
        "    cols = ['price', 'bore', 'stroke',\n",
        "          'horsepower', 'peak-rpm']\n",
        "    for column in cols:\n",
        "        auto_prices.loc[auto_prices[column] == '?', column] = np.nan\n",
        "    auto_prices.dropna(axis = 0, inplace = True)\n",
        "\n",
        "    ## convert some columns to numeric values\n",
        "    for column in cols:\n",
        "        auto_prices[column] = pd.to_numeric(auto_prices[column])\n",
        "    #   auto_prices[cols] = auto_prices[cols].as_type(int64)  # deprecated transformation\n",
        "\n",
        "    # return the scrubbed DataFrame\n",
        "    return auto_prices\n",
        "\n",
        "# invoke the function defined above for a scrubbed auto_prices DataFrame\n",
        "auto_prices = read_auto_data()"
      ]
    },
    {
      "cell_type": "markdown",
      "metadata": {
        "id": "kMSVBLA-MgPj"
      },
      "source": [
        "Using the Pandas ``head`` method let's have a first look at the columns in this data set."
      ]
    },
    {
      "cell_type": "code",
      "execution_count": null,
      "metadata": {
        "id": "pjEffloNMgPj"
      },
      "outputs": [],
      "source": [
        "auto_prices.head()"
      ]
    },
    {
      "cell_type": "markdown",
      "metadata": {
        "id": "FKos3bsPMgPk"
      },
      "source": [
        "You can see there are both numerical and string (categorical) variable types. As a next step examine some summary statistics of the numeric columns using the Pandas ``describe`` method. Note that units of measurement are American not Metric.  "
      ]
    },
    {
      "cell_type": "code",
      "execution_count": null,
      "metadata": {
        "id": "hSpQjNdjMgPk"
      },
      "outputs": [],
      "source": [
        "auto_prices.describe()"
      ]
    },
    {
      "cell_type": "markdown",
      "source": [
        "\n",
        "\n",
        "---\n",
        "\n"
      ],
      "metadata": {
        "id": "hIgI9ZGB5fSM"
      }
    },
    {
      "cell_type": "markdown",
      "metadata": {
        "id": "h3LdVdcyMgPk"
      },
      "source": [
        "## I - Basic Plot Types\n",
        "\n",
        "Now that we have loaded and had a first look at the data, let's get to work making some charts.\n",
        "\n",
        "There are enumerable chart types that are used for data exploration. In this tutorial we focus on the most used chart types:\n",
        "\n",
        "1. **Scatter plot**\n",
        "2. **Line plots**\n",
        "3. **Bar plots**\n",
        "4. **Histograms**\n",
        "5. **Box plots**\n",
        "6. **Kernel Density Estimation Plots**\n",
        "7. **Violin plots**\n",
        "\n"
      ]
    },
    {
      "cell_type": "markdown",
      "source": [
        "\n",
        "\n",
        "---\n",
        "\n"
      ],
      "metadata": {
        "id": "t_Pn6rEG5dYG"
      }
    },
    {
      "cell_type": "markdown",
      "source": [
        "### 1. Scatter plots\n",
        "\n",
        "Scatter plots show the relationship between two variables in the form of dots on the plot. In simple terms, the values along a horizontal axis are plotted against a vertical axis.\n",
        "\n",
        "#### Scatter plots with Matplotlib\n",
        "\n",
        "Matplotlib is at the base of most Python plotting packages. Some basic understanding of Matplotlib will help you achieve better control of your graphics.\n",
        "\n",
        "Let's start by making a simple scatter plot. Our recipe is simple:\n",
        "  \n",
        "- Use the plot method.  \n",
        "- Specify the values to plot on the x and y axes.  \n",
        "- Specify that we want red dots using a type of 'ro'. If you do not specify a type, you will get a line plot which is the default.  \n",
        "   \n"
      ],
      "metadata": {
        "id": "egYUhxbJ5cYs"
      }
    },
    {
      "cell_type": "markdown",
      "source": [
        "Execute the code in the cell below to create a scatter plot of city mpg vs. auto price."
      ],
      "metadata": {
        "id": "wpc6WaWGokTu"
      }
    },
    {
      "cell_type": "code",
      "execution_count": null,
      "metadata": {
        "scrolled": true,
        "id": "m6T5I1UMMgPl"
      },
      "outputs": [],
      "source": [
        "plt.scatter(auto_prices['city-mpg'], auto_prices['price'], color='red')\n",
        "\n",
        "plt.show()"
      ]
    },
    {
      "cell_type": "markdown",
      "metadata": {
        "id": "lz7zAxsjMgPm"
      },
      "source": [
        "In the plot above, we can see that the most costly cars have the lowest fuel efficiency, whereas relatively inexpensive cars are also more economical to drive.\n",
        "  "
      ]
    },
    {
      "cell_type": "markdown",
      "source": [
        "To improve this graph, we can add:  \n",
        "- a title\n",
        "- x and y axis labels  \n",
        "- a legend\n",
        "- some grid lines  \n",
        "\n",
        "  \n",
        "We may also:\n",
        "- set a figure size for better readability  \n",
        "- change the data point color and possibly size/transparency\n",
        "- format the `price` tick mark values in green with a prepended dollar sign   \n",
        "  "
      ],
      "metadata": {
        "id": "QSvDP_cxH6N7"
      }
    },
    {
      "cell_type": "code",
      "source": [
        "plt.figure(figsize=(10, 6))  # Set the figure size\n",
        "\n",
        "# Scatter plot with improved color and transparency\n",
        "plt.scatter(auto_prices['city-mpg'], auto_prices['price'], color='skyblue', alpha=0.7, label='Auto Prices')\n",
        "\n",
        "# Add a title to the plot\n",
        "plt.title('Scatter Plot of City MPG vs. Auto Price\\n1985 U.S. Automobiles')\n",
        "# Add a label to the x-axis of the plot\n",
        "plt.xlabel('City MPG')\n",
        "# Add a label to the y-axis of the plot\n",
        "plt.ylabel('Auto Price')\n",
        "\n",
        "# Extend the plot dimensions on each axis for readability\n",
        "plt.xlim(0, auto_prices['city-mpg'].max() + 10)  # increase the xaxis by 10 more than the max value\n",
        "plt.ylim(0, auto_prices['price'].max() + 5000)  # increase the yaxis by 5000 more than the max value\n",
        "\n",
        "# Get current axes\n",
        "ax = plt.gca()\n",
        "\n",
        "# Use automatic StrMethodFormatter to prepend '$' on y-axis major ticks\n",
        "ax.yaxis.set_major_formatter('${x:1.0f}')\n",
        "\n",
        "# Set y-axis labels in green and to the left of the plot\n",
        "ax.tick_params(axis='y', which='major', labelcolor='green', labelleft=True, labelright=False)\n",
        "\n",
        "# Add a legend to the plot\n",
        "plt.legend()\n",
        "\n",
        "# Add gridline to the background of the plot\n",
        "plt.grid(True)\n",
        "\n",
        "plt.show()"
      ],
      "metadata": {
        "id": "wpn46W8tUDcb"
      },
      "execution_count": null,
      "outputs": []
    },
    {
      "cell_type": "markdown",
      "source": [
        "#### EXERCISE  \n",
        "  \n",
        "Consider the following basic plot of `curb-weight` vs. `auto-price`  "
      ],
      "metadata": {
        "id": "64QkEU7Uy8kJ"
      }
    },
    {
      "cell_type": "code",
      "source": [
        "plt.scatter(auto_prices['curb-weight'], auto_prices['price'])\n",
        "plt.show()"
      ],
      "metadata": {
        "id": "fg30GHiBy4s2"
      },
      "execution_count": null,
      "outputs": []
    },
    {
      "cell_type": "markdown",
      "source": [
        "  \n",
        "***\n",
        "**Your turn:** In the cell below create and execute code to plot auto price vs curb weight with some of the data visualization techniques from the discussion of auto price vs MPG.\n",
        "***"
      ],
      "metadata": {
        "id": "NHtAZ8cxpogG"
      }
    },
    {
      "cell_type": "code",
      "source": [
        "### YOUR SOLUTION CODE CAN GO HERE\n"
      ],
      "metadata": {
        "id": "RpFHjdP7pw2p"
      },
      "execution_count": null,
      "outputs": []
    },
    {
      "cell_type": "markdown",
      "source": [
        "#### *solution*   "
      ],
      "metadata": {
        "id": "PPTI9fIGpzCz"
      }
    },
    {
      "cell_type": "markdown",
      "source": [
        "The following is an example solution for this exercise."
      ],
      "metadata": {
        "id": "d8JAvCTNzb0-"
      }
    },
    {
      "cell_type": "code",
      "execution_count": null,
      "metadata": {
        "id": "VSJwOMFbMgPl"
      },
      "outputs": [],
      "source": [
        "\n",
        "plt.figure(figsize=(8, 6)) # Set the figure size\n",
        "\n",
        "# Scatter plot with improved color and transparency\n",
        "plt.scatter(auto_prices['curb-weight'], auto_prices['price'], color='green', marker='o', alpha=0.5, label='Auto Prices')\n",
        "\n",
        "# Add a title to the plot\n",
        "plt.title('Scatter Plot of Auto Price vs. Curb Weight\\n1985 U.S. Automobiles')\n",
        "# Add a label to the x-axis of the plot\n",
        "plt.xlabel('Curb Weight')\n",
        "# Add a label to the y-axis of the plot\n",
        "plt.ylabel('Auto Price')\n",
        "\n",
        "# Extend the plot dimensions on each axis for readability\n",
        "plt.xlim(0, auto_prices['curb-weight'].max() + 1000)  # increase the xaxis by 1000 more than the max value\n",
        "plt.ylim(0, auto_prices['price'].max() + 5000)  # increase the yaxis by 5000 more than the max value\n",
        "\n",
        "# Get current axes\n",
        "ax = plt.gca()\n",
        "\n",
        "# Use automatic StrMethodFormatter to prepend '$' on y-axis major ticks\n",
        "ax.yaxis.set_major_formatter('${x:1.0f}')\n",
        "\n",
        "# Set y-axis labels in green and to the left of the plot\n",
        "ax.tick_params(axis='y', which='major', labelcolor='green', labelleft=True, labelright=False)\n",
        "\n",
        "# Add a legend to the plot\n",
        "plt.legend()\n",
        "\n",
        "# Add gridline to the background of the plot\n",
        "plt.grid(True)\n",
        "\n",
        "plt.show()\n"
      ]
    },
    {
      "cell_type": "markdown",
      "source": [
        "\n",
        "\n",
        "---\n",
        "\n"
      ],
      "metadata": {
        "id": "BgDYvUQoiLHq"
      }
    },
    {
      "cell_type": "markdown",
      "metadata": {
        "id": "0jfdnDTMMgPm"
      },
      "source": [
        "### 2. Line plots\n",
        "\n",
        "Line plots are similar to point plots. In line plots the discrete points are connected by lines.  \n"
      ]
    },
    {
      "cell_type": "code",
      "execution_count": null,
      "metadata": {
        "id": "3fIWD7lSMgPn"
      },
      "outputs": [],
      "source": [
        "### First, we will create a DataFrame, with a simple relationship between x and y\n",
        "# Preparing a DataFrame for a line plot exercise of 100 values squared\n",
        "x = list(range(100))               # create a series of 100 y values\n",
        "y = [z * z for z in range(100)]    # create a series of 100 y values as z squared\n",
        "df = pd.DataFrame({'x':x, 'y':y})  # create a `df` DataFrame of x and y values\n",
        "\n",
        "### Then, we apply the previous recipe to plot x vs y as a line chart.\n",
        "\n",
        "fig = plt.figure(figsize=(10, 10)) # define plot area\n",
        "\n",
        "# Scatter plot with improved color and transparency\n",
        "plt.plot(df['x'], df['y'], color='skyblue', label='y values')\n",
        "# Try it with a wider line...\n",
        "#plt.plot(df['x'], df['y'], color='skyblue', linewidth=10, label='y values')\n",
        "\n",
        "ax = fig.gca() # define axis object with 'get current axes'\n",
        "\n",
        "# Add a title to the plot\n",
        "ax.set_title('Line plot of x^2 vs. x') # Give the plot a main title\n",
        "# Add a label to the x-axis of the plot\n",
        "ax.set_xlabel('x') # Set text for the x axis\n",
        "# Add a label to the y-axis of the plot\n",
        "ax.set_ylabel('x^2')# Set text for y axis\n",
        "\n",
        "\n",
        "# Extend the plot dimensions on each axis for readability\n",
        "plt.xlim(0, df['x'].max() + 10)  # increase the xaxis by 10 more than the max value\n",
        "plt.ylim(0, df['y'].max() + 1000)  # increase the yaxis by 1000 more than the max value\n",
        "\n",
        "# Add a legend to the plot\n",
        "plt.legend()\n",
        "\n",
        "# Add gridline to the background of the plot\n",
        "plt.grid(True)\n",
        "\n",
        "plt.show()"
      ]
    },
    {
      "cell_type": "markdown",
      "source": [
        "Did you try that with a wider line?  \n",
        "<i>(You can insert a comment before the plt.plot() used and remove the comment from the start of the next plt.plot() line in the code before the plot.)</i>  "
      ],
      "metadata": {
        "id": "xFpXPqhH2XbY"
      }
    },
    {
      "cell_type": "markdown",
      "source": [
        "\n",
        "\n",
        "---\n",
        "\n"
      ],
      "metadata": {
        "id": "3VrdSTUKiRoE"
      }
    },
    {
      "cell_type": "markdown",
      "metadata": {
        "id": "dFOxic8NMgPn"
      },
      "source": [
        "### 3. Bar plots\n",
        "\n",
        "Bar plots are used to display the counts of unique values of a categorical variable. The height of the bar represents the count for each unique category of the variable.\n",
        "\n",
        "It is unlikely that your pandas data frame includes counts by category of a variable. Thus, the first step in making a bar plot is to compute the counts. Fortunately, pandas has a ``value_counts`` method. The code below uses this method to create a new data frame containing the counts by ``make`` of the car."
      ]
    },
    {
      "cell_type": "code",
      "execution_count": null,
      "metadata": {
        "id": "Su15ucTkMgPn"
      },
      "outputs": [],
      "source": [
        "counts = auto_prices['make'].value_counts() # find the counts for each unique category\n",
        "counts"
      ]
    },
    {
      "cell_type": "code",
      "source": [
        "dir(counts)"
      ],
      "metadata": {
        "id": "WlVbJQh2lxOL"
      },
      "execution_count": null,
      "outputs": []
    },
    {
      "cell_type": "markdown",
      "metadata": {
        "id": "QxLiGZPhMgPo"
      },
      "source": [
        "You can see the ordered list of counts by make above. Notice that this data frame has many fewer rows than the original, since it only needs one row for each unique value of the make.\n",
        "\n",
        "Now, create the bar plot of number of autos by make using the ``counts`` data frame, by executing the code in the cell below. Notice, that the recipe for this chart is the same as we have used for scatter plots and line plots, just using the ``.plt.bar`` method."
      ]
    },
    {
      "cell_type": "code",
      "execution_count": null,
      "metadata": {
        "id": "6YGIgGxtMgPo"
      },
      "outputs": [],
      "source": [
        "### First, we will create a Series, with a count of automobiles by `make`\n",
        "counts = auto_prices['make'].value_counts() # find the counts for each unique category\n",
        "counts\n",
        "\n",
        "### Then, we build a bar chart using the new `counts` DataFrame.\n",
        "\n",
        "plt.figure(figsize=(10, 6))  # Set the figure size\n",
        "\n",
        "# Get current axes\n",
        "ax = plt.gca()\n",
        "\n",
        "# counts.plot.bar(ax = ax) # Use the plot.bar method on the counts data frame\n",
        "plt.bar(counts.index, counts.values)\n",
        "\n",
        "# Add a title to the plot\n",
        "ax.set_title('Number of Auto Types by Make\\n1985 U.S. Automobiles')\n",
        "# Add a label to the x-axis of the plot\n",
        "ax.set_xlabel('Make')\n",
        "# Add a label to the y-axis of the plot\n",
        "ax.set_ylabel('Number of autos')\n",
        "\n",
        "\n",
        "plt.show()"
      ]
    },
    {
      "cell_type": "markdown",
      "source": [
        "To improve this graph, at least visually, we can make the following changes:\n",
        "- Color each bar a with a different color\n",
        "- Rotate the xaxis labels by 90-degrees  \n",
        "  "
      ],
      "metadata": {
        "id": "egRoIDENNJ_9"
      }
    },
    {
      "cell_type": "code",
      "source": [
        "\n",
        "### First, we will create a Series, with a count of automobiles by `make`\n",
        "counts = auto_prices['make'].value_counts() # find the counts for each unique category\n",
        "counts\n",
        "\n",
        "# Count the number of bars that will be plotted\n",
        "num_bars = len(counts)\n",
        "# Create an array of colors to be applied to the bars\n",
        "colors = plt.cm.viridis(np.linspace(0, 1, num_bars))\n",
        "\n",
        "\n",
        "### Then, we build a bar chart using the new `counts` DataFrame.\n",
        "\n",
        "plt.figure(figsize=(10, 6))  # Set the figure size\n",
        "\n",
        "# Get current axes\n",
        "ax = plt.gca()\n",
        "\n",
        "# Use the array of colors as a `colors` argument\n",
        "# Use the plt.bar method on the counts Series\n",
        "plt.bar(counts.index, counts.values, color=colors)\n",
        "\n",
        "# Add a title to the plot\n",
        "ax.set_title('Number of Auto Types by Make\\n1985 U.S. Automobiles')\n",
        "# Add a label to the x-axis of the plot\n",
        "ax.set_xlabel('Make')\n",
        "# Add a label to the y-axis of the plot\n",
        "ax.set_ylabel('Number of autos')\n",
        "\n",
        "# Rotate the x-axis labels to display them at a 90-degree angle\n",
        "plt.xticks(rotation=90)\n",
        "\n",
        "plt.show()"
      ],
      "metadata": {
        "id": "icRUnZbUM6-Y"
      },
      "execution_count": null,
      "outputs": []
    },
    {
      "cell_type": "markdown",
      "source": [
        "The bar plot clearly shows which auto manufacturers have the largest number of models. The more specialized makes have relatively fewer models.\n"
      ],
      "metadata": {
        "id": "T-IkofyJpfxH"
      }
    },
    {
      "cell_type": "markdown",
      "source": [
        "\n",
        "\n",
        "---\n",
        "\n"
      ],
      "metadata": {
        "id": "_fLxOCRQphkB"
      }
    },
    {
      "cell_type": "markdown",
      "metadata": {
        "id": "OrphBZrgMgPo"
      },
      "source": [
        "### 4. Histograms\n",
        "\n",
        "Histograms are related to bar plots. Histograms are used for numeric variables. Whereas, a bar plot shows the counts of unique categories, a histogram shows the number of data with values within a bin. The bins divide the values of the variable into equal segments. The vertical axis of the histogram shows the count of data values within each bin.  \n",
        "\n",
        "The code below follows our same basic recipe to create a histogram of ``engine-size``. Notice however, that the column of the data frame we wish to plot is specified by name as ``auto_prices['engine-size']``."
      ]
    },
    {
      "cell_type": "code",
      "source": [
        "\n",
        "plt.figure(figsize=(8, 6)) # Set the figure size\n",
        "\n",
        "# Scatter plot with improved color and transparency\n",
        "plt.hist(auto_prices['engine-size'], color='green')\n",
        "\n",
        "# Add a title to the plot\n",
        "plt.title('Histogram of Automobile Engine Size\\n1985 U.S. Automobiles')\n",
        "# Add a label to the x-axis of the plot\n",
        "plt.xlabel('Engine Size')\n",
        "# Add a label to the y-axis of the plot\n",
        "plt.ylabel('Number of Automobiles')\n",
        "\n",
        "# Get current axes\n",
        "ax = plt.gca()\n",
        "\n",
        "plt.show()"
      ],
      "metadata": {
        "id": "77UgsgvzrpYJ"
      },
      "execution_count": null,
      "outputs": []
    },
    {
      "cell_type": "markdown",
      "source": [
        "To improve this graph we can:\n",
        "- Add some grid lines  \n",
        "- Start the x-axis from 0  \n",
        "- Draw a contrasting border on each bar  \n",
        "  "
      ],
      "metadata": {
        "id": "iFG161HfOmZF"
      }
    },
    {
      "cell_type": "code",
      "source": [
        "plt.figure(figsize=(8, 6)) # Set the figure size\n",
        "\n",
        "# Scatter plot with improved color and transparency\n",
        "plt.hist(auto_prices['engine-size'], color='green', edgecolor='black', alpha=0.7)\n",
        "\n",
        "# Add a title to the plot\n",
        "plt.title('Histogram of Automobile Engine Size\\n1985 U.S. Automobiles')\n",
        "# Add a label to the x-axis of the plot\n",
        "plt.xlabel('Engine Size')\n",
        "# Add a label to the y-axis of the plot\n",
        "plt.ylabel('Number of Automobiles')\n",
        "\n",
        "# Get current axes\n",
        "ax = plt.gca()\n",
        "\n",
        "# Add a legend to the plot\n",
        "# plt.legend()\n",
        "\n",
        "# Add gridline to the background of the plot\n",
        "plt.grid(True)\n",
        "\n",
        "# Increase the width of the plot beyond the data by 10%\n",
        "ax.set_xlim(0, auto_prices['engine-size'].max() * 1.1)\n",
        "\n",
        "# Refine the bins used for the histogram ranges\n",
        "ax.xaxis.set_major_locator(plt.MaxNLocator(integer=True))\n",
        "ax.yaxis.set_major_formatter(plt.FuncFormatter(lambda x, _: '{:.0f}'.format(x)))\n",
        "\n",
        "plt.show()"
      ],
      "metadata": {
        "colab": {
          "base_uri": "https://localhost:8080/",
          "height": 585
        },
        "id": "9jouFUJiut4A",
        "outputId": "14509c39-cb67-4ead-8f02-ee6f360cc943"
      },
      "execution_count": 28,
      "outputs": [
        {
          "output_type": "display_data",
          "data": {
            "text/plain": [
              "<Figure size 800x600 with 1 Axes>"
            ],
            "image/png": "[encoded data removed]"
          },
          "metadata": {}
        }
      ]
    },
    {
      "cell_type": "markdown",
      "source": [
        "The histogram shows that the distibution of engine size is skewed toward small engines. There are also a few autos with very large engines, which appear as outliers."
      ],
      "metadata": {
        "id": "fk8fDpDHvEYo"
      }
    },
    {
      "cell_type": "markdown",
      "source": [
        "\n",
        "\n",
        "---\n",
        "\n"
      ],
      "metadata": {
        "id": "S9kYBKiTvFCy"
      }
    },
    {
      "cell_type": "markdown",
      "metadata": {
        "id": "Of9vxtJ7MgPo"
      },
      "source": [
        "\n",
        "### 5. Box Plots\n",
        "\n",
        "Box plots, also known as box and wisker plots, were introduced by John Tukey in 1970. Box plots are another way to visualize the distribution of data values. In this respect, box plots are comparable to histograms, but are quite different in presentation.\n",
        "\n",
        "On a box plot the median value is shown with a dark bar. The inner two quartiles of data values are contained within the 'box'. The 'wiskers' enclose the majority of the data (up to +/- 2.5 * interquartile range). Outliers are shown by symbols byond the wiskers.\n",
        "  "
      ]
    },
    {
      "cell_type": "code",
      "source": [
        "plt.figure(figsize=(10, 6))  # Set the figure size\n",
        "\n",
        "# Get current axes\n",
        "ax = plt.gca()\n",
        "\n",
        "# Use the plt.boxplot method on the counts Series\n",
        "plt.boxplot(auto_prices[\"engine-size\"])\n",
        "\n",
        "# Add a title to the plot\n",
        "ax.set_title('Box Plot of Engine-Size\\n1985 U.S. Automobiles')\n",
        "# Add a label to the x-axis of the plot\n",
        "ax.set_xlabel('U.S. Autos')\n",
        "# Add a label to the y-axis of the plot\n",
        "ax.set_ylabel('Engine Size')\n",
        "\n",
        "\n",
        "plt.show()"
      ],
      "metadata": {
        "id": "ykVP_bQ0Cy6D"
      },
      "execution_count": null,
      "outputs": []
    },
    {
      "cell_type": "markdown",
      "source": [
        "Several box plots can be stacked along an axis for comparison. The data are divided using a 'group by' operation, and the box plots for each group are stacked next to each other. In this way, the box plot allows you to display two dimensions of your data set.\n",
        "\n",
        "The code in the cell below generally follows the recipe we have been using. The data frame is subsetted to two columns. One column contains the numeric values to plot and the other column is the group by variable. In this case, the group by variable is specified with the ``by = 'fuel-type'`` argument."
      ],
      "metadata": {
        "id": "vkgPLjtpGeT2"
      }
    },
    {
      "cell_type": "markdown",
      "source": [
        "To show separate box plots for categories, we are better off using the Seaborn library that we imported as `sn`.  \n",
        "  "
      ],
      "metadata": {
        "id": "2b1rcK0DGLxD"
      }
    },
    {
      "cell_type": "markdown",
      "source": [
        "Up until now we have been working exclusively with the plotting methods in `Matplotlib`. We will now start working with the `Seaborn` package.  Seaborn is a newer Python package which abstracts lower level matplotlib charts. Seaborn also implements some additional cutting-edge chart types.\n",
        "\n",
        "If you have not done so, you will need to install Seaborn as it is not in the Anaconda distribution as of now. From a command prompt on your computer, type the following command. If no errors occur, you will have installed Seaborn.\n",
        "\n",
        "``pip install seaborn``\n",
        "\n",
        "or\n",
        "\n",
        "``conda install seaborn``  \n",
        "  \n",
        "then, in Python,  \n",
        "  \n",
        "``import seaborn as sn``  \n",
        "  "
      ],
      "metadata": {
        "id": "0B8Qsk2uG7So"
      }
    },
    {
      "cell_type": "code",
      "source": [
        "plt.figure(figsize=(10, 6))  # Set the figure size\n",
        "\n",
        "# Create side-by-side boxplots\n",
        "sns.boxplot(x='fuel-type', y='engine-size', data=auto_prices)\n",
        "\n",
        "# Add a title to the plot\n",
        "plt.title('Box Plot of Engine-Size by Fuel-Type\\n1985 U.S. Automobiles')\n",
        "\n",
        "# Add a label to the x-axis of the plot\n",
        "plt.xlabel('Fuel Type')\n",
        "\n",
        "# Add a label to the y-axis of the plot\n",
        "plt.ylabel('Engine Size')\n",
        "\n",
        "plt.show()"
      ],
      "metadata": {
        "id": "2OWylo6WFkgi"
      },
      "execution_count": null,
      "outputs": []
    },
    {
      "cell_type": "markdown",
      "source": [
        "Examine the plot above and notice the differences in the distribution of engine size by fuel type. There is considerable overlap in the inter-quartile range (the range within the boxes), with gas cars having generally smaller engines. The median engine size (the red bar) for gas cars is noticeably lower than for diesel cars. However, the range of engine sizes for gas cars is greater, including a few outliers. It is likely, these are the outliers we saw in the histogram."
      ],
      "metadata": {
        "id": "kC4xP-UJGns0"
      }
    },
    {
      "cell_type": "markdown",
      "source": [
        "\n",
        "\n",
        "---\n",
        "\n"
      ],
      "metadata": {
        "id": "lSXY_W8yGoYN"
      }
    },
    {
      "cell_type": "markdown",
      "metadata": {
        "id": "AS6RSY4VMgPp"
      },
      "source": [
        "\n",
        "### 6. Kernel Density Plots\n",
        "\n",
        " Kernel density plots are similar in concept to a histogram. A kernel density plot displays the values of a smoothed density curve of the data values. In other words, the kernel density plot is a smoothed version of a histogram.\n",
        "  \n",
        " The code in the cell below creates a violin plot using the following recipe:\n",
        "  \n",
        " - Using the Seaborn package  \n",
        " - Set a style for the plot grid  \n",
        " - Define the plot type with ``kdeplot`` using the engine-size column as the argument   \n",
        "  \n",
        " ****\n",
        " **Note:** Depending on your platform and version of `Numpy`, you may see a deprecation warning. You can safely ignore this warning.  \n",
        " ****"
      ]
    },
    {
      "cell_type": "code",
      "execution_count": null,
      "metadata": {
        "id": "Ocppdk3BMgPp"
      },
      "outputs": [],
      "source": [
        "plt.figure(figsize=(10, 6))  # Set the figure size\n",
        "\n",
        "# Set a style for the Seaborn plot\n",
        "sns.set_style(\"whitegrid\")\n",
        "\n",
        "# Use Seaborn's `kdeplot` to produce a Kernel Density Plot\n",
        "sns.kdeplot(auto_prices['engine-size'])\n",
        "\n",
        "# Add a title to the plot\n",
        "plt.title('Kernel Density Plot of Engine-Size\\n1985 U.S. Automobiles')\n",
        "\n",
        "# Add a label to the x-axis of the plot\n",
        "plt.xlabel('Engine Size')\n",
        "\n",
        "# Add a label to the y-axis of the plot\n",
        "plt.ylabel('Kernel Density')\n",
        "\n",
        "plt.show()"
      ]
    },
    {
      "cell_type": "markdown",
      "metadata": {
        "id": "ensSr3s6MgPp"
      },
      "source": [
        "The KDE plot results are similar to what we observed with the histogram of engine size. Engine size is skewed toward the small size, and there are outliers of a few cars with large engines clearly visible.\n",
        "\n",
        "As we did with Matplotlib plots, we control the properties of a Seaborn plot by specifing axes. The code in the cell below extends our simple recipe for Seaborn plots:\n",
        "\n",
        "- Define a figure.\n",
        "- Define one or more axes on the figure.\n",
        "- Set a style for the plot grid.\n",
        "- Define the plot type and columns to be plotted.\n",
        "- Use methods on the axes to control attributes like titles and axis labels."
      ]
    },
    {
      "cell_type": "code",
      "execution_count": null,
      "metadata": {
        "id": "4d_5qAZcMgPp"
      },
      "outputs": [],
      "source": [
        "plt.figure(figsize=(10, 6))  # Set the figure size\n",
        "\n",
        "# Set a style for the Seaborn plot\n",
        "sns.set_style(\"whitegrid\")\n",
        "\n",
        "# Get current axes\n",
        "ax = fig.gca()\n",
        "\n",
        "sns.kdeplot(auto_prices['engine-size'], ax = ax)\n",
        "\n",
        "# Add a title to the plot\n",
        "ax.set_title('Kernel Density Plot of Engine-Size\\n1985 U.S. Automobiles')\n",
        "\n",
        "# Add a label to the x-axis of the plot\n",
        "ax.set_xlabel('Engine Size')\n",
        "\n",
        "# Add a label to the y-axis of the plot\n",
        "ax.set_ylabel('Density')\n",
        "\n",
        "plt.show()"
      ]
    },
    {
      "cell_type": "markdown",
      "metadata": {
        "id": "8-pc02RiMgPp"
      },
      "source": [
        "We can also create a two dimensional KDE plot. The code in the cell below creates a two dimensional kde plot of price and engine size following the same recipe. Notice that all we needed to do was to specify another data frame column for the second dimension."
      ]
    },
    {
      "cell_type": "markdown",
      "source": [
        "Because we are comparing against `Price` on the y axis, we have included the earlier recipe for formatting `Price` values in green with prepended dollar-signs.  \n",
        "  "
      ],
      "metadata": {
        "id": "1LK18OKMNfTu"
      }
    },
    {
      "cell_type": "code",
      "source": [
        "plt.figure(figsize=(10, 6))  # Set the figure size\n",
        "\n",
        "# Set a style for the Seaborn plot\n",
        "sns.set_style(\"whitegrid\")\n",
        "\n",
        "# Get current axes\n",
        "ax = plt.gca()\n",
        "\n",
        "# Create the KDE plot call with 'x' and 'y' specified, and using 'fill' and 'cmap'\n",
        "sns.kdeplot(x=auto_prices['engine-size'], y=auto_prices['price'], ax=ax, fill=True, cmap=\"Blues_r\")\n",
        "\n",
        "# Add a title to the plot\n",
        "ax.set_title('Kernel Density Plot of Engine-Size and Price\\n1985 U.S. Automobiles')\n",
        "\n",
        "# Add a label to the x-axis of the plot\n",
        "ax.set_xlabel('Engine Size')\n",
        "\n",
        "# Add a label to the y-axis of the plot\n",
        "ax.set_ylabel('Price')\n",
        "\n",
        "# Use automatic StrMethodFormatter to prepend '$' on y-axis major ticks\n",
        "ax.yaxis.set_major_formatter('${x:1.0f}')\n",
        "\n",
        "# Set y-axis labels in green and to the left of the plot\n",
        "ax.tick_params(axis='y', which='major', labelcolor='green', labelleft=True, labelright=False)\n",
        "\n",
        "# Add gridline to the background of the plot\n",
        "plt.grid(True)\n",
        "\n",
        "plt.show()"
      ],
      "metadata": {
        "id": "DR3DHzB5fwQU"
      },
      "execution_count": null,
      "outputs": []
    },
    {
      "cell_type": "markdown",
      "source": [
        "For this graph to work, we needed to make a seperation for the x and y axis, which wasn't done in the original."
      ],
      "metadata": {
        "id": "Tt-g2ZjLP2U_"
      }
    },
    {
      "cell_type": "markdown",
      "source": [
        "We can clearly see that there is a single strong mode for both auto price and engine size. There is a skew of both variables toward lower cost cars with smaller engines."
      ],
      "metadata": {
        "id": "XUqKIHF4N8PW"
      }
    },
    {
      "cell_type": "markdown",
      "source": [
        "\n",
        "\n",
        "---\n",
        "\n"
      ],
      "metadata": {
        "id": "QmoagR-GN84A"
      }
    },
    {
      "cell_type": "markdown",
      "metadata": {
        "id": "OtuQLDYXMgPq"
      },
      "source": [
        "### 7. Violin plots\n",
        "\n",
        "Now, we will use Seaborn to create a violin plot. A violin plot combines attributes of boxplots and a kernel density estimation plot. Like a box plot, the violin plots can be stacked, with a group by operation. Additionally, the violin plot provides a kernel density estimate for each group. As with the box plot, violin plots allow you to display two dimensions of your data set.\n",
        "\n",
        "The code in the cell below follows the recipe we have laid out for Seaborn plotting. The ``sns.violinplot`` method has more arguments than the kdeplot method.\n",
        "\n",
        "- The columns used for the plot are set with the ``x`` and ``y`` arguments.\n",
        "- The ``x`` column is the group by variable.\n",
        "- The ``data`` argument specifies a pandas data frame or a numpy array."
      ]
    },
    {
      "cell_type": "code",
      "execution_count": null,
      "metadata": {
        "id": "8lHqabDeMgPq"
      },
      "outputs": [],
      "source": [
        "fig = plt.figure(figsize=(8,8)) # define plot area\n",
        "ax = fig.gca() # define axis\n",
        "sns.set_style(\"whitegrid\")\n",
        "\n",
        "sns.violinplot(x = 'fuel-type', y = 'engine-size', data = auto_prices, ax = ax)\n",
        "\n",
        "# Add a title to the plot\n",
        "ax.set_title('Violin plots of Auto Engine Size by Fuel Type\\n1985 U.S. Automobiles') # Give the plot a main title\n",
        "\n",
        "# Add a label to the x-axis of the plot\n",
        "ax.set_xlabel('Fuel Type') # Set text for the x axis\n",
        "\n",
        "# Add a label to the y-axis of the plot\n",
        "ax.set_ylabel('Engine size')# Set text for y axis\n",
        "\n",
        "\n",
        "plt.show()"
      ]
    },
    {
      "cell_type": "markdown",
      "source": [
        "The differences in the distribution of engine sizes between gas and diesel cars are clearly visible in the violin plots. We can confirm that the engine size of gas cars is skewed to the small size, but with a wider overall range. There are some gas cars with very small engine sizes and a number of autos that appear as outliers with large engines. The distibution of diesel engine sizes is more uniform."
      ],
      "metadata": {
        "id": "vw-Y2BEkOI4g"
      }
    },
    {
      "cell_type": "markdown",
      "source": [
        "\n",
        "\n",
        "---\n",
        "\n"
      ],
      "metadata": {
        "id": "raWgYmQSOJ5a"
      }
    },
    {
      "cell_type": "markdown",
      "metadata": {
        "id": "GNVDcn3qMgPq"
      },
      "source": [
        "\n",
        "## II - Viewing Multiple Dimensions with Aesthetics\n",
        "\n",
        "We have now explored some basic plot types. We have only looked at plots for one or two columns of data. Thus, we have been limited to visualization of only two dimensions of our data set.\n",
        "\n",
        "Now, we will use plot aesthetics to view additional dimensions of the data set. These asthetics allow you to project additonal dimensions onto a two dimensional plot surface. Additionally, carefull choice of plot aesthetics can highlight certain aspects of a data set you are exploring.   \n",
        "\n",
        "There are many possible aesthetics one can use for visualization. Specific examples we will work with here include:\n",
        "  \n",
        "    A. Color  \n",
        "    B. Transparency  \n",
        "    C. Size  \n",
        "    D. Marker shape  \n",
        "    E. Aesthetics specific to plot type  \n",
        "  \n",
        "Using aesthetics with a bit of cleverness can lead to interesting insights about a data set. Don't over do it! Too many colors, shapes and sizes can be confusing, obfuscating rather than enlightening.\n"
      ]
    },
    {
      "cell_type": "markdown",
      "source": [
        "\n",
        "\n",
        "---\n",
        "\n"
      ],
      "metadata": {
        "id": "v59VnP0TPIj4"
      }
    },
    {
      "cell_type": "markdown",
      "source": [
        "### A. Color\n",
        "\n",
        "Color can be used to view an additional dimension on a scatter plot. A categorical factor can be shown using different colors for the different categories.\n",
        "\n",
        "*****\n",
        "**Caution!** Make sure you use choose a palette with distinctive colors for each cateogry. Too many categories using similar colors are invariably hard to see and imposible to interpret.\n",
        "****\n"
      ],
      "metadata": {
        "id": "Wt6BUsPDPGPh"
      }
    },
    {
      "cell_type": "markdown",
      "source": [
        "The code in the cell below uses the ``hue`` argument to add a third dimension, ``fuel-type`` to a scatter plot. A custome color palette created as a dictionary and is also specified in the Seaborn `lmplot()` arguments.  \n",
        "  \n",
        "Additional refinements are made to the graphic object (`g`) that results from invoking the Seaborn `lmplot()` method.  \n",
        ""
      ],
      "metadata": {
        "id": "3dXstuJRSXTw"
      }
    },
    {
      "cell_type": "code",
      "source": [
        "# Define the color palette explicitly for the fuel types\n",
        "palette_dict = {'gas': 'red', 'diesel': 'blue'}\n",
        "\n",
        "# Create the lmplot with the specified palette\n",
        "g = sns.lmplot(x='city-mpg', y='price',\n",
        "               data=auto_prices,\n",
        "               hue=\"fuel-type\",\n",
        "               palette=palette_dict, fit_reg=False,\n",
        "               height=6, aspect=(10/6))  # 'height' and 'aspect' replace 'figsize'\n",
        "\n",
        "# Set the title and labels using the FacetGrid methods\n",
        "g.set_axis_labels('MPG', 'Price')\n",
        "g.set_titles('Scatter Plot of MPG and Price by Fuel Type\\n1985 U.S. Automobiles')\n",
        "\n",
        "# Use the FacetGrid to format the y-axis ticks with '$'\n",
        "for ax in g.axes.flat:\n",
        "    ax.yaxis.set_major_formatter('${x:1.0f}')\n",
        "    ax.tick_params(axis='y', which='major', labelcolor='green', labelleft=True, labelright=False)\n",
        "\n",
        "\n",
        "plt.show()"
      ],
      "metadata": {
        "id": "VLVkhbS0RUTa"
      },
      "execution_count": null,
      "outputs": []
    },
    {
      "cell_type": "markdown",
      "metadata": {
        "id": "ghgBFprsMgPq"
      },
      "source": [
        "In the above plot we can see that a diesel car is generally more costly at a given fuel efficiency. We can also see that all of the least efficient and most expensive cars have gas engines.\n",
        "\n",
        "If we are willing to utilize more code, we can gain a great deal more control over plot aesthetics. The code above divides the data into subsets and plots them with different aesthetics on the same set of axes."
      ]
    },
    {
      "cell_type": "markdown",
      "source": [
        "To improve this graph we can add some transparency for depth of overlapping points, but that will be done shortly."
      ],
      "metadata": {
        "id": "lsQPreSHQiLf"
      }
    },
    {
      "cell_type": "markdown",
      "source": [
        "\n",
        "\n",
        "---\n",
        "\n"
      ],
      "metadata": {
        "id": "JyQEWK0eYPy8"
      }
    },
    {
      "cell_type": "markdown",
      "metadata": {
        "id": "CDlQOsfDMgPq"
      },
      "source": [
        "### B. Transparency\n",
        "\n",
        "In the scatter plot above, notice there are areas on the plot with dense clusters of points. In particular, there are overlapping points for gas cars with city mpg between 19 and 31 (mpg is apparently reported in integer units).\n",
        "\n",
        "Because of the **over-plotting** effect is hard to see just how many cars are represented in some regions of the plot. Transparency, is a useful aesthetic to overcome over-plotting. Transparency is defined on a scale from 0 (completely transparent, or invisible) to 1 (perfectly opaque). By choosing reasonable transparency values, you can get a feel for how many points are clustered in a small area of a plot.\n",
        "\n",
        "The code in the cell below follows the aforementioned recipe. A transparency argument, ``alpha``, has been added."
      ]
    },
    {
      "cell_type": "code",
      "source": [
        "def auto_color(df, plot_cols):\n",
        "    for col in plot_cols:\n",
        "        fig = plt.figure(figsize=(10, 6))\n",
        "        ax = fig.gca()\n",
        "        temp1 = df.loc[df['fuel-type'] == 'gas']\n",
        "        temp2 = df.loc[df['fuel-type'] == 'diesel']\n",
        "        if temp1.shape[0] > 0:\n",
        "            temp1.plot(kind = 'scatter', x = col, y = 'price' ,\n",
        "                           ax = ax, color = 'Red', alpha = 0.3)\n",
        "        if temp2.shape[0] > 0:\n",
        "            temp2.plot(kind = 'scatter', x = col, y = 'price' ,\n",
        "                           ax = ax, color = 'DarkBlue', alpha = 0.3)\n",
        "        ax.set_title('Scatter Plot of Price vs. ' + col + '\\n1985 U.S. Automobiles')\n",
        "        # Use automatic StrMethodFormatter to prepend '$' on y-axis major ticks\n",
        "        ax.yaxis.set_major_formatter('${x:1.0f}')\n",
        "        # Set y-axis labels in green and to the left of the plot\n",
        "        ax.tick_params(axis='y', which='major', labelcolor='green', labelleft=True, labelright=False)\n",
        "        # Add gridline to the background of the plot\n",
        "        plt.grid(True)\n",
        "        red_patch = mpatches.Patch(color='DarkBlue', label='Diesel')\n",
        "        blue_patch = mpatches.Patch(color='Red', label='Gas')\n",
        "        plt.legend(handles=[red_patch, blue_patch])\n",
        "    return plot_cols\n",
        "\n",
        "print('Transparency example using ', auto_color(auto_prices, ['city-mpg']), ' follows.')"
      ],
      "metadata": {
        "id": "1NXC4_VoaXwx"
      },
      "execution_count": null,
      "outputs": []
    },
    {
      "cell_type": "markdown",
      "metadata": {
        "id": "PqWQRz-TMgPr"
      },
      "source": [
        "With the transparency set to 0.3, you can now better see the density of autos in areas of the plot with significant overplotting. Notice, how changing this aesthetic changes your view of the distributon of data on the city mpg versus price projection. Most gas cars are clustered in a small range of price and fuel efficiency.\n",
        "\n",
        "****\n",
        "#### Exercise\n",
        "So far in our exploration of the automotive data with scatter plots we have focused on the relationship between price and city mpg. In this exercise you will create plots for some additional columns:\n",
        "\n",
        "- Create a new code cell.\n",
        "- Copy the code from the code cell above into the new cell.\n",
        "- Change at least one of the color choices.\n",
        "- Call the ``auto_color`` function with a list of different columns: ``['engine-size', 'curb-weight']``.\n",
        "- Examine the resulting plots. What can you learn from these plots?\n",
        "\n",
        "****"
      ]
    },
    {
      "cell_type": "code",
      "source": [
        "### YOUR SOLUTION CODE CAN GO HERE\n"
      ],
      "metadata": {
        "id": "Lwb6ikF8pHMf"
      },
      "execution_count": null,
      "outputs": []
    },
    {
      "cell_type": "markdown",
      "source": [
        "#### *solution*  "
      ],
      "metadata": {
        "id": "eyqbEx2spH_I"
      }
    },
    {
      "cell_type": "code",
      "execution_count": null,
      "metadata": {
        "id": "egu_G1FbMgPr"
      },
      "outputs": [],
      "source": [
        "def auto_color(df, plot_cols):\n",
        "    for col in plot_cols:\n",
        "        fig = plt.figure(figsize=(10, 6))\n",
        "        ax = fig.gca()\n",
        "        temp1 = df.loc[df['fuel-type'] == 'gas']\n",
        "        temp2 = df.loc[df['fuel-type'] == 'diesel']\n",
        "        if temp1.shape[0] > 0:\n",
        "            temp1.plot(kind='scatter', x=col, y='price', ax=ax, color='Pink', alpha=0.3)\n",
        "        if temp2.shape[0] > 0:\n",
        "            temp2.plot(kind='scatter', x=col, y='price', ax=ax, color='Green', alpha=0.3)\n",
        "        ax.set_title('Scatter Plot of Price vs. ' + col + '\\n1985 U.S. Automobiles')\n",
        "        # Use automatic StrMethodFormatter to prepend '$' on y-axis major ticks\n",
        "        ax.yaxis.set_major_formatter('${x:1.0f}')\n",
        "        # Set y-axis labels in green and to the left of the plot\n",
        "        ax.tick_params(axis='y', which='major', labelcolor='green', labelleft=True, labelright=False)\n",
        "        # Add gridline to the background of the plot\n",
        "        plt.grid(True)\n",
        "        gas_patch = mpatches.Patch(color='Pink', label='Gas')\n",
        "        diesel_patch = mpatches.Patch(color='Green', label='Diesel')\n",
        "        plt.legend(handles=[gas_patch, diesel_patch])\n",
        "    return plot_cols\n",
        "\n",
        "print('Transparency example using ', auto_color(auto_prices, ['engine-size', 'curb-weight']), ' follows.')\n"
      ]
    },
    {
      "cell_type": "markdown",
      "source": [
        "What we can learn from these graphs are that engine-size has a positive correlation to price and with gas compared to diesel, while the oppsoite is true for curb-weight when it comes to gas vs diesel. Curb-weight also tends to be bigger before it starts to ger pricy unlike engine-size."
      ],
      "metadata": {
        "id": "_4HSVVS8RXsA"
      }
    },
    {
      "cell_type": "markdown",
      "source": [
        "\n",
        "\n",
        "---\n",
        "\n"
      ],
      "metadata": {
        "id": "AR9VrZ6UbfjO"
      }
    },
    {
      "cell_type": "markdown",
      "metadata": {
        "id": "sEfvwqVfMgPr"
      },
      "source": [
        "### C. Using Marker Size\n",
        "\n",
        "Another aesthetic, which can project an additional dimension onto a two dimensional plot, is marker size. The code in the cell below uses the scaled size of the marker to indicate engine size."
      ]
    },
    {
      "cell_type": "markdown",
      "source": [
        "In the context of creating a scatter plot, the error message indicates that the 'engine-size' values, which are intended to be used as marker sizes in the plot, are not in a format that can be directly used for this purpose.\n",
        "\n",
        "To use a column like 'engine-size' as marker sizes in a scatter plot, the values in that column need to be appropriately scaled. This means that they should be transformed in a way that allows them to be interpreted as sizes for the markers on the plot.\n",
        "\n",
        "In the original code, the 'engine-size' values were multiplied by 0.5 (s=0.5 * temp1['engine-size']). This multiplication was likely intended to adjust the marker sizes based on the 'engine-size' values. However, this operation might not have resulted in values suitable for marker sizes, leading to the error.\n",
        "\n",
        "To address this issue, we need to ensure that the 'engine-size' values are transformed or scaled properly so that they can be used directly as marker sizes in the scatter plot. This might involve normalization or other transformations to ensure that the values are within an appropriate range for marker sizes"
      ],
      "metadata": {
        "id": "EeXNCIXFnbzL"
      }
    },
    {
      "cell_type": "code",
      "source": [
        "def auto_size(df, plot_cols):\n",
        "    for col in plot_cols:\n",
        "        fig = plt.figure(figsize=(10, 6))\n",
        "        ax = fig.gca()\n",
        "        temp1 = df.loc[df['fuel-type'] == 'gas']\n",
        "        temp2 = df.loc[df['fuel-type'] == 'diesel']\n",
        "        if temp1.shape[0] > 0:\n",
        "            temp1.plot(kind='scatter', x=col, y='price', ax=ax, color='Red', s=0.5 * temp1['engine-size'], alpha=0.3)\n",
        "        if temp2.shape[0] > 0:\n",
        "            temp2.plot(kind='scatter', x=col, y='price', ax=ax, color='DarkBlue', s=0.5 * temp2['engine-size'], alpha=0.3)\n",
        "        ax.set_title('Scatter plot of price vs. ' + col + ' with Engine Size' + '\\n1985 U.S. Automobiles')\n",
        "        # Use automatic StrMethodFormatter to prepend '$' on y-axis major ticks\n",
        "        ax.yaxis.set_major_formatter('${x:1.0f}')\n",
        "        # Set y-axis labels in green and to the left of the plot\n",
        "        ax.tick_params(axis='y', which='major', labelcolor='green', labelleft=True, labelright=False)\n",
        "        # Add gridline to the background of the plot\n",
        "        plt.grid(True)\n",
        "        red_patch = mpatches.Patch(color='DarkBlue', label='Diesel')\n",
        "        blue_patch = mpatches.Patch(color='Red', label='Gas')\n",
        "        plt.legend(handles=[red_patch, blue_patch])\n",
        "    return plot_cols\n",
        "\n",
        "print('Marker size example using ', auto_size(auto_prices, ['city-mpg']), ' follows.')\n"
      ],
      "metadata": {
        "id": "leGhjefTmNnD"
      },
      "execution_count": null,
      "outputs": []
    },
    {
      "cell_type": "markdown",
      "metadata": {
        "id": "CEG3Z7UAMgPr"
      },
      "source": [
        "Examine the above plot noticing the different marker sizes. With larger markers, setting transparency is more necessary than ever.\n",
        "\n",
        "You may notice that the difference in engine size is not always apparent in the above plot. Using marker size can be a bit tricky. Another option is to use the square of the value being projected to determine marker size. The area of the marker is then proportional to the value of interest, rather than the less noticeable marker size.\n",
        "\n",
        "The code in the cell below use the square of engine size to determine marker size.  "
      ]
    },
    {
      "cell_type": "code",
      "source": [
        "def auto_size(df, plot_cols):\n",
        "    for col in plot_cols:\n",
        "        fig = plt.figure(figsize=(8, 8))\n",
        "        ax = fig.gca()\n",
        "        temp1 = df.loc[df['fuel-type'] == 'gas']\n",
        "        temp2 = df.loc[df['fuel-type'] == 'diesel']\n",
        "        if temp1.shape[0] > 0:\n",
        "            temp1.plot(kind='scatter', x=col, y='price', ax=ax, color='Red', s=.02 * temp1['engine-size']* temp1['engine-size'], alpha=0.3)\n",
        "        if temp2.shape[0] > 0:\n",
        "            temp2.plot(kind='scatter', x=col, y='price', ax=ax, color='DarkBlue', s=.02 * temp2['engine-size']* temp2['engine-size'], alpha=0.3)\n",
        "        ax.set_title('Scatter Plot of Price vs. ' + col + ' with Engine Size'  + '\\n1985 U.S. Automobiles')\n",
        "        # Use automatic StrMethodFormatter to prepend '$' on y-axis major ticks\n",
        "        ax.yaxis.set_major_formatter('${x:1.0f}')\n",
        "        # Set y-axis labels in green and to the left of the plot\n",
        "        ax.tick_params(axis='y', which='major', labelcolor='green', labelleft=True, labelright=False)\n",
        "        # Add gridline to the background of the plot\n",
        "        plt.grid(True)\n",
        "        red_patch = mpatches.Patch(color='DarkBlue', label='Diesel')\n",
        "        blue_patch = mpatches.Patch(color='Red', label='Gas')\n",
        "        plt.legend(handles=[red_patch, blue_patch])\n",
        "    return plot_cols\n",
        "\n",
        "print('Marker size-squared example using ', auto_size(auto_prices, ['city-mpg']), ' follows.')"
      ],
      "metadata": {
        "id": "ZO85OnoDp524"
      },
      "execution_count": null,
      "outputs": []
    },
    {
      "cell_type": "markdown",
      "source": [
        "Examine the above plot. Notice that the differences in engine size are much more apparent when we use area to determine marker size."
      ],
      "metadata": {
        "id": "ndkupBlYdSzo"
      }
    },
    {
      "cell_type": "markdown",
      "metadata": {
        "id": "ANvF2dxWMgPs"
      },
      "source": [
        "\n",
        "### D. Using Marker Shapes\n",
        "\n",
        "Marker shape can be used to project an additonal dimension onto a two dimensional plotting surface. Typically, different marker shapes are used to indicate the categories of a categorical variable. As with other aesthetics, don't over do it. Too many similar markers on a chart will only obfuscate the relationships you are trying to show.\n",
        "\n",
        "The code in the cell below uses different marker shapes to indicate standard and turbo aspiration cars."
      ]
    },
    {
      "cell_type": "code",
      "source": [
        "def auto_shape(df):\n",
        "    aspiration = ['turbo', 'turbo', 'std', 'std']\n",
        "    fuel = ['diesel', 'gas', 'diesel', 'gas']\n",
        "    mrks = ['o', 'o', '+', '+']\n",
        "    cols = ['Red', 'DarkBlue', 'Red', 'DarkBlue']\n",
        "    ldg = []\n",
        "    fig = plt.figure(figsize=(10,6))\n",
        "    ax = fig.gca()\n",
        "    for asp, fl, mk, cl in zip(aspiration, fuel, mrks, cols):\n",
        "        temp = df.loc[(df['aspiration'] == asp) & (df['fuel-type'] == fl)]\n",
        "        if temp.shape[0] > 0:\n",
        "            temp.plot(kind = 'scatter', x = 'city-mpg', y = 'price' , ax = ax, color = cl, marker = mk,\n",
        "                       s= .02 * temp['engine-size'] * temp['engine-size'], alpha = 0.5)\n",
        "        ldg.append(mlines.Line2D([], [], color=cl, marker=mk, markersize=10,\n",
        "                                 label=(asp + ' and ' + fl)))\n",
        "    ax.set_title('Scatter Plot of Price vs. City MPG with Marker Size = Engine Size' + '\\n1985 U.S. Automobiles')\n",
        "    # Use automatic StrMethodFormatter to prepend '$' on y-axis major ticks\n",
        "    ax.yaxis.set_major_formatter('${x:1.0f}')\n",
        "    # Set y-axis labels in green and to the left of the plot\n",
        "    ax.tick_params(axis='y', which='major', labelcolor='green', labelleft=True, labelright=False)\n",
        "    # Add gridline to the background of the plot\n",
        "    plt.grid(True)\n",
        "    plt.legend(handles=ldg)\n",
        "    return'Aspiration'\n",
        "\n",
        "print('Marker shape example using ', auto_shape(auto_prices), ' follows.')\n"
      ],
      "metadata": {
        "id": "BeRBhF02r941"
      },
      "execution_count": null,
      "outputs": []
    },
    {
      "cell_type": "markdown",
      "source": [
        "The above plot projects five dimensions onto the two dimensional plot surface: price, city mpg, engine size, aspiration type, and fuel type. It takes some time and effort to fully understand all of the information provided.\n",
        "\n",
        "Some conclusions we can draw from the chart above include:\n",
        "\n",
        "- The most expensive cars have larger, standard aspiration, gas engines.\n",
        "- Most diesel cars use tubo aspiration and these tend to be more expensive.\n",
        "- Turbo aspiration gas engine cars are in the low range of fuel efficiency, but in the middle of the price range.\n",
        "- Some lower cost cars have large gas engines.  \n",
        "  "
      ],
      "metadata": {
        "id": "sHuzS_a1gl-9"
      }
    },
    {
      "cell_type": "markdown",
      "source": [
        "###E. Using Plot-specific Aesthetics  \n",
        "  "
      ],
      "metadata": {
        "id": "4jvFqeZ7gzMr"
      }
    },
    {
      "cell_type": "markdown",
      "source": [
        "\n",
        "\n",
        "---\n",
        "\n"
      ],
      "metadata": {
        "id": "dwaBe20xgn8A"
      }
    },
    {
      "cell_type": "markdown",
      "metadata": {
        "id": "7o8psQH6MgPs"
      },
      "source": [
        "\n",
        "\n",
        "#### Plot specific aesthetics - Histogram bins\n",
        "\n",
        "We have used some fairly general aesthetics to bring forth relationships in our dataset. We will now look at some additional aesthetics which tend to be more chart type specific.\n",
        "\n",
        "As a first example, we will examine the effect of changing the number of bins in a histogram. The code below plots the histogram of engine size using different numbers of bins; the default of 10 bins and 40 bins. This is also the first time we have placed multiple sets of axes on the same figure. The first line of code defines two subplots in one row on the figure.  "
      ]
    },
    {
      "cell_type": "code",
      "execution_count": null,
      "metadata": {
        "id": "z7MKWcCTMgPs"
      },
      "outputs": [],
      "source": [
        "fig, ax = plt.subplots(1, 2, figsize = (16, 6))\n",
        "auto_prices['engine-size'].plot.hist(ax = ax[0])\n",
        "ax[0].set_title('Histogram of auto engine size with 10 bins') # Give the plot a main title\n",
        "ax[0].set_xlabel('Engine size') # Set text for the x axis\n",
        "ax[0].set_ylabel('Number of autos')# Set text for y axis\n",
        "auto_prices['engine-size'].plot.hist(ax = ax[1], bins = 40)\n",
        "ax[1].set_title('Histogram of auto engine size with 40 bins')\n",
        "ax[1].set_xlabel('Engine size')\n",
        "ax[1].set_ylabel('Number of autos')"
      ]
    },
    {
      "cell_type": "markdown",
      "source": [
        "Notice that the histogram with 10 bins gives a smoother result, which may be better for obtaining an overall impression of the distribution. The histogram with 40 bins shows more detail, particularly for the outliers.\n"
      ],
      "metadata": {
        "id": "tyqI_FONhL9n"
      }
    },
    {
      "cell_type": "markdown",
      "source": [
        "\n",
        "\n",
        "---\n",
        "\n"
      ],
      "metadata": {
        "id": "CcHQI0vchcE9"
      }
    },
    {
      "cell_type": "markdown",
      "metadata": {
        "id": "qIhcD3nWMgPs"
      },
      "source": [
        "#### Plot specific aesthetics - Split violin plot\n",
        "\n",
        "The violin plots supported in Seaborn, allow you to group the data by a binary categorical variable. In the code shown below, the ``hue`` argument is used to show the KDEs of standard and turbo aspiration cars, for grouped by the ``x`` axis variable of fuel type. The resulting plot shows three dimensions: price, fuel type and aspiration."
      ]
    },
    {
      "cell_type": "code",
      "execution_count": null,
      "metadata": {
        "id": "Qb43gGI_MgPs"
      },
      "outputs": [],
      "source": [
        "fig = plt.figure(figsize=(10,6))\n",
        "sns.set_style(\"whitegrid\")\n",
        "sns.violinplot(data = auto_prices, x = 'fuel-type', y = 'price', hue=\"aspiration\",  split=True)"
      ]
    },
    {
      "cell_type": "markdown",
      "source": [
        "From the plot above, we can see that standard aspiration gas engine cars have the widest range of prices. We can also see that diesel cars tend to be more expensive. Finally both gas and diesel engine cars with standard aspiration have prices skewed to the lower side."
      ],
      "metadata": {
        "id": "CSLt5ZhxhJDH"
      }
    },
    {
      "cell_type": "markdown",
      "source": [
        "\n",
        "\n",
        "---\n",
        "\n"
      ],
      "metadata": {
        "id": "y1CtmUrehgLo"
      }
    },
    {
      "cell_type": "markdown",
      "metadata": {
        "id": "7m02qXUuMgPs"
      },
      "source": [
        "\n",
        "#### Plot specific aesthetics - Box plots\n",
        "\n",
        "Using Seaborn we can add group data for box plots by ``hue``, much as we just did with violin plots. The code below uses the `hue` aesthetic to group the cars by body style. As before, the `x` axis groups the autos by fuel type."
      ]
    },
    {
      "cell_type": "code",
      "execution_count": null,
      "metadata": {
        "scrolled": true,
        "id": "-MHUSobVMgPt"
      },
      "outputs": [],
      "source": [
        "fig = plt.figure(figsize=(10,6))\n",
        "sns.set_style(\"whitegrid\")\n",
        "sns.boxplot(data = auto_prices, x = 'fuel-type', y = 'price', hue=\"body-style\")"
      ]
    },
    {
      "cell_type": "markdown",
      "metadata": {
        "id": "yzPSByj0MgPt"
      },
      "source": [
        "Adding the color asthetic has highlighted some complex relationships in our data set. Examine the plot, noticing several interesting relationships including:\n",
        "\n",
        "- Gas hardtops have the widest range of price, followed by gas convertibles.\n",
        "- There are few available body styles for diesel cars.\n",
        "- Gas hatchbacks are generally the lowest cost cars, follow by gas and diesel sedans.\n",
        "- There are two diesel cars with unique body types. A different plot or a simple subsetting of the data is required to indentify these body types.\n",
        "\n",
        "****\n",
        "#### Exercise\n",
        "You have now seen a number of examples of using plot aesthetics to highlight various relationships in the data set. In the cell below create and  exectue the code to do the following:\n",
        "\n",
        "- Change the ``x`` group by variable to ``'drive-wheels'``.\n",
        "- Examine the resulting plot. What new information is now apparent? f\n",
        "\n",
        "Hint, copy the code used for the previous violin plot into the new cell.\n",
        "****"
      ]
    },
    {
      "cell_type": "code",
      "source": [
        "### YOUR SOLUTION CODE CAN GO HERE\n"
      ],
      "metadata": {
        "id": "5QSkaRlJo9ut"
      },
      "execution_count": null,
      "outputs": []
    },
    {
      "cell_type": "markdown",
      "source": [
        "#### *solution*  "
      ],
      "metadata": {
        "id": "p36l4vwYo-fk"
      }
    },
    {
      "cell_type": "code",
      "execution_count": null,
      "metadata": {
        "id": "x617vcpMMgPt"
      },
      "outputs": [],
      "source": [
        "fig = plt.figure(figsize=(10,6))\n",
        "\n",
        "sns.set_style(\"whitegrid\")\n",
        "\n",
        "ax = sns.violinplot(data=auto_prices, x='drive-wheels', y='price', hue='fuel-type', split=True)\n",
        "\n",
        "ax.set_title('Violin Plot of Price by Drive Wheels and Aspiration')\n",
        "\n",
        "plt.show()"
      ]
    },
    {
      "cell_type": "markdown",
      "source": [
        "There are, of course, many more aesthetics to apply to specific plot types.  One of the best ways to learn new aesthetic techniques is to be observant of the elements of the plots you see in the work of others, both personal work and commercial work.  \n"
      ],
      "metadata": {
        "id": "uhajSnIRh5Ln"
      }
    },
    {
      "cell_type": "markdown",
      "source": [
        "\n",
        "\n",
        "---\n",
        "\n"
      ],
      "metadata": {
        "id": "C0qqTbMeiL4A"
      }
    },
    {
      "cell_type": "markdown",
      "metadata": {
        "id": "oh4xbGz0MgPt"
      },
      "source": [
        "## III - Faceted (Multiple Axis) Plotting\n",
        "\n",
        "We have explored basic plot types and using aesthetics to project multiple dimensions onto basic plot types. Now we will investige the use of multiple axis plots. Multiple axis plots use an array of axes to display relationships in a data set. Multiple plot axes plots inlcude scatter plot matricies and a technique known as **faceting**. Faceting involves using values of categorical or numeric variables to create a systematic grid of related plots. Faceting goes by several other monikers, including **conditional plotting**, the **method of small multiples** or **lattice plotting**.\n",
        "\n",
        "We will now explore several aspects of these:\n",
        "\n",
        "1. Pair plots with marginal density\n",
        "2. Pairwise scatter plots\n",
        "3. Plots on multiple axes\n",
        "4. Faceted plots\n",
        "\n"
      ]
    },
    {
      "cell_type": "markdown",
      "metadata": {
        "id": "r2C9Qc2GMgPt"
      },
      "source": [
        "### 1. Pair plot with marginal density\n",
        "\n",
        "A simple multi-axis plot type is a scatter plot with the marginal density of each diminsion shown along either the horizontal or vertical axis.\n",
        "\n",
        "The code in the cell below uses the Seaborn ``jointplot`` method to create just such a plot. The columns to be plotted on the x and y axis, along with the name of a pandas data frame or numpy array are specified as arguments. The transparency argument ``alpha`` is specified to deal with overplotting."
      ]
    },
    {
      "cell_type": "code",
      "source": [
        "fig = plt.figure(figsize=(10,6))\n",
        "sns.set_style(\"whitegrid\")\n",
        "sns.jointplot(x='engine-size', y='price', data=auto_prices, alpha=0.3)"
      ],
      "metadata": {
        "id": "m-BtZl0J8aVi"
      },
      "execution_count": null,
      "outputs": []
    },
    {
      "cell_type": "markdown",
      "source": [
        "The above plot shows the relationship between price and engine size. The marginal distribution of price is shown along the y axis and the marginal distribution of engine size is shown along the x axis."
      ],
      "metadata": {
        "id": "IAUZzjJakwIa"
      }
    },
    {
      "cell_type": "markdown",
      "source": [
        "\n",
        "\n",
        "---\n",
        "\n"
      ],
      "metadata": {
        "id": "bhsw-Gw3k8SA"
      }
    },
    {
      "cell_type": "markdown",
      "metadata": {
        "id": "5y-GcZOWMgPt"
      },
      "source": [
        "### 2. Pair wise plots\n",
        "\n",
        "Pair wise plots, also know as plot matrices, allow us to view multiple dimensions of a data set on one plot. A scatter plot is shown of each variable versus all other variables, arranged in an array. Another type of plot, such as a KDE plot, can be shown for each pair of variables. Other plot types can be placed along the diagonal of the array.\n",
        "\n",
        "Code to create a pair wise scatter plot for certain variables in the auto price data set is shown in the cell below. The recipe is:\n",
        "\n",
        "- Define a list of the columns we wish to display.\n",
        "- Use the Seaborn ``pairplot`` method to display the pairwise scatter plots of the subset of the pandas data frame or numpy array. The ``map_upper`` method is used to add KDE plots to the upper part of the plot array.\n",
        "- An argument to ``pairplot`` defines a color palette.\n",
        "- An argument to ``pairplot`` defines KDE plots be placed along the diagonal of the array."
      ]
    },
    {
      "cell_type": "markdown",
      "source": [
        "<b><i><font color='red'>Be patient.  The following code may take a while to run.</font></i></b>"
      ],
      "metadata": {
        "id": "De_DUgdyloKp"
      }
    },
    {
      "cell_type": "code",
      "execution_count": null,
      "metadata": {
        "id": "t-zfJmBnMgPu"
      },
      "outputs": [],
      "source": [
        "num_cols = [\"length\", \"curb-weight\", \"engine-size\", \"horsepower\", \"city-mpg\", \"price\", \"fuel-type\"]\n",
        "sns.pairplot(auto_prices[num_cols], hue='fuel-type', palette=\"Set2\", diag_kind=\"kde\", height=2).map_upper(sns.kdeplot)"
      ]
    },
    {
      "cell_type": "markdown",
      "source": [
        "There is a great deal of information on the above plot. Examine this plot, noticing at least the following:\n",
        "\n",
        "- There are KDE plots grouped by fuel type for each of the variables specified.\n",
        "- Autos with larger length, curb weight, engine size, and horse power are more expensive.\n",
        "- Cars with higher curb weights tend to be longer and have larger engines.\n",
        "- Longer, heavier cars, have larger engines, or more horsepower and are less fuel efficient."
      ],
      "metadata": {
        "id": "cv6dDmkIllWD"
      }
    },
    {
      "cell_type": "markdown",
      "source": [
        "\n",
        "\n",
        "---\n",
        "\n"
      ],
      "metadata": {
        "id": "26_R_JYhlmH-"
      }
    },
    {
      "cell_type": "markdown",
      "metadata": {
        "id": "0BH7MmFIMgPu"
      },
      "source": [
        "### 3. Plots on multiple axes\n",
        "\n",
        "In a previous exercise you created a first plot with multiple sets of axes. We will now extend this concept to a two dimensional array of axes. Data plotted in each set of axes in the array can be subsetted or grouped by one or more variables. Thus, the two dimensional grid is a method for projecting at least two additonal dimensions of the data set onto the two dimensional plot surface.  \n",
        "\n",
        "The function defined in the cell below creates a two dimensional array of histograms. The recipe for this function is:\n",
        "\n",
        "- Define four arguments for the funciton, the pandas data frame, the column to plot in the histograms, the variable to group by in the horizontal direction and the varible to group by in the vertical direction.\n",
        "- A figure with a 2x2 array of axes is defined using the 'subplots' method.\n",
        "- The unique values of the x and y axes group by variables are obtained.\n",
        "- A pair of loops interate over the unique values of the x and y axes group by variables.\n",
        "- The data are subset by the values of the x and y axes group by variables, and the plot method exectued. Note a single element of the axes array is used for each plot.\n",
        "- Other attributes are defined for the axes set being plotted.  "
      ]
    },
    {
      "cell_type": "code",
      "source": [
        "def plot_multi(df, col, xcol, ycol):\n",
        "    fig, ax = plt.subplots(2, 2, figsize=(12, 12))\n",
        "    xcols = df[xcol].unique()\n",
        "    ycols = df[ycol].unique()\n",
        "    for i, xcl in enumerate(xcols):\n",
        "        for j, ycl in enumerate(ycols):\n",
        "            df.loc[(df[xcol] == xcl) & (df[ycol] == ycl), col].plot.hist(ax=ax[i, j], bins=30)\n",
        "            ax[i, j].set_title('Histogram of ' + col + ' with ' + xcol + ' = ' + xcl + '\\n and ' + ycol + ' = ' + ycl)\n",
        "            ax[i, j].set_xlabel(col)\n",
        "\n",
        "plot_multi(auto_prices, 'price', 'aspiration', 'fuel-type')\n"
      ],
      "metadata": {
        "id": "bnyLYxhKb-KT"
      },
      "execution_count": null,
      "outputs": []
    },
    {
      "cell_type": "markdown",
      "source": [
        "Examine the plots above and notice the following:\n",
        " - The price of standard aspiration cars is skewed to the low end.\n",
        " - The price of turbo aspriation cars is fairly uniform over a wide range.\n"
      ],
      "metadata": {
        "id": "ATGS8meQl6fx"
      }
    },
    {
      "cell_type": "markdown",
      "source": [
        "\n",
        "\n",
        "---\n",
        "\n"
      ],
      "metadata": {
        "id": "70c3jTnkl9Ln"
      }
    },
    {
      "cell_type": "markdown",
      "metadata": {
        "id": "lpKPjp9GMgPu"
      },
      "source": [
        "\n",
        "### 4. Facet plots\n",
        "\n",
        "In the previous example we created an array of plots by explicitly defining the axes or subplots. The Seaborn package allows us to create the same time of faceted plots with much less code, but with a bit less control. The code in the cell below does just this, following this recipe:\n",
        "\n",
        "- A ``FacetGrid`` is defined for the data set. In this case we have only one facet (group by variable), across columns.\n",
        "- The ``map`` method is applied to the facet grid with a plot type specified.\n",
        "- In this case, the the plot type uses the ``regplot`` method to create a scatter plot."
      ]
    },
    {
      "cell_type": "code",
      "execution_count": null,
      "metadata": {
        "scrolled": true,
        "id": "imj1HUEOMgPu"
      },
      "outputs": [],
      "source": [
        "g = sns.FacetGrid(auto_prices, col=\"drive-wheels\")\n",
        "g.map(sns.regplot, \"engine-size\", \"price\", fit_reg = False)"
      ]
    },
    {
      "cell_type": "markdown",
      "metadata": {
        "id": "1NnCyRcEMgPu"
      },
      "source": [
        "The above plot shows the relationship between pricec and engine size for cars with different drive wheel types. Rear wheel drive cars have the wides range of prices and are generally the most expensive.\n",
        "\n",
        "The code in the cell below extends our recipe to include a second dimension for our facet grid. Both a ``row`` and ``col`` agrument are specified for the ``FacetGrid`` method."
      ]
    },
    {
      "cell_type": "code",
      "execution_count": null,
      "metadata": {
        "id": "MfkCpgeRMgPu"
      },
      "outputs": [],
      "source": [
        "g = sns.FacetGrid(auto_prices, col=\"drive-wheels\", row = 'body-style')\n",
        "g.map(sns.regplot, \"engine-size\", \"price\", fit_reg = False)"
      ]
    },
    {
      "cell_type": "markdown",
      "source": [
        "There are four dimensions of the data set projected in the above plot. Some combinations of faceting variables have few or even no cars shown. You can draw a number of conclusions from this display including:\n",
        "\n",
        "- Hatch back and sedans with front wheel drive are clustered at the low end of the price range.\n",
        "- Rear wheel drive sedans and convertibles have a wide range of prices and are generally the most expensive."
      ],
      "metadata": {
        "id": "-FqyBL1-mL7V"
      }
    },
    {
      "cell_type": "markdown",
      "source": [
        "\n",
        "\n",
        "---\n",
        "\n"
      ],
      "metadata": {
        "id": "eRVg4UlnmNDi"
      }
    },
    {
      "cell_type": "markdown",
      "metadata": {
        "id": "If9dg2dvMgPu"
      },
      "source": [
        "\n",
        "### Facet plots with aesthetics\n",
        "\n",
        "We can project other dimensions of our data set onto the two dimensions of our plot surface by using ashetics. The code in the cell below uses the ``hue`` argument to the ``FacetGrid`` method to add a fifth dimension to the scatter plot array."
      ]
    },
    {
      "cell_type": "code",
      "execution_count": null,
      "metadata": {
        "id": "km80J3mhMgPu"
      },
      "outputs": [],
      "source": [
        "g = sns.FacetGrid(auto_prices, col=\"drive-wheels\",\n",
        "                  row = 'body-style', hue = 'fuel-type',\n",
        "                  palette=\"Set2\")\n",
        "g.map(sns.regplot, 'engine-size', 'price', fit_reg = False)"
      ]
    },
    {
      "cell_type": "markdown",
      "metadata": {
        "id": "0VAQSCnYMgPv"
      },
      "source": [
        "Notice that we are now projecting 6 dimension of our data onto the 2-d plotting surface.\n",
        "\n",
        "In the above plot the diesel cars are now highlighted. For the most part, there does not seem to be anything special about diesel cars in this projection.\n",
        "\n",
        "****\n",
        "#### Exercise\n",
        "\n",
        "Now its your turn to try some facetted plotting. Do the following:\n",
        "\n",
        "- Create a new code cell below.\n",
        "- Copy the code used for the previous example into the new cell.\n",
        "- Change the ``x`` axis variable to ``'city-mpg'``.\n",
        "- Examine the resulting plot. What new information is now apparent?\n",
        "****"
      ]
    },
    {
      "cell_type": "code",
      "source": [
        "### YOUR SOLUTION CODE CAN GO HERE\n"
      ],
      "metadata": {
        "id": "dbe0Ya33or9N"
      },
      "execution_count": null,
      "outputs": []
    },
    {
      "cell_type": "markdown",
      "source": [
        "#### *solution*"
      ],
      "metadata": {
        "id": "2KmmjufKozhv"
      }
    },
    {
      "cell_type": "code",
      "source": [
        "plt.figure(figsize=(14, 14))\n",
        "g = sns.FacetGrid(auto_prices, col=\"drive-wheels\", row='body-style', hue='fuel-type', palette=\"Set2\")\n",
        "g.map(sns.regplot, 'city-mpg', 'price', fit_reg=False)\n",
        "plt.subplots_adjust(top=0.9, hspace=0.9, wspace=0.9)\n",
        "g.fig.suptitle('Scatter Plot of Price vs. City MPG with Different Drive Wheels and Body Styles', y=1.02)\n",
        "plt.show()"
      ],
      "metadata": {
        "id": "l2jTAP2bVrL5"
      },
      "execution_count": null,
      "outputs": []
    },
    {
      "cell_type": "markdown",
      "source": [
        "Thank you.    "
      ],
      "metadata": {
        "id": "1_LnUFW7maKv"
      }
    },
    {
      "cell_type": "markdown",
      "source": [
        "\n",
        "\n",
        "---\n",
        "\n"
      ],
      "metadata": {
        "id": "X84WPBs1ma3l"
      }
    },
    {
      "cell_type": "markdown",
      "metadata": {
        "collapsed": true,
        "id": "tM4we1yyMgPv"
      },
      "source": [
        "## Summary\n",
        "\n",
        "We have covered a lot of ground in this tutorial. We have learned quite a bit about the relationships in the auto price data set by creating multiple views to visualize these data.\n",
        "\n",
        "Specifically, in this tutoral we have:\n",
        "\n",
        "- Examined the uses of and methods for creation of several basic plot types using the `matplotlib`, `pandas` and `seaborn` packages.\n",
        "- Used plot aesthetics to project additional dimensions onto a two dimensional plot surface, or to highlight aspects of the relationships in the data.\n",
        "- Used multi-axis and faceted plots to project additional dimensions onto the two dimensional plot surface.\n",
        "\n",
        "Finally, **have fun exploring your data!**"
      ]
    },
    {
      "cell_type": "markdown",
      "metadata": {
        "collapsed": true,
        "id": "KHtGfOr9MgPv"
      },
      "source": [
        "\n",
        "\n",
        "---\n",
        "\n"
      ]
    },
    {
      "cell_type": "markdown",
      "source": [
        "This copy of the notebook has been modified slightly to accommodate class lab requirements.      \n",
        "\n",
        "For the original notebook and related files, see Steve Elston's Github repository at:\n",
        "\n",
        "* https://github.com/StephenElston/ExploringDataWithPython    \n",
        "\n",
        "This notebook is available under a General Public Licence (GPU), details of which may be found at:    \n",
        "\n",
        "* https://github.com/StephenElston/ExploringDataWithPython/blob/master/LICENSE    \n"
      ],
      "metadata": {
        "id": "eAt8QSzUObKg"
      }
    },
    {
      "cell_type": "markdown",
      "source": [
        "\n",
        "\n",
        "---\n",
        "\n"
      ],
      "metadata": {
        "id": "tS6IdCGgOelJ"
      }
    }
  ],
  "metadata": {
    "anaconda-cloud": {},
    "kernelspec": {
      "display_name": "Python 3",
      "language": "python",
      "name": "python3"
    },
    "language_info": {
      "codemirror_mode": {
        "name": "ipython",
        "version": 3
      },
      "file_extension": ".py",
      "mimetype": "text/x-python",
      "name": "python",
      "nbconvert_exporter": "python",
      "pygments_lexer": "ipython3",
      "version": "3.7.3"
    },
    "colab": {
      "provenance": [],
      "collapsed_sections": [
        "0VAQSCnYMgPv",
        "2KmmjufKozhv"
      ],
      "include_colab_link": true
    }
  },
  "nbformat": 4,
  "nbformat_minor": 0
}